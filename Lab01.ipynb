{
 "cells": [
  {
   "cell_type": "code",
   "execution_count": 1,
   "metadata": {},
   "outputs": [],
   "source": [
    "import numpy as np\n",
    "import pandas as pd\n",
    "\n",
    "from selenium import webdriver\n",
    "from selenium.webdriver.common.keys import Keys\n",
    "from selenium.webdriver.common.by import By\n",
    "from selenium.webdriver.support.wait import WebDriverWait\n",
    "from selenium.webdriver.support import expected_conditions as EC"
   ]
  },
  {
   "cell_type": "code",
   "execution_count": 6,
   "metadata": {},
   "outputs": [
    {
     "data": {
      "text/plain": [
       "[         #  Country, Other  Total Cases  New Cases  Total Deaths  New Deaths  \\\n",
       " 0      NaN           World    679503595     9956.0     6797250.0        13.0   \n",
       " 1      1.0             USA    105169945        NaN     1144441.0         NaN   \n",
       " 2      2.0           India     44685799        NaN      530764.0         NaN   \n",
       " 3      3.0          France     39608954        NaN      164877.0         NaN   \n",
       " 4      4.0         Germany     38111063        NaN      167812.0         NaN   \n",
       " ..     ...             ...          ...        ...           ...         ...   \n",
       " 228  228.0    Vatican City           29        NaN           NaN         NaN   \n",
       " 229  229.0  Western Sahara           10        NaN           1.0         NaN   \n",
       " 230  230.0      MS Zaandam            9        NaN           2.0         NaN   \n",
       " 231  231.0         Tokelau            5        NaN           NaN         NaN   \n",
       " 232    NaN          Total:    679503595     9956.0     6797250.0        13.0   \n",
       " \n",
       "      Total Recovered  New Recovered  Active Cases  Serious, Critical  \\\n",
       " 0        652303024.0        26330.0    20403321.0            40561.0   \n",
       " 1        102567861.0            NaN     1457643.0             2588.0   \n",
       " 2         44152945.0            NaN        2090.0                NaN   \n",
       " 3         39374891.0            NaN       69186.0              869.0   \n",
       " 4         37658600.0         3800.0      284651.0                NaN   \n",
       " ..               ...            ...           ...                ...   \n",
       " 228             29.0            NaN           0.0                NaN   \n",
       " 229              9.0            NaN           0.0                NaN   \n",
       " 230              7.0            NaN           0.0                NaN   \n",
       " 231              NaN            NaN           5.0                NaN   \n",
       " 232      652303024.0        26330.0    20403321.0            40561.0   \n",
       " \n",
       "      Tot Cases/ 1M pop  Deaths/ 1M pop   Total Tests  Tests/  1M pop  \\\n",
       " 0              87174.0           872.0           NaN             NaN   \n",
       " 1             314123.0          3418.0  1.164028e+09       3476731.0   \n",
       " 2              31768.0           377.0  9.183245e+08        652854.0   \n",
       " 3             603938.0          2514.0  2.714902e+08       4139547.0   \n",
       " 4             454333.0          2001.0  1.223324e+08       1458359.0   \n",
       " ..                 ...             ...           ...             ...   \n",
       " 228            36295.0             NaN           NaN             NaN   \n",
       " 229               16.0             2.0           NaN             NaN   \n",
       " 230                NaN             NaN           NaN             NaN   \n",
       " 231             3628.0             NaN           NaN             NaN   \n",
       " 232            87174.0           872.0           NaN             NaN   \n",
       " \n",
       "        Population  \n",
       " 0             NaN  \n",
       " 1    3.348053e+08  \n",
       " 2    1.406632e+09  \n",
       " 3    6.558452e+07  \n",
       " 4    8.388360e+07  \n",
       " ..            ...  \n",
       " 228  7.990000e+02  \n",
       " 229  6.261610e+05  \n",
       " 230           NaN  \n",
       " 231  1.378000e+03  \n",
       " 232           NaN  \n",
       " \n",
       " [233 rows x 15 columns]]"
      ]
     },
     "metadata": {},
     "output_type": "display_data"
    },
    {
     "name": "stdout",
     "output_type": "stream",
     "text": [
      "Get it\n"
     ]
    }
   ],
   "source": [
    "driver = webdriver.Chrome()\n",
    "driver.maximize_window()\n",
    "\n",
    "driver.get(\"https://www.worldometers.info/coronavirus/#main_table\")\n",
    "try:\n",
    "    element = WebDriverWait(driver, 10).until(\n",
    "        EC.presence_of_element_located((By.ID, \"main_table_countries_today\"))\n",
    "    )\n",
    "    \n",
    "    df = pd.read_html(element.get_attribute('outerHTML'))\n",
    "    display(df)\n",
    "    \n",
    "    print('Get it')\n",
    "except:\n",
    "    print('Cannot get values')\n",
    "finally:\n",
    "    driver.quit()"
   ]
  }
 ],
 "metadata": {
  "kernelspec": {
   "display_name": "ds_env",
   "language": "python",
   "name": "python3"
  },
  "language_info": {
   "codemirror_mode": {
    "name": "ipython",
    "version": 3
   },
   "file_extension": ".py",
   "mimetype": "text/x-python",
   "name": "python",
   "nbconvert_exporter": "python",
   "pygments_lexer": "ipython3",
   "version": "3.10.9"
  },
  "orig_nbformat": 4,
  "vscode": {
   "interpreter": {
    "hash": "5a39266e253d2232bdcfea4787bc8a2bea12a000d699c6a176931f88f75ea162"
   }
  }
 },
 "nbformat": 4,
 "nbformat_minor": 2
}
