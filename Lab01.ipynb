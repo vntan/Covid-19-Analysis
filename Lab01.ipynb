{
 "cells": [
  {
   "attachments": {},
   "cell_type": "markdown",
   "metadata": {},
   "source": [
    "# LAB 01: MỐI QUAN HỆ CỦA DỮ LIỆU"
   ]
  },
  {
   "attachments": {},
   "cell_type": "markdown",
   "metadata": {},
   "source": [
    "## 1. Thông tin nhóm"
   ]
  },
  {
   "attachments": {},
   "cell_type": "markdown",
   "metadata": {},
   "source": [
    "| MSSV     | HỌ VÀ TÊN          |\n",
    "|:--------:|:-------------------|\n",
    "| 20127323 | Võ Nhật Tân        |\n",
    "| 20127447 | Ngô Đức Bảo        |\n",
    "| 20127275 | Lê Nguyễn Nhật Phú |\n",
    "| 20127681 | Nguyễn Thiên Phúc  |\n"
   ]
  },
  {
   "attachments": {},
   "cell_type": "markdown",
   "metadata": {},
   "source": [
    "## 2. Lấy thông tin từ website"
   ]
  },
  {
   "cell_type": "code",
   "execution_count": 3,
   "metadata": {},
   "outputs": [],
   "source": [
    "import numpy as np\n",
    "import pandas as pd\n",
    "\n",
    "from selenium import webdriver\n",
    "from selenium.webdriver.common.keys import Keys\n",
    "from selenium.webdriver.common.by import By\n",
    "from selenium.webdriver.support.wait import WebDriverWait\n",
    "from selenium.webdriver.support import expected_conditions as EC\n",
    "from datetime import date, datetime\n",
    "\n",
    "np.set_printoptions(formatter=dict(float='{:0.2f}'.format))"
   ]
  },
  {
   "cell_type": "code",
   "execution_count": 4,
   "metadata": {},
   "outputs": [],
   "source": [
    "driver = webdriver.Chrome()\n",
    "driver.maximize_window()\n",
    "\n",
    "driver.get(\"https://www.worldometers.info/coronavirus/#main_table\")\n",
    "\n",
    "today = date.today()\n",
    "element = WebDriverWait(driver, 10).until(\n",
    "    EC.presence_of_element_located((By.ID, \"main_table_countries_today\"))\n",
    ")\n",
    "\n",
    "updated_date = driver.find_element(By.CSS_SELECTOR, 'div#page-top+div')\n",
    "today = datetime.strptime(updated_date.text, \"Last updated: %B %d, %Y, %H:%M %Z\")\n",
    "\n",
    "pre_process_html = element.get_attribute('outerHTML').replace('>N/A<', '>-<')\n",
    "\n",
    "df = pd.read_html(pre_process_html, keep_default_na=False)[0]\n",
    "df.to_csv(f'./raw_data/{today.strftime(\"%d-%m-%Y\")+\"_raw\"}.csv', index=False, encoding='UTF-8')\n",
    "\n",
    "driver.quit()"
   ]
  },
  {
   "attachments": {},
   "cell_type": "markdown",
   "metadata": {},
   "source": [
    "## Tiền xử lý dữ liệu"
   ]
  },
  {
   "cell_type": "code",
   "execution_count": null,
   "metadata": {},
   "outputs": [],
   "source": [
    "from os import listdir"
   ]
  },
  {
   "cell_type": "code",
   "execution_count": null,
   "metadata": {},
   "outputs": [],
   "source": [
    "def pre_process_file(file_path):\n",
    "    df = pd.read_csv(file_path)\n",
    "\n",
    "    #Rename the abnormal column's name\n",
    "    df.rename(columns={'Tot\\xa0Cases/ 1M pop': 'Tot Cases/ 1M pop'}, inplace=True)\n",
    "\n",
    "    #Drop the unnecessary columns\n",
    "    df.drop(columns=['#', 'Serious, Critical'], inplace=True)\n",
    "\n",
    "    #Drop the total row\n",
    "    df = df.drop(labels=[len(df) - 1]).reset_index(drop=True)\n",
    "    \n",
    "    #Fill the null value with 0 and replace the NA (-) values by np.nan\n",
    "    df.fillna(0, inplace=True)\n",
    "    df.replace(to_replace='-', value=np.nan, inplace=True)\n",
    "\n",
    "    #Change the type of columns\n",
    "    columns_name = df.select_dtypes(include='object').columns\n",
    "    for column_name in columns_name:\n",
    "        if column_name == 'Country, Other': continue\n",
    "        df[column_name] = df[column_name].astype('float')\n",
    "\n",
    "    #Check if the data has inconsistent values\n",
    "    sub_df = df.iloc[1:-1, :]\n",
    "\n",
    "    cal_tot = round(sub_df['Total Cases'] / sub_df['Population'] * 10**6).replace([np.inf, -np.inf], 0)\n",
    "    cal_deaths = round(sub_df['Total Deaths'] / sub_df['Population'] * 10**6).replace([np.inf, -np.inf], 0)\n",
    "\n",
    "    if not np.all(sub_df['Tot Cases/ 1M pop'] == cal_tot):\n",
    "        raise Exception(f\"Data in the Tot Cases/ 1M pop column is not consistent\")\n",
    "    \n",
    "    if not np.all(sub_df['Deaths/ 1M pop'] == cal_deaths):\n",
    "        raise Exception(f\"Data in the Total Deaths column is not consistent\")\n",
    "\n",
    "    return df"
   ]
  },
  {
   "cell_type": "code",
   "execution_count": null,
   "metadata": {},
   "outputs": [],
   "source": [
    "#Apply the preprocess to all the file in raw_data and save them to data folder\n",
    "files = [f for f in listdir('./raw_data/')]\n",
    "\n",
    "for file in files:\n",
    "    url = './raw_data/' + file\n",
    "\n",
    "    df = pre_process_file(url)\n",
    "    df.to_csv(f'./data/' + file.replace('_raw', ''), index=False, encoding='UTF-8')"
   ]
  },
  {
   "cell_type": "markdown",
   "metadata": {},
   "source": [
    "## Trực quan hóa dữ liệu"
   ]
  },
  {
   "cell_type": "code",
   "execution_count": null,
   "metadata": {},
   "outputs": [],
   "source": []
  }
 ],
 "metadata": {
  "kernelspec": {
   "display_name": "ds_env",
   "language": "python",
   "name": "python3"
  },
  "language_info": {
   "codemirror_mode": {
    "name": "ipython",
    "version": 3
   },
   "file_extension": ".py",
   "mimetype": "text/x-python",
   "name": "python",
   "nbconvert_exporter": "python",
   "pygments_lexer": "ipython3",
   "version": "3.10.9"
  },
  "orig_nbformat": 4,
  "vscode": {
   "interpreter": {
    "hash": "5a39266e253d2232bdcfea4787bc8a2bea12a000d699c6a176931f88f75ea162"
   }
  }
 },
 "nbformat": 4,
 "nbformat_minor": 2
}
