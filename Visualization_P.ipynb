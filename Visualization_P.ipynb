{
 "cells": [
  {
   "attachments": {},
   "cell_type": "markdown",
   "metadata": {},
   "source": [
    "# LAB 01: MỐI QUAN HỆ CỦA DỮ LIỆU"
   ]
  },
  {
   "attachments": {},
   "cell_type": "markdown",
   "metadata": {},
   "source": [
    "## 1. Thông tin nhóm"
   ]
  },
  {
   "attachments": {},
   "cell_type": "markdown",
   "metadata": {},
   "source": [
    "| MSSV     | HỌ VÀ TÊN          |\n",
    "|:--------:|:-------------------|\n",
    "| 20127323 | Võ Nhật Tân        |\n",
    "| 20127447 | Ngô Đức Bảo        |\n",
    "| 20127275 | Lê Nguyễn Nhật Phú |\n",
    "| 20127681 | Nguyễn Thiên Phúc  |\n"
   ]
  },
  {
   "attachments": {},
   "cell_type": "markdown",
   "metadata": {},
   "source": [
    "## 2. Lấy thông tin từ website"
   ]
  },
  {
   "cell_type": "code",
   "execution_count": 4,
   "metadata": {},
   "outputs": [],
   "source": [
    "import numpy as np\n",
    "import pandas as pd\n",
    "import seaborn as sns\n",
    "import matplotlib.pyplot as plt\n",
    "import plotly.express as px \n",
    "from selenium import webdriver\n",
    "from selenium.webdriver.common.keys import Keys\n",
    "from selenium.webdriver.common.by import By\n",
    "from selenium.webdriver.support.wait import WebDriverWait\n",
    "from selenium.webdriver.support import expected_conditions as EC\n",
    "from datetime import datetime, timedelta\n",
    "from bs4 import BeautifulSoup\n",
    "\n",
    "np.set_printoptions(formatter=dict(float='{:0.2f}'.format))"
   ]
  },
  {
   "cell_type": "markdown",
   "metadata": {},
   "source": [
    "## Trực quan hóa dữ liệu"
   ]
  },
  {
   "attachments": {},
   "cell_type": "markdown",
   "metadata": {},
   "source": [
    "## Sử dụng dữ liệu của khu vực Châu Á trong vòng 7 ngày (từ 26/2/2023 đến 4/3/2023)"
   ]
  },
  {
   "cell_type": "code",
   "execution_count": 5,
   "metadata": {},
   "outputs": [],
   "source": [
    "df1 = pd.read_csv('./data/26-02-2023.csv')\n",
    "df2 = pd.read_csv('./data/27-02-2023.csv')\n",
    "df3 = pd.read_csv('./data/28-02-2023.csv')\n",
    "df4 = pd.read_csv('./data/01-03-2023.csv')\n",
    "df5 = pd.read_csv('./data/02-03-2023.csv')\n",
    "df6 = pd.read_csv('./data/03-03-2023.csv')\n",
    "df7 = pd.read_csv('./data/04-03-2023.csv')"
   ]
  },
  {
   "attachments": {},
   "cell_type": "markdown",
   "metadata": {},
   "source": [
    "## Tiền xử lý"
   ]
  },
  {
   "cell_type": "code",
   "execution_count": 6,
   "metadata": {},
   "outputs": [
    {
     "name": "stderr",
     "output_type": "stream",
     "text": [
      "C:\\Users\\KuunVo\\AppData\\Local\\Temp\\ipykernel_10924\\2925247170.py:3: FutureWarning: The frame.append method is deprecated and will be removed from pandas in a future version. Use pandas.concat instead.\n",
      "  df = df.append(df2[df2['Continent'] == 'Asia'])\n",
      "C:\\Users\\KuunVo\\AppData\\Local\\Temp\\ipykernel_10924\\2925247170.py:5: FutureWarning: The frame.append method is deprecated and will be removed from pandas in a future version. Use pandas.concat instead.\n",
      "  df = df.append(df3[df3['Continent'] == 'Asia'])\n",
      "C:\\Users\\KuunVo\\AppData\\Local\\Temp\\ipykernel_10924\\2925247170.py:7: FutureWarning: The frame.append method is deprecated and will be removed from pandas in a future version. Use pandas.concat instead.\n",
      "  df = df.append(df4[df4['Continent'] == 'Asia'])\n",
      "C:\\Users\\KuunVo\\AppData\\Local\\Temp\\ipykernel_10924\\2925247170.py:9: FutureWarning: The frame.append method is deprecated and will be removed from pandas in a future version. Use pandas.concat instead.\n",
      "  df = df.append(df5[df5['Continent'] == 'Asia'])\n",
      "C:\\Users\\KuunVo\\AppData\\Local\\Temp\\ipykernel_10924\\2925247170.py:11: FutureWarning: The frame.append method is deprecated and will be removed from pandas in a future version. Use pandas.concat instead.\n",
      "  df = df.append(df6[df6['Continent'] == 'Asia'])\n",
      "C:\\Users\\KuunVo\\AppData\\Local\\Temp\\ipykernel_10924\\2925247170.py:13: FutureWarning: The frame.append method is deprecated and will be removed from pandas in a future version. Use pandas.concat instead.\n",
      "  df = df.append(df7[df7['Continent'] == 'Asia'])\n"
     ]
    },
    {
     "data": {
      "text/html": [
       "<div>\n",
       "<style scoped>\n",
       "    .dataframe tbody tr th:only-of-type {\n",
       "        vertical-align: middle;\n",
       "    }\n",
       "\n",
       "    .dataframe tbody tr th {\n",
       "        vertical-align: top;\n",
       "    }\n",
       "\n",
       "    .dataframe thead th {\n",
       "        text-align: right;\n",
       "    }\n",
       "</style>\n",
       "<table border=\"1\" class=\"dataframe\">\n",
       "  <thead>\n",
       "    <tr style=\"text-align: right;\">\n",
       "      <th></th>\n",
       "      <th>Country,Other</th>\n",
       "      <th>TotalCases</th>\n",
       "      <th>NewCases</th>\n",
       "      <th>TotalDeaths</th>\n",
       "      <th>NewDeaths</th>\n",
       "      <th>TotalRecovered</th>\n",
       "      <th>NewRecovered</th>\n",
       "      <th>ActiveCases</th>\n",
       "      <th>Tot Cases/1M pop</th>\n",
       "      <th>Deaths/1M pop</th>\n",
       "      <th>TotalTests</th>\n",
       "      <th>Tests/ 1M pop</th>\n",
       "      <th>Population</th>\n",
       "      <th>Continent</th>\n",
       "      <th>Date</th>\n",
       "    </tr>\n",
       "  </thead>\n",
       "  <tbody>\n",
       "    <tr>\n",
       "      <th>0</th>\n",
       "      <td>Vietnam</td>\n",
       "      <td>11526901</td>\n",
       "      <td>10.0</td>\n",
       "      <td>43186.0</td>\n",
       "      <td>0.0</td>\n",
       "      <td>10614760.0</td>\n",
       "      <td>1.0</td>\n",
       "      <td>868955.0</td>\n",
       "      <td>116488.0</td>\n",
       "      <td>436.0</td>\n",
       "      <td>85826548.0</td>\n",
       "      <td>867342.0</td>\n",
       "      <td>9.895354e+07</td>\n",
       "      <td>Asia</td>\n",
       "      <td>26-02-2023</td>\n",
       "    </tr>\n",
       "    <tr>\n",
       "      <th>1</th>\n",
       "      <td>India</td>\n",
       "      <td>44686371</td>\n",
       "      <td>169.0</td>\n",
       "      <td>530771.0</td>\n",
       "      <td>1.0</td>\n",
       "      <td>44153343.0</td>\n",
       "      <td>140.0</td>\n",
       "      <td>2257.0</td>\n",
       "      <td>31768.0</td>\n",
       "      <td>377.0</td>\n",
       "      <td>918535118.0</td>\n",
       "      <td>653003.0</td>\n",
       "      <td>1.406632e+09</td>\n",
       "      <td>Asia</td>\n",
       "      <td>27-02-2023</td>\n",
       "    </tr>\n",
       "    <tr>\n",
       "      <th>2</th>\n",
       "      <td>Japan</td>\n",
       "      <td>33190564</td>\n",
       "      <td>5598.0</td>\n",
       "      <td>72320.0</td>\n",
       "      <td>52.0</td>\n",
       "      <td>21683904.0</td>\n",
       "      <td>1535.0</td>\n",
       "      <td>11434340.0</td>\n",
       "      <td>264288.0</td>\n",
       "      <td>576.0</td>\n",
       "      <td>95014492.0</td>\n",
       "      <td>756576.0</td>\n",
       "      <td>1.255848e+08</td>\n",
       "      <td>Asia</td>\n",
       "      <td>27-02-2023</td>\n",
       "    </tr>\n",
       "    <tr>\n",
       "      <th>3</th>\n",
       "      <td>S. Korea</td>\n",
       "      <td>30502904</td>\n",
       "      <td>4026.0</td>\n",
       "      <td>33961.0</td>\n",
       "      <td>15.0</td>\n",
       "      <td>30278033.0</td>\n",
       "      <td>0.0</td>\n",
       "      <td>190910.0</td>\n",
       "      <td>594252.0</td>\n",
       "      <td>662.0</td>\n",
       "      <td>15804065.0</td>\n",
       "      <td>307892.0</td>\n",
       "      <td>5.132990e+07</td>\n",
       "      <td>Asia</td>\n",
       "      <td>27-02-2023</td>\n",
       "    </tr>\n",
       "    <tr>\n",
       "      <th>4</th>\n",
       "      <td>Turkey</td>\n",
       "      <td>17042722</td>\n",
       "      <td>0.0</td>\n",
       "      <td>101492.0</td>\n",
       "      <td>0.0</td>\n",
       "      <td>NaN</td>\n",
       "      <td>NaN</td>\n",
       "      <td>NaN</td>\n",
       "      <td>199186.0</td>\n",
       "      <td>1186.0</td>\n",
       "      <td>162743369.0</td>\n",
       "      <td>1902052.0</td>\n",
       "      <td>8.556198e+07</td>\n",
       "      <td>Asia</td>\n",
       "      <td>27-02-2023</td>\n",
       "    </tr>\n",
       "    <tr>\n",
       "      <th>5</th>\n",
       "      <td>Vietnam</td>\n",
       "      <td>11526905</td>\n",
       "      <td>4.0</td>\n",
       "      <td>43186.0</td>\n",
       "      <td>0.0</td>\n",
       "      <td>10614763.0</td>\n",
       "      <td>3.0</td>\n",
       "      <td>868956.0</td>\n",
       "      <td>116488.0</td>\n",
       "      <td>436.0</td>\n",
       "      <td>85826548.0</td>\n",
       "      <td>867342.0</td>\n",
       "      <td>9.895354e+07</td>\n",
       "      <td>Asia</td>\n",
       "      <td>27-02-2023</td>\n",
       "    </tr>\n",
       "    <tr>\n",
       "      <th>6</th>\n",
       "      <td>Taiwan</td>\n",
       "      <td>10033107</td>\n",
       "      <td>7744.0</td>\n",
       "      <td>17908.0</td>\n",
       "      <td>44.0</td>\n",
       "      <td>9690990.0</td>\n",
       "      <td>23339.0</td>\n",
       "      <td>324209.0</td>\n",
       "      <td>419996.0</td>\n",
       "      <td>750.0</td>\n",
       "      <td>30742304.0</td>\n",
       "      <td>1286903.0</td>\n",
       "      <td>2.388860e+07</td>\n",
       "      <td>Asia</td>\n",
       "      <td>27-02-2023</td>\n",
       "    </tr>\n",
       "    <tr>\n",
       "      <th>7</th>\n",
       "      <td>Iran</td>\n",
       "      <td>7567824</td>\n",
       "      <td>122.0</td>\n",
       "      <td>144845.0</td>\n",
       "      <td>3.0</td>\n",
       "      <td>7339283.0</td>\n",
       "      <td>78.0</td>\n",
       "      <td>83696.0</td>\n",
       "      <td>87975.0</td>\n",
       "      <td>1684.0</td>\n",
       "      <td>55034937.0</td>\n",
       "      <td>639771.0</td>\n",
       "      <td>8.602284e+07</td>\n",
       "      <td>Asia</td>\n",
       "      <td>27-02-2023</td>\n",
       "    </tr>\n",
       "    <tr>\n",
       "      <th>8</th>\n",
       "      <td>Indonesia</td>\n",
       "      <td>6735780</td>\n",
       "      <td>152.0</td>\n",
       "      <td>160911.0</td>\n",
       "      <td>3.0</td>\n",
       "      <td>6571457.0</td>\n",
       "      <td>270.0</td>\n",
       "      <td>3412.0</td>\n",
       "      <td>24131.0</td>\n",
       "      <td>576.0</td>\n",
       "      <td>114158919.0</td>\n",
       "      <td>408975.0</td>\n",
       "      <td>2.791345e+08</td>\n",
       "      <td>Asia</td>\n",
       "      <td>27-02-2023</td>\n",
       "    </tr>\n",
       "    <tr>\n",
       "      <th>9</th>\n",
       "      <td>Malaysia</td>\n",
       "      <td>5042585</td>\n",
       "      <td>190.0</td>\n",
       "      <td>36957.0</td>\n",
       "      <td>0.0</td>\n",
       "      <td>4996409.0</td>\n",
       "      <td>177.0</td>\n",
       "      <td>9219.0</td>\n",
       "      <td>151972.0</td>\n",
       "      <td>1114.0</td>\n",
       "      <td>68079467.0</td>\n",
       "      <td>2051756.0</td>\n",
       "      <td>3.318107e+07</td>\n",
       "      <td>Asia</td>\n",
       "      <td>27-02-2023</td>\n",
       "    </tr>\n",
       "  </tbody>\n",
       "</table>\n",
       "</div>"
      ],
      "text/plain": [
       "  Country,Other  TotalCases  NewCases  TotalDeaths  NewDeaths  TotalRecovered  \\\n",
       "0       Vietnam    11526901      10.0      43186.0        0.0      10614760.0   \n",
       "1         India    44686371     169.0     530771.0        1.0      44153343.0   \n",
       "2         Japan    33190564    5598.0      72320.0       52.0      21683904.0   \n",
       "3      S. Korea    30502904    4026.0      33961.0       15.0      30278033.0   \n",
       "4        Turkey    17042722       0.0     101492.0        0.0             NaN   \n",
       "5       Vietnam    11526905       4.0      43186.0        0.0      10614763.0   \n",
       "6        Taiwan    10033107    7744.0      17908.0       44.0       9690990.0   \n",
       "7          Iran     7567824     122.0     144845.0        3.0       7339283.0   \n",
       "8     Indonesia     6735780     152.0     160911.0        3.0       6571457.0   \n",
       "9      Malaysia     5042585     190.0      36957.0        0.0       4996409.0   \n",
       "\n",
       "   NewRecovered  ActiveCases  Tot Cases/1M pop  Deaths/1M pop   TotalTests  \\\n",
       "0           1.0     868955.0          116488.0          436.0   85826548.0   \n",
       "1         140.0       2257.0           31768.0          377.0  918535118.0   \n",
       "2        1535.0   11434340.0          264288.0          576.0   95014492.0   \n",
       "3           0.0     190910.0          594252.0          662.0   15804065.0   \n",
       "4           NaN          NaN          199186.0         1186.0  162743369.0   \n",
       "5           3.0     868956.0          116488.0          436.0   85826548.0   \n",
       "6       23339.0     324209.0          419996.0          750.0   30742304.0   \n",
       "7          78.0      83696.0           87975.0         1684.0   55034937.0   \n",
       "8         270.0       3412.0           24131.0          576.0  114158919.0   \n",
       "9         177.0       9219.0          151972.0         1114.0   68079467.0   \n",
       "\n",
       "   Tests/ 1M pop    Population Continent        Date  \n",
       "0       867342.0  9.895354e+07      Asia  26-02-2023  \n",
       "1       653003.0  1.406632e+09      Asia  27-02-2023  \n",
       "2       756576.0  1.255848e+08      Asia  27-02-2023  \n",
       "3       307892.0  5.132990e+07      Asia  27-02-2023  \n",
       "4      1902052.0  8.556198e+07      Asia  27-02-2023  \n",
       "5       867342.0  9.895354e+07      Asia  27-02-2023  \n",
       "6      1286903.0  2.388860e+07      Asia  27-02-2023  \n",
       "7       639771.0  8.602284e+07      Asia  27-02-2023  \n",
       "8       408975.0  2.791345e+08      Asia  27-02-2023  \n",
       "9      2051756.0  3.318107e+07      Asia  27-02-2023  "
      ]
     },
     "execution_count": 6,
     "metadata": {},
     "output_type": "execute_result"
    }
   ],
   "source": [
    "df = df1[df1['Country,Other'] == 'Vietnam'].copy()\n",
    "df['Date'] = '26-02-2023'\n",
    "df = df.append(df2[df2['Continent'] == 'Asia'])\n",
    "df.loc[df['Date'].isna(), 'Date'] = '27-02-2023'\n",
    "df = df.append(df3[df3['Continent'] == 'Asia'])\n",
    "df.loc[df['Date'].isna(), 'Date'] = '28-02-2023'\n",
    "df = df.append(df4[df4['Continent'] == 'Asia'])\n",
    "df.loc[df['Date'].isna(), 'Date'] = '01-03-2023'\n",
    "df = df.append(df5[df5['Continent'] == 'Asia'])\n",
    "df.loc[df['Date'].isna(), 'Date'] = '02-03-2023'\n",
    "df = df.append(df6[df6['Continent'] == 'Asia'])\n",
    "df.loc[df['Date'].isna(), 'Date'] = '03-03-2023'\n",
    "df = df.append(df7[df7['Continent'] == 'Asia'])\n",
    "df.loc[df['Date'].isna(), 'Date'] = '04-03-2023'\n",
    "\n",
    "df.reset_index(drop=True, inplace=True)\n",
    "\n",
    "df.head(10)"
   ]
  },
  {
   "cell_type": "code",
   "execution_count": 7,
   "metadata": {},
   "outputs": [
    {
     "data": {
      "text/plain": [
       "Country,Other               object\n",
       "TotalCases                   int64\n",
       "NewCases                   float64\n",
       "TotalDeaths                float64\n",
       "NewDeaths                  float64\n",
       "TotalRecovered             float64\n",
       "NewRecovered               float64\n",
       "ActiveCases                float64\n",
       "Tot Cases/1M pop           float64\n",
       "Deaths/1M pop              float64\n",
       "TotalTests                 float64\n",
       "Tests/ 1M pop              float64\n",
       "Population                 float64\n",
       "Continent                   object\n",
       "Date                datetime64[ns]\n",
       "dtype: object"
      ]
     },
     "execution_count": 7,
     "metadata": {},
     "output_type": "execute_result"
    }
   ],
   "source": [
    "df['Date'] = pd.to_datetime(df['Date'], format='%d-%m-%Y')\n",
    "df.dtypes"
   ]
  },
  {
   "cell_type": "code",
   "execution_count": 8,
   "metadata": {},
   "outputs": [],
   "source": [
    "df.isna().sum()\n",
    "df.dropna(inplace=True)"
   ]
  },
  {
   "cell_type": "code",
   "execution_count": 9,
   "metadata": {},
   "outputs": [
    {
     "name": "stderr",
     "output_type": "stream",
     "text": [
      "C:\\Users\\KuunVo\\AppData\\Local\\Temp\\ipykernel_10924\\1785859924.py:1: FutureWarning: Not prepending group keys to the result index of transform-like apply. In the future, the group keys will be included in the index, regardless of whether the applied function returns a like-indexed object.\n",
      "To preserve the previous behavior, use\n",
      "\n",
      "\t>>> .groupby(..., group_keys=False)\n",
      "\n",
      "To adopt the future behavior and silence this warning, use \n",
      "\n",
      "\t>>> .groupby(..., group_keys=True)\n",
      "  df = df.groupby('Country,Other').apply(lambda x: x.sort_values('Date', ascending=True)).reset_index(drop=True)\n"
     ]
    },
    {
     "data": {
      "text/html": [
       "<div>\n",
       "<style scoped>\n",
       "    .dataframe tbody tr th:only-of-type {\n",
       "        vertical-align: middle;\n",
       "    }\n",
       "\n",
       "    .dataframe tbody tr th {\n",
       "        vertical-align: top;\n",
       "    }\n",
       "\n",
       "    .dataframe thead th {\n",
       "        text-align: right;\n",
       "    }\n",
       "</style>\n",
       "<table border=\"1\" class=\"dataframe\">\n",
       "  <thead>\n",
       "    <tr style=\"text-align: right;\">\n",
       "      <th></th>\n",
       "      <th>Country,Other</th>\n",
       "      <th>TotalCases</th>\n",
       "      <th>NewCases</th>\n",
       "      <th>TotalDeaths</th>\n",
       "      <th>NewDeaths</th>\n",
       "      <th>TotalRecovered</th>\n",
       "      <th>NewRecovered</th>\n",
       "      <th>ActiveCases</th>\n",
       "      <th>Tot Cases/1M pop</th>\n",
       "      <th>Deaths/1M pop</th>\n",
       "      <th>TotalTests</th>\n",
       "      <th>Tests/ 1M pop</th>\n",
       "      <th>Population</th>\n",
       "      <th>Continent</th>\n",
       "      <th>Date</th>\n",
       "    </tr>\n",
       "  </thead>\n",
       "  <tbody>\n",
       "    <tr>\n",
       "      <th>0</th>\n",
       "      <td>Vietnam</td>\n",
       "      <td>11526901</td>\n",
       "      <td>10.0</td>\n",
       "      <td>43186.0</td>\n",
       "      <td>0.0</td>\n",
       "      <td>10614760.0</td>\n",
       "      <td>1.0</td>\n",
       "      <td>868955.0</td>\n",
       "      <td>116488.0</td>\n",
       "      <td>436.0</td>\n",
       "      <td>85826548.0</td>\n",
       "      <td>867342.0</td>\n",
       "      <td>9.895354e+07</td>\n",
       "      <td>Asia</td>\n",
       "      <td>2023-02-26</td>\n",
       "    </tr>\n",
       "    <tr>\n",
       "      <th>1</th>\n",
       "      <td>India</td>\n",
       "      <td>44686371</td>\n",
       "      <td>169.0</td>\n",
       "      <td>530771.0</td>\n",
       "      <td>1.0</td>\n",
       "      <td>44153343.0</td>\n",
       "      <td>140.0</td>\n",
       "      <td>2257.0</td>\n",
       "      <td>31768.0</td>\n",
       "      <td>377.0</td>\n",
       "      <td>918535118.0</td>\n",
       "      <td>653003.0</td>\n",
       "      <td>1.406632e+09</td>\n",
       "      <td>Asia</td>\n",
       "      <td>2023-02-27</td>\n",
       "    </tr>\n",
       "    <tr>\n",
       "      <th>2</th>\n",
       "      <td>Japan</td>\n",
       "      <td>33190564</td>\n",
       "      <td>5598.0</td>\n",
       "      <td>72320.0</td>\n",
       "      <td>52.0</td>\n",
       "      <td>21683904.0</td>\n",
       "      <td>1535.0</td>\n",
       "      <td>11434340.0</td>\n",
       "      <td>264288.0</td>\n",
       "      <td>576.0</td>\n",
       "      <td>95014492.0</td>\n",
       "      <td>756576.0</td>\n",
       "      <td>1.255848e+08</td>\n",
       "      <td>Asia</td>\n",
       "      <td>2023-02-27</td>\n",
       "    </tr>\n",
       "    <tr>\n",
       "      <th>3</th>\n",
       "      <td>S. Korea</td>\n",
       "      <td>30502904</td>\n",
       "      <td>4026.0</td>\n",
       "      <td>33961.0</td>\n",
       "      <td>15.0</td>\n",
       "      <td>30278033.0</td>\n",
       "      <td>0.0</td>\n",
       "      <td>190910.0</td>\n",
       "      <td>594252.0</td>\n",
       "      <td>662.0</td>\n",
       "      <td>15804065.0</td>\n",
       "      <td>307892.0</td>\n",
       "      <td>5.132990e+07</td>\n",
       "      <td>Asia</td>\n",
       "      <td>2023-02-27</td>\n",
       "    </tr>\n",
       "    <tr>\n",
       "      <th>4</th>\n",
       "      <td>Vietnam</td>\n",
       "      <td>11526905</td>\n",
       "      <td>4.0</td>\n",
       "      <td>43186.0</td>\n",
       "      <td>0.0</td>\n",
       "      <td>10614763.0</td>\n",
       "      <td>3.0</td>\n",
       "      <td>868956.0</td>\n",
       "      <td>116488.0</td>\n",
       "      <td>436.0</td>\n",
       "      <td>85826548.0</td>\n",
       "      <td>867342.0</td>\n",
       "      <td>9.895354e+07</td>\n",
       "      <td>Asia</td>\n",
       "      <td>2023-02-27</td>\n",
       "    </tr>\n",
       "    <tr>\n",
       "      <th>...</th>\n",
       "      <td>...</td>\n",
       "      <td>...</td>\n",
       "      <td>...</td>\n",
       "      <td>...</td>\n",
       "      <td>...</td>\n",
       "      <td>...</td>\n",
       "      <td>...</td>\n",
       "      <td>...</td>\n",
       "      <td>...</td>\n",
       "      <td>...</td>\n",
       "      <td>...</td>\n",
       "      <td>...</td>\n",
       "      <td>...</td>\n",
       "      <td>...</td>\n",
       "      <td>...</td>\n",
       "    </tr>\n",
       "    <tr>\n",
       "      <th>284</th>\n",
       "      <td>Syria</td>\n",
       "      <td>57467</td>\n",
       "      <td>0.0</td>\n",
       "      <td>3164.0</td>\n",
       "      <td>0.0</td>\n",
       "      <td>54303.0</td>\n",
       "      <td>0.0</td>\n",
       "      <td>0.0</td>\n",
       "      <td>2968.0</td>\n",
       "      <td>163.0</td>\n",
       "      <td>146269.0</td>\n",
       "      <td>7553.0</td>\n",
       "      <td>1.936481e+07</td>\n",
       "      <td>Asia</td>\n",
       "      <td>2023-03-04</td>\n",
       "    </tr>\n",
       "    <tr>\n",
       "      <th>285</th>\n",
       "      <td>Timor-Leste</td>\n",
       "      <td>23418</td>\n",
       "      <td>0.0</td>\n",
       "      <td>138.0</td>\n",
       "      <td>0.0</td>\n",
       "      <td>23102.0</td>\n",
       "      <td>0.0</td>\n",
       "      <td>178.0</td>\n",
       "      <td>17101.0</td>\n",
       "      <td>101.0</td>\n",
       "      <td>278529.0</td>\n",
       "      <td>203391.0</td>\n",
       "      <td>1.369429e+06</td>\n",
       "      <td>Asia</td>\n",
       "      <td>2023-03-04</td>\n",
       "    </tr>\n",
       "    <tr>\n",
       "      <th>286</th>\n",
       "      <td>Tajikistan</td>\n",
       "      <td>17786</td>\n",
       "      <td>0.0</td>\n",
       "      <td>125.0</td>\n",
       "      <td>0.0</td>\n",
       "      <td>17264.0</td>\n",
       "      <td>0.0</td>\n",
       "      <td>397.0</td>\n",
       "      <td>1786.0</td>\n",
       "      <td>13.0</td>\n",
       "      <td>0.0</td>\n",
       "      <td>0.0</td>\n",
       "      <td>9.957464e+06</td>\n",
       "      <td>Asia</td>\n",
       "      <td>2023-03-04</td>\n",
       "    </tr>\n",
       "    <tr>\n",
       "      <th>287</th>\n",
       "      <td>Yemen</td>\n",
       "      <td>11945</td>\n",
       "      <td>0.0</td>\n",
       "      <td>2159.0</td>\n",
       "      <td>0.0</td>\n",
       "      <td>9124.0</td>\n",
       "      <td>0.0</td>\n",
       "      <td>662.0</td>\n",
       "      <td>383.0</td>\n",
       "      <td>69.0</td>\n",
       "      <td>329592.0</td>\n",
       "      <td>10579.0</td>\n",
       "      <td>3.115487e+07</td>\n",
       "      <td>Asia</td>\n",
       "      <td>2023-03-04</td>\n",
       "    </tr>\n",
       "    <tr>\n",
       "      <th>288</th>\n",
       "      <td>Macao</td>\n",
       "      <td>3514</td>\n",
       "      <td>0.0</td>\n",
       "      <td>121.0</td>\n",
       "      <td>0.0</td>\n",
       "      <td>3391.0</td>\n",
       "      <td>0.0</td>\n",
       "      <td>2.0</td>\n",
       "      <td>5264.0</td>\n",
       "      <td>181.0</td>\n",
       "      <td>7850.0</td>\n",
       "      <td>11760.0</td>\n",
       "      <td>6.674900e+05</td>\n",
       "      <td>Asia</td>\n",
       "      <td>2023-03-04</td>\n",
       "    </tr>\n",
       "  </tbody>\n",
       "</table>\n",
       "<p>289 rows × 15 columns</p>\n",
       "</div>"
      ],
      "text/plain": [
       "    Country,Other  TotalCases  NewCases  TotalDeaths  NewDeaths  \\\n",
       "0         Vietnam    11526901      10.0      43186.0        0.0   \n",
       "1           India    44686371     169.0     530771.0        1.0   \n",
       "2           Japan    33190564    5598.0      72320.0       52.0   \n",
       "3        S. Korea    30502904    4026.0      33961.0       15.0   \n",
       "4         Vietnam    11526905       4.0      43186.0        0.0   \n",
       "..            ...         ...       ...          ...        ...   \n",
       "284         Syria       57467       0.0       3164.0        0.0   \n",
       "285   Timor-Leste       23418       0.0        138.0        0.0   \n",
       "286    Tajikistan       17786       0.0        125.0        0.0   \n",
       "287         Yemen       11945       0.0       2159.0        0.0   \n",
       "288         Macao        3514       0.0        121.0        0.0   \n",
       "\n",
       "     TotalRecovered  NewRecovered  ActiveCases  Tot Cases/1M pop  \\\n",
       "0        10614760.0           1.0     868955.0          116488.0   \n",
       "1        44153343.0         140.0       2257.0           31768.0   \n",
       "2        21683904.0        1535.0   11434340.0          264288.0   \n",
       "3        30278033.0           0.0     190910.0          594252.0   \n",
       "4        10614763.0           3.0     868956.0          116488.0   \n",
       "..              ...           ...          ...               ...   \n",
       "284         54303.0           0.0          0.0            2968.0   \n",
       "285         23102.0           0.0        178.0           17101.0   \n",
       "286         17264.0           0.0        397.0            1786.0   \n",
       "287          9124.0           0.0        662.0             383.0   \n",
       "288          3391.0           0.0          2.0            5264.0   \n",
       "\n",
       "     Deaths/1M pop   TotalTests  Tests/ 1M pop    Population Continent  \\\n",
       "0            436.0   85826548.0       867342.0  9.895354e+07      Asia   \n",
       "1            377.0  918535118.0       653003.0  1.406632e+09      Asia   \n",
       "2            576.0   95014492.0       756576.0  1.255848e+08      Asia   \n",
       "3            662.0   15804065.0       307892.0  5.132990e+07      Asia   \n",
       "4            436.0   85826548.0       867342.0  9.895354e+07      Asia   \n",
       "..             ...          ...            ...           ...       ...   \n",
       "284          163.0     146269.0         7553.0  1.936481e+07      Asia   \n",
       "285          101.0     278529.0       203391.0  1.369429e+06      Asia   \n",
       "286           13.0          0.0            0.0  9.957464e+06      Asia   \n",
       "287           69.0     329592.0        10579.0  3.115487e+07      Asia   \n",
       "288          181.0       7850.0        11760.0  6.674900e+05      Asia   \n",
       "\n",
       "          Date  \n",
       "0   2023-02-26  \n",
       "1   2023-02-27  \n",
       "2   2023-02-27  \n",
       "3   2023-02-27  \n",
       "4   2023-02-27  \n",
       "..         ...  \n",
       "284 2023-03-04  \n",
       "285 2023-03-04  \n",
       "286 2023-03-04  \n",
       "287 2023-03-04  \n",
       "288 2023-03-04  \n",
       "\n",
       "[289 rows x 15 columns]"
      ]
     },
     "execution_count": 9,
     "metadata": {},
     "output_type": "execute_result"
    }
   ],
   "source": [
    "df = df.groupby('Country,Other').apply(lambda x: x.sort_values('Date', ascending=True)).reset_index(drop=True)\n",
    "df"
   ]
  },
  {
   "cell_type": "code",
   "execution_count": 10,
   "metadata": {},
   "outputs": [
    {
     "name": "stdout",
     "output_type": "stream",
     "text": [
      "Column TotalCases - Value counts in each bins: \n",
      "(-41170.30699999999, 14898282.667]    271\n",
      "(14898282.667, 29793051.333]            0\n",
      "(29793051.333, 44687820.0]             18\n",
      "Name: TotalCases, dtype: int64\n",
      "------------------------------\n",
      "Column NewCases - Value counts in each bins: \n",
      "(-14.524999999999999, 4841.333]    272\n",
      "(4841.333, 9682.667]                 3\n",
      "(9682.667, 14524.0]                 14\n",
      "Name: NewCases, dtype: int64\n",
      "------------------------------\n",
      "Column TotalDeaths - Value counts in each bins: \n",
      "(-509.755, 176939.0]    283\n",
      "(176939.0, 353857.0]      0\n",
      "(353857.0, 530775.0]      6\n",
      "Name: TotalDeaths, dtype: int64\n",
      "------------------------------\n",
      "Column NewDeaths - Value counts in each bins: \n",
      "(-0.1, 33.0]    278\n",
      "(33.0, 66.0]      5\n",
      "(66.0, 99.0]      6\n",
      "Name: NewDeaths, dtype: int64\n",
      "------------------------------\n",
      "Column TotalRecovered - Value counts in each bins: \n",
      "(-40763.867999999995, 14720342.667]    271\n",
      "(14720342.667, 29437298.333]             6\n",
      "(29437298.333, 44154254.0]              12\n",
      "Name: TotalRecovered, dtype: int64\n",
      "------------------------------\n",
      "Column NewRecovered - Value counts in each bins: \n",
      "(-29.318, 9772.333]      279\n",
      "(9772.333, 19544.667]      5\n",
      "(19544.667, 29317.0]       5\n",
      "Name: NewRecovered, dtype: int64\n",
      "------------------------------\n",
      "Column ActiveCases - Value counts in each bins: \n",
      "(-11942.538, 3828389.667]     283\n",
      "(3828389.667, 7657235.333]      0\n",
      "(7657235.333, 11486081.0]       6\n",
      "Name: ActiveCases, dtype: int64\n",
      "------------------------------\n",
      "Column Tot Cases/1M pop - Value counts in each bins: \n",
      "(-278.33599999999996, 208792.0]    217\n",
      "(208792.0, 417237.0]                36\n",
      "(417237.0, 625682.0]                36\n",
      "Name: Tot Cases/1M pop, dtype: int64\n",
      "------------------------------\n",
      "Column Deaths/1M pop - Value counts in each bins: \n",
      "(-1.273, 1427.0]    259\n",
      "(1427.0, 2851.0]     18\n",
      "(2851.0, 4275.0]     12\n",
      "Name: Deaths/1M pop, dtype: int64\n",
      "------------------------------\n",
      "Column TotalTests - Value counts in each bins: \n",
      "(-919095.824, 306365274.333]      283\n",
      "(306365274.333, 612730548.667]      0\n",
      "(612730548.667, 919095823.0]        6\n",
      "Name: TotalTests, dtype: int64\n",
      "------------------------------\n",
      "Column Tests/ 1M pop - Value counts in each bins: \n",
      "(-19769.265, 6589754.667]      271\n",
      "(6589754.667, 13179509.333]     12\n",
      "(13179509.333, 19769264.0]       6\n",
      "Name: Tests/ 1M pop, dtype: int64\n",
      "------------------------------\n",
      "Column Population - Value counts in each bins: \n",
      "(-1002594.9700000001, 483120754.0]    277\n",
      "(483120754.0, 965796077.0]              0\n",
      "(965796077.0, 1448471400.0]            12\n",
      "Name: Population, dtype: int64\n",
      "------------------------------\n",
      "Column Date - Value counts in each bins: \n",
      "(2023-02-25 23:51:21.599999999, 2023-02-28]    97\n",
      "(2023-02-28, 2023-03-02]                       96\n",
      "(2023-03-02, 2023-03-04]                       96\n",
      "Name: Date, dtype: int64\n",
      "------------------------------\n"
     ]
    }
   ],
   "source": [
    "numeric_cols = df.select_dtypes(exclude=[object, datetime]).columns\n",
    "numeric_cols\n",
    "for col in numeric_cols:\n",
    "    print(f'Column {col} - Value counts in each bins: ')\n",
    "    print(df[col].value_counts(bins=3, sort=False))\n",
    "    print('-'*30)"
   ]
  },
  {
   "attachments": {},
   "cell_type": "markdown",
   "metadata": {},
   "source": [
    "- Ta trực quan mối tương quan giữa các biến bằng ma trận correlation"
   ]
  },
  {
   "cell_type": "code",
   "execution_count": 11,
   "metadata": {},
   "outputs": [
    {
     "name": "stderr",
     "output_type": "stream",
     "text": [
      "C:\\Users\\KuunVo\\AppData\\Local\\Temp\\ipykernel_10924\\3922675089.py:1: FutureWarning: The default value of numeric_only in DataFrame.corr is deprecated. In a future version, it will default to False. Select only valid columns or specify the value of numeric_only to silence this warning.\n",
      "  corr = df[numeric_cols].corr()\n"
     ]
    },
    {
     "data": {
      "text/html": [
       "<style type=\"text/css\">\n",
       "#T_237b3_row0_col0, #T_237b3_row1_col1, #T_237b3_row2_col2, #T_237b3_row3_col3, #T_237b3_row4_col4, #T_237b3_row5_col5, #T_237b3_row6_col6, #T_237b3_row7_col7, #T_237b3_row8_col8, #T_237b3_row9_col9, #T_237b3_row10_col10, #T_237b3_row11_col11 {\n",
       "  background-color: #b40426;\n",
       "  color: #f1f1f1;\n",
       "}\n",
       "#T_237b3_row0_col1 {\n",
       "  background-color: #f2cbb7;\n",
       "  color: #000000;\n",
       "}\n",
       "#T_237b3_row0_col2, #T_237b3_row5_col1 {\n",
       "  background-color: #f18f71;\n",
       "  color: #f1f1f1;\n",
       "}\n",
       "#T_237b3_row0_col3 {\n",
       "  background-color: #e6d7cf;\n",
       "  color: #000000;\n",
       "}\n",
       "#T_237b3_row0_col4, #T_237b3_row4_col0 {\n",
       "  background-color: #b8122a;\n",
       "  color: #f1f1f1;\n",
       "}\n",
       "#T_237b3_row0_col5 {\n",
       "  background-color: #aec9fc;\n",
       "  color: #000000;\n",
       "}\n",
       "#T_237b3_row0_col6 {\n",
       "  background-color: #e3d9d3;\n",
       "  color: #000000;\n",
       "}\n",
       "#T_237b3_row0_col7, #T_237b3_row4_col7 {\n",
       "  background-color: #a9c6fd;\n",
       "  color: #000000;\n",
       "}\n",
       "#T_237b3_row0_col8, #T_237b3_row2_col3, #T_237b3_row2_col6, #T_237b3_row6_col8 {\n",
       "  background-color: #6282ea;\n",
       "  color: #f1f1f1;\n",
       "}\n",
       "#T_237b3_row0_col9, #T_237b3_row9_col0 {\n",
       "  background-color: #f5a081;\n",
       "  color: #000000;\n",
       "}\n",
       "#T_237b3_row0_col10, #T_237b3_row8_col6 {\n",
       "  background-color: #4358cb;\n",
       "  color: #f1f1f1;\n",
       "}\n",
       "#T_237b3_row0_col11 {\n",
       "  background-color: #ecd3c5;\n",
       "  color: #000000;\n",
       "}\n",
       "#T_237b3_row1_col0 {\n",
       "  background-color: #f3c7b1;\n",
       "  color: #000000;\n",
       "}\n",
       "#T_237b3_row1_col2, #T_237b3_row5_col8 {\n",
       "  background-color: #6f92f3;\n",
       "  color: #f1f1f1;\n",
       "}\n",
       "#T_237b3_row1_col3, #T_237b3_row3_col1 {\n",
       "  background-color: #e36c55;\n",
       "  color: #f1f1f1;\n",
       "}\n",
       "#T_237b3_row1_col4 {\n",
       "  background-color: #ead4c8;\n",
       "  color: #000000;\n",
       "}\n",
       "#T_237b3_row1_col5 {\n",
       "  background-color: #f29274;\n",
       "  color: #f1f1f1;\n",
       "}\n",
       "#T_237b3_row1_col6 {\n",
       "  background-color: #f2c9b4;\n",
       "  color: #000000;\n",
       "}\n",
       "#T_237b3_row1_col7 {\n",
       "  background-color: #dbdcde;\n",
       "  color: #000000;\n",
       "}\n",
       "#T_237b3_row1_col8, #T_237b3_row2_col8, #T_237b3_row5_col11, #T_237b3_row7_col6 {\n",
       "  background-color: #688aef;\n",
       "  color: #f1f1f1;\n",
       "}\n",
       "#T_237b3_row1_col9 {\n",
       "  background-color: #5e7de7;\n",
       "  color: #f1f1f1;\n",
       "}\n",
       "#T_237b3_row1_col10, #T_237b3_row2_col7, #T_237b3_row8_col1, #T_237b3_row8_col3 {\n",
       "  background-color: #4e68d8;\n",
       "  color: #f1f1f1;\n",
       "}\n",
       "#T_237b3_row1_col11 {\n",
       "  background-color: #6e90f2;\n",
       "  color: #f1f1f1;\n",
       "}\n",
       "#T_237b3_row2_col0, #T_237b3_row4_col9, #T_237b3_row9_col4 {\n",
       "  background-color: #f29072;\n",
       "  color: #f1f1f1;\n",
       "}\n",
       "#T_237b3_row2_col1 {\n",
       "  background-color: #5d7ce6;\n",
       "  color: #f1f1f1;\n",
       "}\n",
       "#T_237b3_row2_col4 {\n",
       "  background-color: #ec7f63;\n",
       "  color: #f1f1f1;\n",
       "}\n",
       "#T_237b3_row2_col5 {\n",
       "  background-color: #455cce;\n",
       "  color: #f1f1f1;\n",
       "}\n",
       "#T_237b3_row2_col9, #T_237b3_row9_col2 {\n",
       "  background-color: #cd423b;\n",
       "  color: #f1f1f1;\n",
       "}\n",
       "#T_237b3_row2_col10, #T_237b3_row9_col5 {\n",
       "  background-color: #4055c8;\n",
       "  color: #f1f1f1;\n",
       "}\n",
       "#T_237b3_row2_col11 {\n",
       "  background-color: #f6a586;\n",
       "  color: #000000;\n",
       "}\n",
       "#T_237b3_row3_col0 {\n",
       "  background-color: #ebd3c6;\n",
       "  color: #000000;\n",
       "}\n",
       "#T_237b3_row3_col2, #T_237b3_row6_col11 {\n",
       "  background-color: #799cf8;\n",
       "  color: #f1f1f1;\n",
       "}\n",
       "#T_237b3_row3_col4 {\n",
       "  background-color: #cfdaea;\n",
       "  color: #000000;\n",
       "}\n",
       "#T_237b3_row3_col5 {\n",
       "  background-color: #d9dce1;\n",
       "  color: #000000;\n",
       "}\n",
       "#T_237b3_row3_col6 {\n",
       "  background-color: #e97a5f;\n",
       "  color: #f1f1f1;\n",
       "}\n",
       "#T_237b3_row3_col7 {\n",
       "  background-color: #bbd1f8;\n",
       "  color: #000000;\n",
       "}\n",
       "#T_237b3_row3_col8 {\n",
       "  background-color: #6c8ff1;\n",
       "  color: #f1f1f1;\n",
       "}\n",
       "#T_237b3_row3_col9 {\n",
       "  background-color: #6485ec;\n",
       "  color: #f1f1f1;\n",
       "}\n",
       "#T_237b3_row3_col10, #T_237b3_row8_col0, #T_237b3_row8_col4, #T_237b3_row9_col1 {\n",
       "  background-color: #536edd;\n",
       "  color: #f1f1f1;\n",
       "}\n",
       "#T_237b3_row3_col11 {\n",
       "  background-color: #7295f4;\n",
       "  color: #f1f1f1;\n",
       "}\n",
       "#T_237b3_row4_col1 {\n",
       "  background-color: #e7d7ce;\n",
       "  color: #000000;\n",
       "}\n",
       "#T_237b3_row4_col2 {\n",
       "  background-color: #eb7d62;\n",
       "  color: #f1f1f1;\n",
       "}\n",
       "#T_237b3_row4_col3 {\n",
       "  background-color: #c7d7f0;\n",
       "  color: #000000;\n",
       "}\n",
       "#T_237b3_row4_col5 {\n",
       "  background-color: #b5cdfa;\n",
       "  color: #000000;\n",
       "}\n",
       "#T_237b3_row4_col6 {\n",
       "  background-color: #b9d0f9;\n",
       "  color: #000000;\n",
       "}\n",
       "#T_237b3_row4_col8 {\n",
       "  background-color: #6384eb;\n",
       "  color: #f1f1f1;\n",
       "}\n",
       "#T_237b3_row4_col10 {\n",
       "  background-color: #445acc;\n",
       "  color: #f1f1f1;\n",
       "}\n",
       "#T_237b3_row4_col11 {\n",
       "  background-color: #f1cdba;\n",
       "  color: #000000;\n",
       "}\n",
       "#T_237b3_row5_col0 {\n",
       "  background-color: #bcd2f7;\n",
       "  color: #000000;\n",
       "}\n",
       "#T_237b3_row5_col2 {\n",
       "  background-color: #5f7fe8;\n",
       "  color: #f1f1f1;\n",
       "}\n",
       "#T_237b3_row5_col3 {\n",
       "  background-color: #dadce0;\n",
       "  color: #000000;\n",
       "}\n",
       "#T_237b3_row5_col4 {\n",
       "  background-color: #c1d4f4;\n",
       "  color: #000000;\n",
       "}\n",
       "#T_237b3_row5_col6, #T_237b3_row5_col10 {\n",
       "  background-color: #5b7ae5;\n",
       "  color: #f1f1f1;\n",
       "}\n",
       "#T_237b3_row5_col7 {\n",
       "  background-color: #d8dce2;\n",
       "  color: #000000;\n",
       "}\n",
       "#T_237b3_row5_col9, #T_237b3_row9_col3 {\n",
       "  background-color: #5470de;\n",
       "  color: #f1f1f1;\n",
       "}\n",
       "#T_237b3_row6_col0 {\n",
       "  background-color: #e9d5cb;\n",
       "  color: #000000;\n",
       "}\n",
       "#T_237b3_row6_col1 {\n",
       "  background-color: #f3c8b2;\n",
       "  color: #000000;\n",
       "}\n",
       "#T_237b3_row6_col2 {\n",
       "  background-color: #779af7;\n",
       "  color: #f1f1f1;\n",
       "}\n",
       "#T_237b3_row6_col3 {\n",
       "  background-color: #ea7b60;\n",
       "  color: #f1f1f1;\n",
       "}\n",
       "#T_237b3_row6_col4 {\n",
       "  background-color: #c3d5f4;\n",
       "  color: #000000;\n",
       "}\n",
       "#T_237b3_row6_col5 {\n",
       "  background-color: #5875e1;\n",
       "  color: #f1f1f1;\n",
       "}\n",
       "#T_237b3_row6_col7, #T_237b3_row7_col4 {\n",
       "  background-color: #90b2fe;\n",
       "  color: #000000;\n",
       "}\n",
       "#T_237b3_row6_col9 {\n",
       "  background-color: #6a8bef;\n",
       "  color: #f1f1f1;\n",
       "}\n",
       "#T_237b3_row6_col10 {\n",
       "  background-color: #516ddb;\n",
       "  color: #f1f1f1;\n",
       "}\n",
       "#T_237b3_row7_col0 {\n",
       "  background-color: #92b4fe;\n",
       "  color: #000000;\n",
       "}\n",
       "#T_237b3_row7_col1 {\n",
       "  background-color: #c6d6f1;\n",
       "  color: #000000;\n",
       "}\n",
       "#T_237b3_row7_col2, #T_237b3_row7_col9, #T_237b3_row7_col11, #T_237b3_row10_col0, #T_237b3_row10_col1, #T_237b3_row10_col3, #T_237b3_row10_col4, #T_237b3_row10_col6, #T_237b3_row11_col5, #T_237b3_row11_col7, #T_237b3_row11_col8, #T_237b3_row11_col10 {\n",
       "  background-color: #3b4cc0;\n",
       "  color: #f1f1f1;\n",
       "}\n",
       "#T_237b3_row7_col3 {\n",
       "  background-color: #9abbff;\n",
       "  color: #000000;\n",
       "}\n",
       "#T_237b3_row7_col5 {\n",
       "  background-color: #bed2f6;\n",
       "  color: #000000;\n",
       "}\n",
       "#T_237b3_row7_col8 {\n",
       "  background-color: #dcdddd;\n",
       "  color: #000000;\n",
       "}\n",
       "#T_237b3_row7_col10 {\n",
       "  background-color: #cbd8ee;\n",
       "  color: #000000;\n",
       "}\n",
       "#T_237b3_row8_col2 {\n",
       "  background-color: #6180e9;\n",
       "  color: #f1f1f1;\n",
       "}\n",
       "#T_237b3_row8_col5, #T_237b3_row10_col11 {\n",
       "  background-color: #4c66d6;\n",
       "  color: #f1f1f1;\n",
       "}\n",
       "#T_237b3_row8_col7 {\n",
       "  background-color: #e1dad6;\n",
       "  color: #000000;\n",
       "}\n",
       "#T_237b3_row8_col9, #T_237b3_row8_col11, #T_237b3_row11_col3 {\n",
       "  background-color: #465ecf;\n",
       "  color: #f1f1f1;\n",
       "}\n",
       "#T_237b3_row8_col10 {\n",
       "  background-color: #9bbcff;\n",
       "  color: #000000;\n",
       "}\n",
       "#T_237b3_row9_col6 {\n",
       "  background-color: #5a78e4;\n",
       "  color: #f1f1f1;\n",
       "}\n",
       "#T_237b3_row9_col7, #T_237b3_row9_col8 {\n",
       "  background-color: #5572df;\n",
       "  color: #f1f1f1;\n",
       "}\n",
       "#T_237b3_row9_col10 {\n",
       "  background-color: #82a6fb;\n",
       "  color: #f1f1f1;\n",
       "}\n",
       "#T_237b3_row9_col11 {\n",
       "  background-color: #ec8165;\n",
       "  color: #f1f1f1;\n",
       "}\n",
       "#T_237b3_row10_col2, #T_237b3_row10_col5 {\n",
       "  background-color: #3f53c6;\n",
       "  color: #f1f1f1;\n",
       "}\n",
       "#T_237b3_row10_col7 {\n",
       "  background-color: #d5dbe5;\n",
       "  color: #000000;\n",
       "}\n",
       "#T_237b3_row10_col8 {\n",
       "  background-color: #a1c0ff;\n",
       "  color: #000000;\n",
       "}\n",
       "#T_237b3_row10_col9 {\n",
       "  background-color: #7a9df8;\n",
       "  color: #f1f1f1;\n",
       "}\n",
       "#T_237b3_row11_col0 {\n",
       "  background-color: #e2dad5;\n",
       "  color: #000000;\n",
       "}\n",
       "#T_237b3_row11_col1 {\n",
       "  background-color: #485fd1;\n",
       "  color: #f1f1f1;\n",
       "}\n",
       "#T_237b3_row11_col2 {\n",
       "  background-color: #f7ac8e;\n",
       "  color: #000000;\n",
       "}\n",
       "#T_237b3_row11_col4 {\n",
       "  background-color: #ead5c9;\n",
       "  color: #000000;\n",
       "}\n",
       "#T_237b3_row11_col6 {\n",
       "  background-color: #4f69d9;\n",
       "  color: #f1f1f1;\n",
       "}\n",
       "#T_237b3_row11_col9 {\n",
       "  background-color: #f08a6c;\n",
       "  color: #f1f1f1;\n",
       "}\n",
       "</style>\n",
       "<table id=\"T_237b3\">\n",
       "  <thead>\n",
       "    <tr>\n",
       "      <th class=\"blank level0\" >&nbsp;</th>\n",
       "      <th id=\"T_237b3_level0_col0\" class=\"col_heading level0 col0\" >TotalCases</th>\n",
       "      <th id=\"T_237b3_level0_col1\" class=\"col_heading level0 col1\" >NewCases</th>\n",
       "      <th id=\"T_237b3_level0_col2\" class=\"col_heading level0 col2\" >TotalDeaths</th>\n",
       "      <th id=\"T_237b3_level0_col3\" class=\"col_heading level0 col3\" >NewDeaths</th>\n",
       "      <th id=\"T_237b3_level0_col4\" class=\"col_heading level0 col4\" >TotalRecovered</th>\n",
       "      <th id=\"T_237b3_level0_col5\" class=\"col_heading level0 col5\" >NewRecovered</th>\n",
       "      <th id=\"T_237b3_level0_col6\" class=\"col_heading level0 col6\" >ActiveCases</th>\n",
       "      <th id=\"T_237b3_level0_col7\" class=\"col_heading level0 col7\" >Tot Cases/1M pop</th>\n",
       "      <th id=\"T_237b3_level0_col8\" class=\"col_heading level0 col8\" >Deaths/1M pop</th>\n",
       "      <th id=\"T_237b3_level0_col9\" class=\"col_heading level0 col9\" >TotalTests</th>\n",
       "      <th id=\"T_237b3_level0_col10\" class=\"col_heading level0 col10\" >Tests/ 1M pop</th>\n",
       "      <th id=\"T_237b3_level0_col11\" class=\"col_heading level0 col11\" >Population</th>\n",
       "    </tr>\n",
       "  </thead>\n",
       "  <tbody>\n",
       "    <tr>\n",
       "      <th id=\"T_237b3_level0_row0\" class=\"row_heading level0 row0\" >TotalCases</th>\n",
       "      <td id=\"T_237b3_row0_col0\" class=\"data row0 col0\" >1.000000</td>\n",
       "      <td id=\"T_237b3_row0_col1\" class=\"data row0 col1\" >0.574484</td>\n",
       "      <td id=\"T_237b3_row0_col2\" class=\"data row0 col2\" >0.746545</td>\n",
       "      <td id=\"T_237b3_row0_col3\" class=\"data row0 col3\" >0.512188</td>\n",
       "      <td id=\"T_237b3_row0_col4\" class=\"data row0 col4\" >0.984965</td>\n",
       "      <td id=\"T_237b3_row0_col5\" class=\"data row0 col5\" >0.321333</td>\n",
       "      <td id=\"T_237b3_row0_col6\" class=\"data row0 col6\" >0.500641</td>\n",
       "      <td id=\"T_237b3_row0_col7\" class=\"data row0 col7\" >0.184953</td>\n",
       "      <td id=\"T_237b3_row0_col8\" class=\"data row0 col8\" >-0.019027</td>\n",
       "      <td id=\"T_237b3_row0_col9\" class=\"data row0 col9\" >0.702822</td>\n",
       "      <td id=\"T_237b3_row0_col10\" class=\"data row0 col10\" >-0.107798</td>\n",
       "      <td id=\"T_237b3_row0_col11\" class=\"data row0 col11\" >0.471081</td>\n",
       "    </tr>\n",
       "    <tr>\n",
       "      <th id=\"T_237b3_level0_row1\" class=\"row_heading level0 row1\" >NewCases</th>\n",
       "      <td id=\"T_237b3_row1_col0\" class=\"data row1 col0\" >0.574484</td>\n",
       "      <td id=\"T_237b3_row1_col1\" class=\"data row1 col1\" >1.000000</td>\n",
       "      <td id=\"T_237b3_row1_col2\" class=\"data row1 col2\" >0.052784</td>\n",
       "      <td id=\"T_237b3_row1_col3\" class=\"data row1 col3\" >0.840189</td>\n",
       "      <td id=\"T_237b3_row1_col4\" class=\"data row1 col4\" >0.509235</td>\n",
       "      <td id=\"T_237b3_row1_col5\" class=\"data row1 col5\" >0.758437</td>\n",
       "      <td id=\"T_237b3_row1_col6\" class=\"data row1 col6\" >0.584358</td>\n",
       "      <td id=\"T_237b3_row1_col7\" class=\"data row1 col7\" >0.382499</td>\n",
       "      <td id=\"T_237b3_row1_col8\" class=\"data row1 col8\" >0.000381</td>\n",
       "      <td id=\"T_237b3_row1_col9\" class=\"data row1 col9\" >0.018314</td>\n",
       "      <td id=\"T_237b3_row1_col10\" class=\"data row1 col10\" >-0.066436</td>\n",
       "      <td id=\"T_237b3_row1_col11\" class=\"data row1 col11\" >-0.019711</td>\n",
       "    </tr>\n",
       "    <tr>\n",
       "      <th id=\"T_237b3_level0_row2\" class=\"row_heading level0 row2\" >TotalDeaths</th>\n",
       "      <td id=\"T_237b3_row2_col0\" class=\"data row2 col0\" >0.746545</td>\n",
       "      <td id=\"T_237b3_row2_col1\" class=\"data row2 col1\" >0.052784</td>\n",
       "      <td id=\"T_237b3_row2_col2\" class=\"data row2 col2\" >1.000000</td>\n",
       "      <td id=\"T_237b3_row2_col3\" class=\"data row2 col3\" >0.083790</td>\n",
       "      <td id=\"T_237b3_row2_col4\" class=\"data row2 col4\" >0.790774</td>\n",
       "      <td id=\"T_237b3_row2_col5\" class=\"data row2 col5\" >-0.002945</td>\n",
       "      <td id=\"T_237b3_row2_col6\" class=\"data row2 col6\" >0.079454</td>\n",
       "      <td id=\"T_237b3_row2_col7\" class=\"data row2 col7\" >-0.138272</td>\n",
       "      <td id=\"T_237b3_row2_col8\" class=\"data row2 col8\" >0.000985</td>\n",
       "      <td id=\"T_237b3_row2_col9\" class=\"data row2 col9\" >0.918751</td>\n",
       "      <td id=\"T_237b3_row2_col10\" class=\"data row2 col10\" >-0.116697</td>\n",
       "      <td id=\"T_237b3_row2_col11\" class=\"data row2 col11\" >0.659617</td>\n",
       "    </tr>\n",
       "    <tr>\n",
       "      <th id=\"T_237b3_level0_row3\" class=\"row_heading level0 row3\" >NewDeaths</th>\n",
       "      <td id=\"T_237b3_row3_col0\" class=\"data row3 col0\" >0.512188</td>\n",
       "      <td id=\"T_237b3_row3_col1\" class=\"data row3 col1\" >0.840189</td>\n",
       "      <td id=\"T_237b3_row3_col2\" class=\"data row3 col2\" >0.083790</td>\n",
       "      <td id=\"T_237b3_row3_col3\" class=\"data row3 col3\" >1.000000</td>\n",
       "      <td id=\"T_237b3_row3_col4\" class=\"data row3 col4\" >0.394687</td>\n",
       "      <td id=\"T_237b3_row3_col5\" class=\"data row3 col5\" >0.465889</td>\n",
       "      <td id=\"T_237b3_row3_col6\" class=\"data row3 col6\" >0.810949</td>\n",
       "      <td id=\"T_237b3_row3_col7\" class=\"data row3 col7\" >0.251028</td>\n",
       "      <td id=\"T_237b3_row3_col8\" class=\"data row3 col8\" >0.016012</td>\n",
       "      <td id=\"T_237b3_row3_col9\" class=\"data row3 col9\" >0.038469</td>\n",
       "      <td id=\"T_237b3_row3_col10\" class=\"data row3 col10\" >-0.050727</td>\n",
       "      <td id=\"T_237b3_row3_col11\" class=\"data row3 col11\" >-0.008387</td>\n",
       "    </tr>\n",
       "    <tr>\n",
       "      <th id=\"T_237b3_level0_row4\" class=\"row_heading level0 row4\" >TotalRecovered</th>\n",
       "      <td id=\"T_237b3_row4_col0\" class=\"data row4 col0\" >0.984965</td>\n",
       "      <td id=\"T_237b3_row4_col1\" class=\"data row4 col1\" >0.509235</td>\n",
       "      <td id=\"T_237b3_row4_col2\" class=\"data row4 col2\" >0.790774</td>\n",
       "      <td id=\"T_237b3_row4_col3\" class=\"data row4 col3\" >0.394687</td>\n",
       "      <td id=\"T_237b3_row4_col4\" class=\"data row4 col4\" >1.000000</td>\n",
       "      <td id=\"T_237b3_row4_col5\" class=\"data row4 col5\" >0.339235</td>\n",
       "      <td id=\"T_237b3_row4_col6\" class=\"data row4 col6\" >0.343651</td>\n",
       "      <td id=\"T_237b3_row4_col7\" class=\"data row4 col7\" >0.183486</td>\n",
       "      <td id=\"T_237b3_row4_col8\" class=\"data row4 col8\" >-0.016263</td>\n",
       "      <td id=\"T_237b3_row4_col9\" class=\"data row4 col9\" >0.748321</td>\n",
       "      <td id=\"T_237b3_row4_col10\" class=\"data row4 col10\" >-0.105855</td>\n",
       "      <td id=\"T_237b3_row4_col11\" class=\"data row4 col11\" >0.504899</td>\n",
       "    </tr>\n",
       "    <tr>\n",
       "      <th id=\"T_237b3_level0_row5\" class=\"row_heading level0 row5\" >NewRecovered</th>\n",
       "      <td id=\"T_237b3_row5_col0\" class=\"data row5 col0\" >0.321333</td>\n",
       "      <td id=\"T_237b3_row5_col1\" class=\"data row5 col1\" >0.758437</td>\n",
       "      <td id=\"T_237b3_row5_col2\" class=\"data row5 col2\" >-0.002945</td>\n",
       "      <td id=\"T_237b3_row5_col3\" class=\"data row5 col3\" >0.465889</td>\n",
       "      <td id=\"T_237b3_row5_col4\" class=\"data row5 col4\" >0.339235</td>\n",
       "      <td id=\"T_237b3_row5_col5\" class=\"data row5 col5\" >1.000000</td>\n",
       "      <td id=\"T_237b3_row5_col6\" class=\"data row5 col6\" >0.060926</td>\n",
       "      <td id=\"T_237b3_row5_col7\" class=\"data row5 col7\" >0.369853</td>\n",
       "      <td id=\"T_237b3_row5_col8\" class=\"data row5 col8\" >0.024161</td>\n",
       "      <td id=\"T_237b3_row5_col9\" class=\"data row5 col9\" >-0.015365</td>\n",
       "      <td id=\"T_237b3_row5_col10\" class=\"data row5 col10\" >-0.021375</td>\n",
       "      <td id=\"T_237b3_row5_col11\" class=\"data row5 col11\" >-0.039682</td>\n",
       "    </tr>\n",
       "    <tr>\n",
       "      <th id=\"T_237b3_level0_row6\" class=\"row_heading level0 row6\" >ActiveCases</th>\n",
       "      <td id=\"T_237b3_row6_col0\" class=\"data row6 col0\" >0.500641</td>\n",
       "      <td id=\"T_237b3_row6_col1\" class=\"data row6 col1\" >0.584358</td>\n",
       "      <td id=\"T_237b3_row6_col2\" class=\"data row6 col2\" >0.079454</td>\n",
       "      <td id=\"T_237b3_row6_col3\" class=\"data row6 col3\" >0.810949</td>\n",
       "      <td id=\"T_237b3_row6_col4\" class=\"data row6 col4\" >0.343651</td>\n",
       "      <td id=\"T_237b3_row6_col5\" class=\"data row6 col5\" >0.060926</td>\n",
       "      <td id=\"T_237b3_row6_col6\" class=\"data row6 col6\" >1.000000</td>\n",
       "      <td id=\"T_237b3_row6_col7\" class=\"data row6 col7\" >0.099615</td>\n",
       "      <td id=\"T_237b3_row6_col8\" class=\"data row6 col8\" >-0.022454</td>\n",
       "      <td id=\"T_237b3_row6_col9\" class=\"data row6 col9\" >0.056925</td>\n",
       "      <td id=\"T_237b3_row6_col10\" class=\"data row6 col10\" >-0.053786</td>\n",
       "      <td id=\"T_237b3_row6_col11\" class=\"data row6 col11\" >0.019687</td>\n",
       "    </tr>\n",
       "    <tr>\n",
       "      <th id=\"T_237b3_level0_row7\" class=\"row_heading level0 row7\" >Tot Cases/1M pop</th>\n",
       "      <td id=\"T_237b3_row7_col0\" class=\"data row7 col0\" >0.184953</td>\n",
       "      <td id=\"T_237b3_row7_col1\" class=\"data row7 col1\" >0.382499</td>\n",
       "      <td id=\"T_237b3_row7_col2\" class=\"data row7 col2\" >-0.138272</td>\n",
       "      <td id=\"T_237b3_row7_col3\" class=\"data row7 col3\" >0.251028</td>\n",
       "      <td id=\"T_237b3_row7_col4\" class=\"data row7 col4\" >0.183486</td>\n",
       "      <td id=\"T_237b3_row7_col5\" class=\"data row7 col5\" >0.369853</td>\n",
       "      <td id=\"T_237b3_row7_col6\" class=\"data row7 col6\" >0.099615</td>\n",
       "      <td id=\"T_237b3_row7_col7\" class=\"data row7 col7\" >1.000000</td>\n",
       "      <td id=\"T_237b3_row7_col8\" class=\"data row7 col8\" >0.414272</td>\n",
       "      <td id=\"T_237b3_row7_col9\" class=\"data row7 col9\" >-0.110529</td>\n",
       "      <td id=\"T_237b3_row7_col10\" class=\"data row7 col10\" >0.356399</td>\n",
       "      <td id=\"T_237b3_row7_col11\" class=\"data row7 col11\" >-0.218222</td>\n",
       "    </tr>\n",
       "    <tr>\n",
       "      <th id=\"T_237b3_level0_row8\" class=\"row_heading level0 row8\" >Deaths/1M pop</th>\n",
       "      <td id=\"T_237b3_row8_col0\" class=\"data row8 col0\" >-0.019027</td>\n",
       "      <td id=\"T_237b3_row8_col1\" class=\"data row8 col1\" >0.000381</td>\n",
       "      <td id=\"T_237b3_row8_col2\" class=\"data row8 col2\" >0.000985</td>\n",
       "      <td id=\"T_237b3_row8_col3\" class=\"data row8 col3\" >0.016012</td>\n",
       "      <td id=\"T_237b3_row8_col4\" class=\"data row8 col4\" >-0.016263</td>\n",
       "      <td id=\"T_237b3_row8_col5\" class=\"data row8 col5\" >0.024161</td>\n",
       "      <td id=\"T_237b3_row8_col6\" class=\"data row8 col6\" >-0.022454</td>\n",
       "      <td id=\"T_237b3_row8_col7\" class=\"data row8 col7\" >0.414272</td>\n",
       "      <td id=\"T_237b3_row8_col8\" class=\"data row8 col8\" >1.000000</td>\n",
       "      <td id=\"T_237b3_row8_col9\" class=\"data row8 col9\" >-0.066295</td>\n",
       "      <td id=\"T_237b3_row8_col10\" class=\"data row8 col10\" >0.190729</td>\n",
       "      <td id=\"T_237b3_row8_col11\" class=\"data row8 col11\" >-0.169002</td>\n",
       "    </tr>\n",
       "    <tr>\n",
       "      <th id=\"T_237b3_level0_row9\" class=\"row_heading level0 row9\" >TotalTests</th>\n",
       "      <td id=\"T_237b3_row9_col0\" class=\"data row9 col0\" >0.702822</td>\n",
       "      <td id=\"T_237b3_row9_col1\" class=\"data row9 col1\" >0.018314</td>\n",
       "      <td id=\"T_237b3_row9_col2\" class=\"data row9 col2\" >0.918751</td>\n",
       "      <td id=\"T_237b3_row9_col3\" class=\"data row9 col3\" >0.038469</td>\n",
       "      <td id=\"T_237b3_row9_col4\" class=\"data row9 col4\" >0.748321</td>\n",
       "      <td id=\"T_237b3_row9_col5\" class=\"data row9 col5\" >-0.015365</td>\n",
       "      <td id=\"T_237b3_row9_col6\" class=\"data row9 col6\" >0.056925</td>\n",
       "      <td id=\"T_237b3_row9_col7\" class=\"data row9 col7\" >-0.110529</td>\n",
       "      <td id=\"T_237b3_row9_col8\" class=\"data row9 col8\" >-0.066295</td>\n",
       "      <td id=\"T_237b3_row9_col9\" class=\"data row9 col9\" >1.000000</td>\n",
       "      <td id=\"T_237b3_row9_col10\" class=\"data row9 col10\" >0.108220</td>\n",
       "      <td id=\"T_237b3_row9_col11\" class=\"data row9 col11\" >0.764746</td>\n",
       "    </tr>\n",
       "    <tr>\n",
       "      <th id=\"T_237b3_level0_row10\" class=\"row_heading level0 row10\" >Tests/ 1M pop</th>\n",
       "      <td id=\"T_237b3_row10_col0\" class=\"data row10 col0\" >-0.107798</td>\n",
       "      <td id=\"T_237b3_row10_col1\" class=\"data row10 col1\" >-0.066436</td>\n",
       "      <td id=\"T_237b3_row10_col2\" class=\"data row10 col2\" >-0.116697</td>\n",
       "      <td id=\"T_237b3_row10_col3\" class=\"data row10 col3\" >-0.050727</td>\n",
       "      <td id=\"T_237b3_row10_col4\" class=\"data row10 col4\" >-0.105855</td>\n",
       "      <td id=\"T_237b3_row10_col5\" class=\"data row10 col5\" >-0.021375</td>\n",
       "      <td id=\"T_237b3_row10_col6\" class=\"data row10 col6\" >-0.053786</td>\n",
       "      <td id=\"T_237b3_row10_col7\" class=\"data row10 col7\" >0.356399</td>\n",
       "      <td id=\"T_237b3_row10_col8\" class=\"data row10 col8\" >0.190729</td>\n",
       "      <td id=\"T_237b3_row10_col9\" class=\"data row10 col9\" >0.108220</td>\n",
       "      <td id=\"T_237b3_row10_col10\" class=\"data row10 col10\" >1.000000</td>\n",
       "      <td id=\"T_237b3_row10_col11\" class=\"data row10 col11\" >-0.142098</td>\n",
       "    </tr>\n",
       "    <tr>\n",
       "      <th id=\"T_237b3_level0_row11\" class=\"row_heading level0 row11\" >Population</th>\n",
       "      <td id=\"T_237b3_row11_col0\" class=\"data row11 col0\" >0.471081</td>\n",
       "      <td id=\"T_237b3_row11_col1\" class=\"data row11 col1\" >-0.019711</td>\n",
       "      <td id=\"T_237b3_row11_col2\" class=\"data row11 col2\" >0.659617</td>\n",
       "      <td id=\"T_237b3_row11_col3\" class=\"data row11 col3\" >-0.008387</td>\n",
       "      <td id=\"T_237b3_row11_col4\" class=\"data row11 col4\" >0.504899</td>\n",
       "      <td id=\"T_237b3_row11_col5\" class=\"data row11 col5\" >-0.039682</td>\n",
       "      <td id=\"T_237b3_row11_col6\" class=\"data row11 col6\" >0.019687</td>\n",
       "      <td id=\"T_237b3_row11_col7\" class=\"data row11 col7\" >-0.218222</td>\n",
       "      <td id=\"T_237b3_row11_col8\" class=\"data row11 col8\" >-0.169002</td>\n",
       "      <td id=\"T_237b3_row11_col9\" class=\"data row11 col9\" >0.764746</td>\n",
       "      <td id=\"T_237b3_row11_col10\" class=\"data row11 col10\" >-0.142098</td>\n",
       "      <td id=\"T_237b3_row11_col11\" class=\"data row11 col11\" >1.000000</td>\n",
       "    </tr>\n",
       "  </tbody>\n",
       "</table>\n"
      ],
      "text/plain": [
       "<pandas.io.formats.style.Styler at 0x2d88b387700>"
      ]
     },
     "execution_count": 11,
     "metadata": {},
     "output_type": "execute_result"
    }
   ],
   "source": [
    "corr = df[numeric_cols].corr()\n",
    "corr.style.background_gradient(cmap='coolwarm')"
   ]
  },
  {
   "attachments": {},
   "cell_type": "markdown",
   "metadata": {},
   "source": [
    "Từ ma trận correlation trên, ta thấy rằng các cột TotalCases, TotalDeaths, TotalRecovered, ActiveCases, Serious,Critical, Tot Cases/1M pop, Deaths/1M pop, TotalTests, Tests/1M pop có mối tương quan cao với nhau\n"
   ]
  },
  {
   "cell_type": "code",
   "execution_count": 12,
   "metadata": {},
   "outputs": [
    {
     "data": {
      "text/plain": [
       "array(['India', 'Japan', 'S. Korea', 'Vietnam', 'Taiwan'], dtype=object)"
      ]
     },
     "execution_count": 12,
     "metadata": {},
     "output_type": "execute_result"
    }
   ],
   "source": [
    "top_5_Tot_Cases_1M_pop_df = df.sort_values(by=['TotalCases'], ascending=False).iloc[1:26]\n",
    "top_5_Tot_Cases_1M_pop = top_5_Tot_Cases_1M_pop_df['Country,Other'].unique()\n",
    "top_5_Tot_Cases_1M_pop"
   ]
  },
  {
   "attachments": {},
   "cell_type": "markdown",
   "metadata": {},
   "source": [
    "Ta thấy, 5 quốc gia có độ lây lan cao nhất khu vực châu Á là India, Japan, S.Korea, Turkey và Việt Nam\n",
    "Tốc độ lây lan ở India là cao nhất do dân số đông nhất khu vực Châu Á"
   ]
  },
  {
   "cell_type": "code",
   "execution_count": 13,
   "metadata": {},
   "outputs": [
    {
     "data": {
      "application/vnd.plotly.v1+json": {
       "config": {
        "plotlyServerURL": "https://plot.ly"
       },
       "data": [
        {
         "hovertemplate": "Country,Other=Vietnam<br>Date=%{x}<br>NewRecovered=%{y}<extra></extra>",
         "legendgroup": "Vietnam",
         "line": {
          "color": "#636efa",
          "dash": "solid"
         },
         "marker": {
          "symbol": "circle"
         },
         "mode": "lines",
         "name": "Vietnam",
         "orientation": "v",
         "showlegend": true,
         "type": "scatter",
         "x": [
          "2023-02-26T00:00:00",
          "2023-02-27T00:00:00",
          "2023-02-28T00:00:00",
          "2023-03-01T00:00:00",
          "2023-03-02T00:00:00",
          "2023-03-03T00:00:00",
          "2023-03-04T00:00:00"
         ],
         "xaxis": "x",
         "y": [
          1,
          3,
          6,
          8,
          6,
          5,
          0
         ],
         "yaxis": "y"
        },
        {
         "hovertemplate": "Country,Other=India<br>Date=%{x}<br>NewRecovered=%{y}<extra></extra>",
         "legendgroup": "India",
         "line": {
          "color": "#EF553B",
          "dash": "solid"
         },
         "marker": {
          "symbol": "circle"
         },
         "mode": "lines",
         "name": "India",
         "orientation": "v",
         "showlegend": true,
         "type": "scatter",
         "x": [
          "2023-02-27T00:00:00",
          "2023-02-28T00:00:00",
          "2023-03-01T00:00:00",
          "2023-03-02T00:00:00",
          "2023-03-03T00:00:00",
          "2023-03-04T00:00:00"
         ],
         "xaxis": "x",
         "y": [
          140,
          161,
          164,
          197,
          170,
          219
         ],
         "yaxis": "y"
        },
        {
         "hovertemplate": "Country,Other=Japan<br>Date=%{x}<br>NewRecovered=%{y}<extra></extra>",
         "legendgroup": "Japan",
         "line": {
          "color": "#00cc96",
          "dash": "solid"
         },
         "marker": {
          "symbol": "circle"
         },
         "mode": "lines",
         "name": "Japan",
         "orientation": "v",
         "showlegend": true,
         "type": "scatter",
         "x": [
          "2023-02-27T00:00:00",
          "2023-02-28T00:00:00",
          "2023-03-01T00:00:00",
          "2023-03-02T00:00:00",
          "2023-03-03T00:00:00",
          "2023-03-04T00:00:00"
         ],
         "xaxis": "x",
         "y": [
          1535,
          1051,
          762,
          2053,
          1538,
          3387
         ],
         "yaxis": "y"
        },
        {
         "hovertemplate": "Country,Other=S. Korea<br>Date=%{x}<br>NewRecovered=%{y}<extra></extra>",
         "legendgroup": "S. Korea",
         "line": {
          "color": "#ab63fa",
          "dash": "solid"
         },
         "marker": {
          "symbol": "circle"
         },
         "mode": "lines",
         "name": "S. Korea",
         "orientation": "v",
         "showlegend": true,
         "type": "scatter",
         "x": [
          "2023-02-27T00:00:00",
          "2023-02-28T00:00:00",
          "2023-03-01T00:00:00",
          "2023-03-02T00:00:00",
          "2023-03-03T00:00:00",
          "2023-03-04T00:00:00"
         ],
         "xaxis": "x",
         "y": [
          0,
          13489,
          12649,
          12040,
          5159,
          29317
         ],
         "yaxis": "y"
        },
        {
         "hovertemplate": "Country,Other=Taiwan<br>Date=%{x}<br>NewRecovered=%{y}<extra></extra>",
         "legendgroup": "Taiwan",
         "line": {
          "color": "#FFA15A",
          "dash": "solid"
         },
         "marker": {
          "symbol": "circle"
         },
         "mode": "lines",
         "name": "Taiwan",
         "orientation": "v",
         "showlegend": true,
         "type": "scatter",
         "x": [
          "2023-02-27T00:00:00",
          "2023-02-28T00:00:00",
          "2023-03-01T00:00:00",
          "2023-03-02T00:00:00",
          "2023-03-03T00:00:00",
          "2023-03-04T00:00:00"
         ],
         "xaxis": "x",
         "y": [
          23339,
          24188,
          20872,
          19583,
          18256,
          17137
         ],
         "yaxis": "y"
        }
       ],
       "layout": {
        "legend": {
         "title": {
          "text": "Country,Other"
         },
         "tracegroupgap": 0
        },
        "margin": {
         "t": 60
        },
        "template": {
         "data": {
          "bar": [
           {
            "error_x": {
             "color": "#2a3f5f"
            },
            "error_y": {
             "color": "#2a3f5f"
            },
            "marker": {
             "line": {
              "color": "#E5ECF6",
              "width": 0.5
             },
             "pattern": {
              "fillmode": "overlay",
              "size": 10,
              "solidity": 0.2
             }
            },
            "type": "bar"
           }
          ],
          "barpolar": [
           {
            "marker": {
             "line": {
              "color": "#E5ECF6",
              "width": 0.5
             },
             "pattern": {
              "fillmode": "overlay",
              "size": 10,
              "solidity": 0.2
             }
            },
            "type": "barpolar"
           }
          ],
          "carpet": [
           {
            "aaxis": {
             "endlinecolor": "#2a3f5f",
             "gridcolor": "white",
             "linecolor": "white",
             "minorgridcolor": "white",
             "startlinecolor": "#2a3f5f"
            },
            "baxis": {
             "endlinecolor": "#2a3f5f",
             "gridcolor": "white",
             "linecolor": "white",
             "minorgridcolor": "white",
             "startlinecolor": "#2a3f5f"
            },
            "type": "carpet"
           }
          ],
          "choropleth": [
           {
            "colorbar": {
             "outlinewidth": 0,
             "ticks": ""
            },
            "type": "choropleth"
           }
          ],
          "contour": [
           {
            "colorbar": {
             "outlinewidth": 0,
             "ticks": ""
            },
            "colorscale": [
             [
              0,
              "#0d0887"
             ],
             [
              0.1111111111111111,
              "#46039f"
             ],
             [
              0.2222222222222222,
              "#7201a8"
             ],
             [
              0.3333333333333333,
              "#9c179e"
             ],
             [
              0.4444444444444444,
              "#bd3786"
             ],
             [
              0.5555555555555556,
              "#d8576b"
             ],
             [
              0.6666666666666666,
              "#ed7953"
             ],
             [
              0.7777777777777778,
              "#fb9f3a"
             ],
             [
              0.8888888888888888,
              "#fdca26"
             ],
             [
              1,
              "#f0f921"
             ]
            ],
            "type": "contour"
           }
          ],
          "contourcarpet": [
           {
            "colorbar": {
             "outlinewidth": 0,
             "ticks": ""
            },
            "type": "contourcarpet"
           }
          ],
          "heatmap": [
           {
            "colorbar": {
             "outlinewidth": 0,
             "ticks": ""
            },
            "colorscale": [
             [
              0,
              "#0d0887"
             ],
             [
              0.1111111111111111,
              "#46039f"
             ],
             [
              0.2222222222222222,
              "#7201a8"
             ],
             [
              0.3333333333333333,
              "#9c179e"
             ],
             [
              0.4444444444444444,
              "#bd3786"
             ],
             [
              0.5555555555555556,
              "#d8576b"
             ],
             [
              0.6666666666666666,
              "#ed7953"
             ],
             [
              0.7777777777777778,
              "#fb9f3a"
             ],
             [
              0.8888888888888888,
              "#fdca26"
             ],
             [
              1,
              "#f0f921"
             ]
            ],
            "type": "heatmap"
           }
          ],
          "heatmapgl": [
           {
            "colorbar": {
             "outlinewidth": 0,
             "ticks": ""
            },
            "colorscale": [
             [
              0,
              "#0d0887"
             ],
             [
              0.1111111111111111,
              "#46039f"
             ],
             [
              0.2222222222222222,
              "#7201a8"
             ],
             [
              0.3333333333333333,
              "#9c179e"
             ],
             [
              0.4444444444444444,
              "#bd3786"
             ],
             [
              0.5555555555555556,
              "#d8576b"
             ],
             [
              0.6666666666666666,
              "#ed7953"
             ],
             [
              0.7777777777777778,
              "#fb9f3a"
             ],
             [
              0.8888888888888888,
              "#fdca26"
             ],
             [
              1,
              "#f0f921"
             ]
            ],
            "type": "heatmapgl"
           }
          ],
          "histogram": [
           {
            "marker": {
             "pattern": {
              "fillmode": "overlay",
              "size": 10,
              "solidity": 0.2
             }
            },
            "type": "histogram"
           }
          ],
          "histogram2d": [
           {
            "colorbar": {
             "outlinewidth": 0,
             "ticks": ""
            },
            "colorscale": [
             [
              0,
              "#0d0887"
             ],
             [
              0.1111111111111111,
              "#46039f"
             ],
             [
              0.2222222222222222,
              "#7201a8"
             ],
             [
              0.3333333333333333,
              "#9c179e"
             ],
             [
              0.4444444444444444,
              "#bd3786"
             ],
             [
              0.5555555555555556,
              "#d8576b"
             ],
             [
              0.6666666666666666,
              "#ed7953"
             ],
             [
              0.7777777777777778,
              "#fb9f3a"
             ],
             [
              0.8888888888888888,
              "#fdca26"
             ],
             [
              1,
              "#f0f921"
             ]
            ],
            "type": "histogram2d"
           }
          ],
          "histogram2dcontour": [
           {
            "colorbar": {
             "outlinewidth": 0,
             "ticks": ""
            },
            "colorscale": [
             [
              0,
              "#0d0887"
             ],
             [
              0.1111111111111111,
              "#46039f"
             ],
             [
              0.2222222222222222,
              "#7201a8"
             ],
             [
              0.3333333333333333,
              "#9c179e"
             ],
             [
              0.4444444444444444,
              "#bd3786"
             ],
             [
              0.5555555555555556,
              "#d8576b"
             ],
             [
              0.6666666666666666,
              "#ed7953"
             ],
             [
              0.7777777777777778,
              "#fb9f3a"
             ],
             [
              0.8888888888888888,
              "#fdca26"
             ],
             [
              1,
              "#f0f921"
             ]
            ],
            "type": "histogram2dcontour"
           }
          ],
          "mesh3d": [
           {
            "colorbar": {
             "outlinewidth": 0,
             "ticks": ""
            },
            "type": "mesh3d"
           }
          ],
          "parcoords": [
           {
            "line": {
             "colorbar": {
              "outlinewidth": 0,
              "ticks": ""
             }
            },
            "type": "parcoords"
           }
          ],
          "pie": [
           {
            "automargin": true,
            "type": "pie"
           }
          ],
          "scatter": [
           {
            "fillpattern": {
             "fillmode": "overlay",
             "size": 10,
             "solidity": 0.2
            },
            "type": "scatter"
           }
          ],
          "scatter3d": [
           {
            "line": {
             "colorbar": {
              "outlinewidth": 0,
              "ticks": ""
             }
            },
            "marker": {
             "colorbar": {
              "outlinewidth": 0,
              "ticks": ""
             }
            },
            "type": "scatter3d"
           }
          ],
          "scattercarpet": [
           {
            "marker": {
             "colorbar": {
              "outlinewidth": 0,
              "ticks": ""
             }
            },
            "type": "scattercarpet"
           }
          ],
          "scattergeo": [
           {
            "marker": {
             "colorbar": {
              "outlinewidth": 0,
              "ticks": ""
             }
            },
            "type": "scattergeo"
           }
          ],
          "scattergl": [
           {
            "marker": {
             "colorbar": {
              "outlinewidth": 0,
              "ticks": ""
             }
            },
            "type": "scattergl"
           }
          ],
          "scattermapbox": [
           {
            "marker": {
             "colorbar": {
              "outlinewidth": 0,
              "ticks": ""
             }
            },
            "type": "scattermapbox"
           }
          ],
          "scatterpolar": [
           {
            "marker": {
             "colorbar": {
              "outlinewidth": 0,
              "ticks": ""
             }
            },
            "type": "scatterpolar"
           }
          ],
          "scatterpolargl": [
           {
            "marker": {
             "colorbar": {
              "outlinewidth": 0,
              "ticks": ""
             }
            },
            "type": "scatterpolargl"
           }
          ],
          "scatterternary": [
           {
            "marker": {
             "colorbar": {
              "outlinewidth": 0,
              "ticks": ""
             }
            },
            "type": "scatterternary"
           }
          ],
          "surface": [
           {
            "colorbar": {
             "outlinewidth": 0,
             "ticks": ""
            },
            "colorscale": [
             [
              0,
              "#0d0887"
             ],
             [
              0.1111111111111111,
              "#46039f"
             ],
             [
              0.2222222222222222,
              "#7201a8"
             ],
             [
              0.3333333333333333,
              "#9c179e"
             ],
             [
              0.4444444444444444,
              "#bd3786"
             ],
             [
              0.5555555555555556,
              "#d8576b"
             ],
             [
              0.6666666666666666,
              "#ed7953"
             ],
             [
              0.7777777777777778,
              "#fb9f3a"
             ],
             [
              0.8888888888888888,
              "#fdca26"
             ],
             [
              1,
              "#f0f921"
             ]
            ],
            "type": "surface"
           }
          ],
          "table": [
           {
            "cells": {
             "fill": {
              "color": "#EBF0F8"
             },
             "line": {
              "color": "white"
             }
            },
            "header": {
             "fill": {
              "color": "#C8D4E3"
             },
             "line": {
              "color": "white"
             }
            },
            "type": "table"
           }
          ]
         },
         "layout": {
          "annotationdefaults": {
           "arrowcolor": "#2a3f5f",
           "arrowhead": 0,
           "arrowwidth": 1
          },
          "autotypenumbers": "strict",
          "coloraxis": {
           "colorbar": {
            "outlinewidth": 0,
            "ticks": ""
           }
          },
          "colorscale": {
           "diverging": [
            [
             0,
             "#8e0152"
            ],
            [
             0.1,
             "#c51b7d"
            ],
            [
             0.2,
             "#de77ae"
            ],
            [
             0.3,
             "#f1b6da"
            ],
            [
             0.4,
             "#fde0ef"
            ],
            [
             0.5,
             "#f7f7f7"
            ],
            [
             0.6,
             "#e6f5d0"
            ],
            [
             0.7,
             "#b8e186"
            ],
            [
             0.8,
             "#7fbc41"
            ],
            [
             0.9,
             "#4d9221"
            ],
            [
             1,
             "#276419"
            ]
           ],
           "sequential": [
            [
             0,
             "#0d0887"
            ],
            [
             0.1111111111111111,
             "#46039f"
            ],
            [
             0.2222222222222222,
             "#7201a8"
            ],
            [
             0.3333333333333333,
             "#9c179e"
            ],
            [
             0.4444444444444444,
             "#bd3786"
            ],
            [
             0.5555555555555556,
             "#d8576b"
            ],
            [
             0.6666666666666666,
             "#ed7953"
            ],
            [
             0.7777777777777778,
             "#fb9f3a"
            ],
            [
             0.8888888888888888,
             "#fdca26"
            ],
            [
             1,
             "#f0f921"
            ]
           ],
           "sequentialminus": [
            [
             0,
             "#0d0887"
            ],
            [
             0.1111111111111111,
             "#46039f"
            ],
            [
             0.2222222222222222,
             "#7201a8"
            ],
            [
             0.3333333333333333,
             "#9c179e"
            ],
            [
             0.4444444444444444,
             "#bd3786"
            ],
            [
             0.5555555555555556,
             "#d8576b"
            ],
            [
             0.6666666666666666,
             "#ed7953"
            ],
            [
             0.7777777777777778,
             "#fb9f3a"
            ],
            [
             0.8888888888888888,
             "#fdca26"
            ],
            [
             1,
             "#f0f921"
            ]
           ]
          },
          "colorway": [
           "#636efa",
           "#EF553B",
           "#00cc96",
           "#ab63fa",
           "#FFA15A",
           "#19d3f3",
           "#FF6692",
           "#B6E880",
           "#FF97FF",
           "#FECB52"
          ],
          "font": {
           "color": "#2a3f5f"
          },
          "geo": {
           "bgcolor": "white",
           "lakecolor": "white",
           "landcolor": "#E5ECF6",
           "showlakes": true,
           "showland": true,
           "subunitcolor": "white"
          },
          "hoverlabel": {
           "align": "left"
          },
          "hovermode": "closest",
          "mapbox": {
           "style": "light"
          },
          "paper_bgcolor": "white",
          "plot_bgcolor": "#E5ECF6",
          "polar": {
           "angularaxis": {
            "gridcolor": "white",
            "linecolor": "white",
            "ticks": ""
           },
           "bgcolor": "#E5ECF6",
           "radialaxis": {
            "gridcolor": "white",
            "linecolor": "white",
            "ticks": ""
           }
          },
          "scene": {
           "xaxis": {
            "backgroundcolor": "#E5ECF6",
            "gridcolor": "white",
            "gridwidth": 2,
            "linecolor": "white",
            "showbackground": true,
            "ticks": "",
            "zerolinecolor": "white"
           },
           "yaxis": {
            "backgroundcolor": "#E5ECF6",
            "gridcolor": "white",
            "gridwidth": 2,
            "linecolor": "white",
            "showbackground": true,
            "ticks": "",
            "zerolinecolor": "white"
           },
           "zaxis": {
            "backgroundcolor": "#E5ECF6",
            "gridcolor": "white",
            "gridwidth": 2,
            "linecolor": "white",
            "showbackground": true,
            "ticks": "",
            "zerolinecolor": "white"
           }
          },
          "shapedefaults": {
           "line": {
            "color": "#2a3f5f"
           }
          },
          "ternary": {
           "aaxis": {
            "gridcolor": "white",
            "linecolor": "white",
            "ticks": ""
           },
           "baxis": {
            "gridcolor": "white",
            "linecolor": "white",
            "ticks": ""
           },
           "bgcolor": "#E5ECF6",
           "caxis": {
            "gridcolor": "white",
            "linecolor": "white",
            "ticks": ""
           }
          },
          "title": {
           "x": 0.05
          },
          "xaxis": {
           "automargin": true,
           "gridcolor": "white",
           "linecolor": "white",
           "ticks": "",
           "title": {
            "standoff": 15
           },
           "zerolinecolor": "white",
           "zerolinewidth": 2
          },
          "yaxis": {
           "automargin": true,
           "gridcolor": "white",
           "linecolor": "white",
           "ticks": "",
           "title": {
            "standoff": 15
           },
           "zerolinecolor": "white",
           "zerolinewidth": 2
          }
         }
        },
        "xaxis": {
         "anchor": "y",
         "domain": [
          0,
          1
         ],
         "title": {
          "text": "Date"
         }
        },
        "yaxis": {
         "anchor": "x",
         "domain": [
          0,
          1
         ],
         "title": {
          "text": "NewRecovered"
         }
        }
       }
      }
     },
     "metadata": {},
     "output_type": "display_data"
    }
   ],
   "source": [
    "#compare the total deaths in the top 5 countries with line chart\n",
    "fig = px.line(df[df['Country,Other'].isin(top_5_Tot_Cases_1M_pop)], x='Date', y='NewRecovered', color='Country,Other')\n",
    "fig.show()"
   ]
  },
  {
   "cell_type": "code",
   "execution_count": 14,
   "metadata": {},
   "outputs": [
    {
     "data": {
      "application/vnd.plotly.v1+json": {
       "config": {
        "plotlyServerURL": "https://plot.ly"
       },
       "data": [
        {
         "hovertemplate": "Country,Other=Vietnam<br>Date=%{x}<br>NewDeaths=%{y}<extra></extra>",
         "legendgroup": "Vietnam",
         "line": {
          "color": "#636efa",
          "dash": "solid"
         },
         "marker": {
          "symbol": "circle"
         },
         "mode": "lines",
         "name": "Vietnam",
         "orientation": "v",
         "showlegend": true,
         "type": "scatter",
         "x": [
          "2023-02-26T00:00:00",
          "2023-02-27T00:00:00",
          "2023-02-28T00:00:00",
          "2023-03-01T00:00:00",
          "2023-03-02T00:00:00",
          "2023-03-03T00:00:00",
          "2023-03-04T00:00:00"
         ],
         "xaxis": "x",
         "y": [
          0,
          0,
          0,
          0,
          0,
          0,
          0
         ],
         "yaxis": "y"
        },
        {
         "hovertemplate": "Country,Other=India<br>Date=%{x}<br>NewDeaths=%{y}<extra></extra>",
         "legendgroup": "India",
         "line": {
          "color": "#EF553B",
          "dash": "solid"
         },
         "marker": {
          "symbol": "circle"
         },
         "mode": "lines",
         "name": "India",
         "orientation": "v",
         "showlegend": true,
         "type": "scatter",
         "x": [
          "2023-02-27T00:00:00",
          "2023-02-28T00:00:00",
          "2023-03-01T00:00:00",
          "2023-03-02T00:00:00",
          "2023-03-03T00:00:00",
          "2023-03-04T00:00:00"
         ],
         "xaxis": "x",
         "y": [
          1,
          1,
          0,
          0,
          3,
          0
         ],
         "yaxis": "y"
        },
        {
         "hovertemplate": "Country,Other=Japan<br>Date=%{x}<br>NewDeaths=%{y}<extra></extra>",
         "legendgroup": "Japan",
         "line": {
          "color": "#00cc96",
          "dash": "solid"
         },
         "marker": {
          "symbol": "circle"
         },
         "mode": "lines",
         "name": "Japan",
         "orientation": "v",
         "showlegend": true,
         "type": "scatter",
         "x": [
          "2023-02-27T00:00:00",
          "2023-02-28T00:00:00",
          "2023-03-01T00:00:00",
          "2023-03-02T00:00:00",
          "2023-03-03T00:00:00",
          "2023-03-04T00:00:00"
         ],
         "xaxis": "x",
         "y": [
          52,
          67,
          99,
          87,
          67,
          81
         ],
         "yaxis": "y"
        },
        {
         "hovertemplate": "Country,Other=S. Korea<br>Date=%{x}<br>NewDeaths=%{y}<extra></extra>",
         "legendgroup": "S. Korea",
         "line": {
          "color": "#ab63fa",
          "dash": "solid"
         },
         "marker": {
          "symbol": "circle"
         },
         "mode": "lines",
         "name": "S. Korea",
         "orientation": "v",
         "showlegend": true,
         "type": "scatter",
         "x": [
          "2023-02-27T00:00:00",
          "2023-02-28T00:00:00",
          "2023-03-01T00:00:00",
          "2023-03-02T00:00:00",
          "2023-03-03T00:00:00",
          "2023-03-04T00:00:00"
         ],
         "xaxis": "x",
         "y": [
          15,
          16,
          11,
          15,
          11,
          6
         ],
         "yaxis": "y"
        },
        {
         "hovertemplate": "Country,Other=Taiwan<br>Date=%{x}<br>NewDeaths=%{y}<extra></extra>",
         "legendgroup": "Taiwan",
         "line": {
          "color": "#FFA15A",
          "dash": "solid"
         },
         "marker": {
          "symbol": "circle"
         },
         "mode": "lines",
         "name": "Taiwan",
         "orientation": "v",
         "showlegend": true,
         "type": "scatter",
         "x": [
          "2023-02-27T00:00:00",
          "2023-02-28T00:00:00",
          "2023-03-01T00:00:00",
          "2023-03-02T00:00:00",
          "2023-03-03T00:00:00",
          "2023-03-04T00:00:00"
         ],
         "xaxis": "x",
         "y": [
          44,
          40,
          27,
          35,
          62,
          71
         ],
         "yaxis": "y"
        }
       ],
       "layout": {
        "legend": {
         "title": {
          "text": "Country,Other"
         },
         "tracegroupgap": 0
        },
        "margin": {
         "t": 60
        },
        "template": {
         "data": {
          "bar": [
           {
            "error_x": {
             "color": "#2a3f5f"
            },
            "error_y": {
             "color": "#2a3f5f"
            },
            "marker": {
             "line": {
              "color": "#E5ECF6",
              "width": 0.5
             },
             "pattern": {
              "fillmode": "overlay",
              "size": 10,
              "solidity": 0.2
             }
            },
            "type": "bar"
           }
          ],
          "barpolar": [
           {
            "marker": {
             "line": {
              "color": "#E5ECF6",
              "width": 0.5
             },
             "pattern": {
              "fillmode": "overlay",
              "size": 10,
              "solidity": 0.2
             }
            },
            "type": "barpolar"
           }
          ],
          "carpet": [
           {
            "aaxis": {
             "endlinecolor": "#2a3f5f",
             "gridcolor": "white",
             "linecolor": "white",
             "minorgridcolor": "white",
             "startlinecolor": "#2a3f5f"
            },
            "baxis": {
             "endlinecolor": "#2a3f5f",
             "gridcolor": "white",
             "linecolor": "white",
             "minorgridcolor": "white",
             "startlinecolor": "#2a3f5f"
            },
            "type": "carpet"
           }
          ],
          "choropleth": [
           {
            "colorbar": {
             "outlinewidth": 0,
             "ticks": ""
            },
            "type": "choropleth"
           }
          ],
          "contour": [
           {
            "colorbar": {
             "outlinewidth": 0,
             "ticks": ""
            },
            "colorscale": [
             [
              0,
              "#0d0887"
             ],
             [
              0.1111111111111111,
              "#46039f"
             ],
             [
              0.2222222222222222,
              "#7201a8"
             ],
             [
              0.3333333333333333,
              "#9c179e"
             ],
             [
              0.4444444444444444,
              "#bd3786"
             ],
             [
              0.5555555555555556,
              "#d8576b"
             ],
             [
              0.6666666666666666,
              "#ed7953"
             ],
             [
              0.7777777777777778,
              "#fb9f3a"
             ],
             [
              0.8888888888888888,
              "#fdca26"
             ],
             [
              1,
              "#f0f921"
             ]
            ],
            "type": "contour"
           }
          ],
          "contourcarpet": [
           {
            "colorbar": {
             "outlinewidth": 0,
             "ticks": ""
            },
            "type": "contourcarpet"
           }
          ],
          "heatmap": [
           {
            "colorbar": {
             "outlinewidth": 0,
             "ticks": ""
            },
            "colorscale": [
             [
              0,
              "#0d0887"
             ],
             [
              0.1111111111111111,
              "#46039f"
             ],
             [
              0.2222222222222222,
              "#7201a8"
             ],
             [
              0.3333333333333333,
              "#9c179e"
             ],
             [
              0.4444444444444444,
              "#bd3786"
             ],
             [
              0.5555555555555556,
              "#d8576b"
             ],
             [
              0.6666666666666666,
              "#ed7953"
             ],
             [
              0.7777777777777778,
              "#fb9f3a"
             ],
             [
              0.8888888888888888,
              "#fdca26"
             ],
             [
              1,
              "#f0f921"
             ]
            ],
            "type": "heatmap"
           }
          ],
          "heatmapgl": [
           {
            "colorbar": {
             "outlinewidth": 0,
             "ticks": ""
            },
            "colorscale": [
             [
              0,
              "#0d0887"
             ],
             [
              0.1111111111111111,
              "#46039f"
             ],
             [
              0.2222222222222222,
              "#7201a8"
             ],
             [
              0.3333333333333333,
              "#9c179e"
             ],
             [
              0.4444444444444444,
              "#bd3786"
             ],
             [
              0.5555555555555556,
              "#d8576b"
             ],
             [
              0.6666666666666666,
              "#ed7953"
             ],
             [
              0.7777777777777778,
              "#fb9f3a"
             ],
             [
              0.8888888888888888,
              "#fdca26"
             ],
             [
              1,
              "#f0f921"
             ]
            ],
            "type": "heatmapgl"
           }
          ],
          "histogram": [
           {
            "marker": {
             "pattern": {
              "fillmode": "overlay",
              "size": 10,
              "solidity": 0.2
             }
            },
            "type": "histogram"
           }
          ],
          "histogram2d": [
           {
            "colorbar": {
             "outlinewidth": 0,
             "ticks": ""
            },
            "colorscale": [
             [
              0,
              "#0d0887"
             ],
             [
              0.1111111111111111,
              "#46039f"
             ],
             [
              0.2222222222222222,
              "#7201a8"
             ],
             [
              0.3333333333333333,
              "#9c179e"
             ],
             [
              0.4444444444444444,
              "#bd3786"
             ],
             [
              0.5555555555555556,
              "#d8576b"
             ],
             [
              0.6666666666666666,
              "#ed7953"
             ],
             [
              0.7777777777777778,
              "#fb9f3a"
             ],
             [
              0.8888888888888888,
              "#fdca26"
             ],
             [
              1,
              "#f0f921"
             ]
            ],
            "type": "histogram2d"
           }
          ],
          "histogram2dcontour": [
           {
            "colorbar": {
             "outlinewidth": 0,
             "ticks": ""
            },
            "colorscale": [
             [
              0,
              "#0d0887"
             ],
             [
              0.1111111111111111,
              "#46039f"
             ],
             [
              0.2222222222222222,
              "#7201a8"
             ],
             [
              0.3333333333333333,
              "#9c179e"
             ],
             [
              0.4444444444444444,
              "#bd3786"
             ],
             [
              0.5555555555555556,
              "#d8576b"
             ],
             [
              0.6666666666666666,
              "#ed7953"
             ],
             [
              0.7777777777777778,
              "#fb9f3a"
             ],
             [
              0.8888888888888888,
              "#fdca26"
             ],
             [
              1,
              "#f0f921"
             ]
            ],
            "type": "histogram2dcontour"
           }
          ],
          "mesh3d": [
           {
            "colorbar": {
             "outlinewidth": 0,
             "ticks": ""
            },
            "type": "mesh3d"
           }
          ],
          "parcoords": [
           {
            "line": {
             "colorbar": {
              "outlinewidth": 0,
              "ticks": ""
             }
            },
            "type": "parcoords"
           }
          ],
          "pie": [
           {
            "automargin": true,
            "type": "pie"
           }
          ],
          "scatter": [
           {
            "fillpattern": {
             "fillmode": "overlay",
             "size": 10,
             "solidity": 0.2
            },
            "type": "scatter"
           }
          ],
          "scatter3d": [
           {
            "line": {
             "colorbar": {
              "outlinewidth": 0,
              "ticks": ""
             }
            },
            "marker": {
             "colorbar": {
              "outlinewidth": 0,
              "ticks": ""
             }
            },
            "type": "scatter3d"
           }
          ],
          "scattercarpet": [
           {
            "marker": {
             "colorbar": {
              "outlinewidth": 0,
              "ticks": ""
             }
            },
            "type": "scattercarpet"
           }
          ],
          "scattergeo": [
           {
            "marker": {
             "colorbar": {
              "outlinewidth": 0,
              "ticks": ""
             }
            },
            "type": "scattergeo"
           }
          ],
          "scattergl": [
           {
            "marker": {
             "colorbar": {
              "outlinewidth": 0,
              "ticks": ""
             }
            },
            "type": "scattergl"
           }
          ],
          "scattermapbox": [
           {
            "marker": {
             "colorbar": {
              "outlinewidth": 0,
              "ticks": ""
             }
            },
            "type": "scattermapbox"
           }
          ],
          "scatterpolar": [
           {
            "marker": {
             "colorbar": {
              "outlinewidth": 0,
              "ticks": ""
             }
            },
            "type": "scatterpolar"
           }
          ],
          "scatterpolargl": [
           {
            "marker": {
             "colorbar": {
              "outlinewidth": 0,
              "ticks": ""
             }
            },
            "type": "scatterpolargl"
           }
          ],
          "scatterternary": [
           {
            "marker": {
             "colorbar": {
              "outlinewidth": 0,
              "ticks": ""
             }
            },
            "type": "scatterternary"
           }
          ],
          "surface": [
           {
            "colorbar": {
             "outlinewidth": 0,
             "ticks": ""
            },
            "colorscale": [
             [
              0,
              "#0d0887"
             ],
             [
              0.1111111111111111,
              "#46039f"
             ],
             [
              0.2222222222222222,
              "#7201a8"
             ],
             [
              0.3333333333333333,
              "#9c179e"
             ],
             [
              0.4444444444444444,
              "#bd3786"
             ],
             [
              0.5555555555555556,
              "#d8576b"
             ],
             [
              0.6666666666666666,
              "#ed7953"
             ],
             [
              0.7777777777777778,
              "#fb9f3a"
             ],
             [
              0.8888888888888888,
              "#fdca26"
             ],
             [
              1,
              "#f0f921"
             ]
            ],
            "type": "surface"
           }
          ],
          "table": [
           {
            "cells": {
             "fill": {
              "color": "#EBF0F8"
             },
             "line": {
              "color": "white"
             }
            },
            "header": {
             "fill": {
              "color": "#C8D4E3"
             },
             "line": {
              "color": "white"
             }
            },
            "type": "table"
           }
          ]
         },
         "layout": {
          "annotationdefaults": {
           "arrowcolor": "#2a3f5f",
           "arrowhead": 0,
           "arrowwidth": 1
          },
          "autotypenumbers": "strict",
          "coloraxis": {
           "colorbar": {
            "outlinewidth": 0,
            "ticks": ""
           }
          },
          "colorscale": {
           "diverging": [
            [
             0,
             "#8e0152"
            ],
            [
             0.1,
             "#c51b7d"
            ],
            [
             0.2,
             "#de77ae"
            ],
            [
             0.3,
             "#f1b6da"
            ],
            [
             0.4,
             "#fde0ef"
            ],
            [
             0.5,
             "#f7f7f7"
            ],
            [
             0.6,
             "#e6f5d0"
            ],
            [
             0.7,
             "#b8e186"
            ],
            [
             0.8,
             "#7fbc41"
            ],
            [
             0.9,
             "#4d9221"
            ],
            [
             1,
             "#276419"
            ]
           ],
           "sequential": [
            [
             0,
             "#0d0887"
            ],
            [
             0.1111111111111111,
             "#46039f"
            ],
            [
             0.2222222222222222,
             "#7201a8"
            ],
            [
             0.3333333333333333,
             "#9c179e"
            ],
            [
             0.4444444444444444,
             "#bd3786"
            ],
            [
             0.5555555555555556,
             "#d8576b"
            ],
            [
             0.6666666666666666,
             "#ed7953"
            ],
            [
             0.7777777777777778,
             "#fb9f3a"
            ],
            [
             0.8888888888888888,
             "#fdca26"
            ],
            [
             1,
             "#f0f921"
            ]
           ],
           "sequentialminus": [
            [
             0,
             "#0d0887"
            ],
            [
             0.1111111111111111,
             "#46039f"
            ],
            [
             0.2222222222222222,
             "#7201a8"
            ],
            [
             0.3333333333333333,
             "#9c179e"
            ],
            [
             0.4444444444444444,
             "#bd3786"
            ],
            [
             0.5555555555555556,
             "#d8576b"
            ],
            [
             0.6666666666666666,
             "#ed7953"
            ],
            [
             0.7777777777777778,
             "#fb9f3a"
            ],
            [
             0.8888888888888888,
             "#fdca26"
            ],
            [
             1,
             "#f0f921"
            ]
           ]
          },
          "colorway": [
           "#636efa",
           "#EF553B",
           "#00cc96",
           "#ab63fa",
           "#FFA15A",
           "#19d3f3",
           "#FF6692",
           "#B6E880",
           "#FF97FF",
           "#FECB52"
          ],
          "font": {
           "color": "#2a3f5f"
          },
          "geo": {
           "bgcolor": "white",
           "lakecolor": "white",
           "landcolor": "#E5ECF6",
           "showlakes": true,
           "showland": true,
           "subunitcolor": "white"
          },
          "hoverlabel": {
           "align": "left"
          },
          "hovermode": "closest",
          "mapbox": {
           "style": "light"
          },
          "paper_bgcolor": "white",
          "plot_bgcolor": "#E5ECF6",
          "polar": {
           "angularaxis": {
            "gridcolor": "white",
            "linecolor": "white",
            "ticks": ""
           },
           "bgcolor": "#E5ECF6",
           "radialaxis": {
            "gridcolor": "white",
            "linecolor": "white",
            "ticks": ""
           }
          },
          "scene": {
           "xaxis": {
            "backgroundcolor": "#E5ECF6",
            "gridcolor": "white",
            "gridwidth": 2,
            "linecolor": "white",
            "showbackground": true,
            "ticks": "",
            "zerolinecolor": "white"
           },
           "yaxis": {
            "backgroundcolor": "#E5ECF6",
            "gridcolor": "white",
            "gridwidth": 2,
            "linecolor": "white",
            "showbackground": true,
            "ticks": "",
            "zerolinecolor": "white"
           },
           "zaxis": {
            "backgroundcolor": "#E5ECF6",
            "gridcolor": "white",
            "gridwidth": 2,
            "linecolor": "white",
            "showbackground": true,
            "ticks": "",
            "zerolinecolor": "white"
           }
          },
          "shapedefaults": {
           "line": {
            "color": "#2a3f5f"
           }
          },
          "ternary": {
           "aaxis": {
            "gridcolor": "white",
            "linecolor": "white",
            "ticks": ""
           },
           "baxis": {
            "gridcolor": "white",
            "linecolor": "white",
            "ticks": ""
           },
           "bgcolor": "#E5ECF6",
           "caxis": {
            "gridcolor": "white",
            "linecolor": "white",
            "ticks": ""
           }
          },
          "title": {
           "x": 0.05
          },
          "xaxis": {
           "automargin": true,
           "gridcolor": "white",
           "linecolor": "white",
           "ticks": "",
           "title": {
            "standoff": 15
           },
           "zerolinecolor": "white",
           "zerolinewidth": 2
          },
          "yaxis": {
           "automargin": true,
           "gridcolor": "white",
           "linecolor": "white",
           "ticks": "",
           "title": {
            "standoff": 15
           },
           "zerolinecolor": "white",
           "zerolinewidth": 2
          }
         }
        },
        "xaxis": {
         "anchor": "y",
         "domain": [
          0,
          1
         ],
         "title": {
          "text": "Date"
         }
        },
        "yaxis": {
         "anchor": "x",
         "domain": [
          0,
          1
         ],
         "title": {
          "text": "NewDeaths"
         }
        }
       }
      }
     },
     "metadata": {},
     "output_type": "display_data"
    }
   ],
   "source": [
    "fig = px.line(df[df['Country,Other'].isin(top_5_Tot_Cases_1M_pop)], x='Date', y='NewDeaths', color='Country,Other')\n",
    "fig.show()"
   ]
  },
  {
   "attachments": {},
   "cell_type": "markdown",
   "metadata": {},
   "source": [
    "Trong vòng 7 ngày, S.Korea là quốc gia có số ca hồi phục nhiều nhất và số ca tử vong giảm dần, có thể nói rằng S.Korea đang đứng đầu trong việc kiểm soát dịch bệnh"
   ]
  },
  {
   "cell_type": "code",
   "execution_count": 15,
   "metadata": {},
   "outputs": [
    {
     "data": {
      "application/vnd.plotly.v1+json": {
       "config": {
        "plotlyServerURL": "https://plot.ly"
       },
       "data": [
        {
         "hovertemplate": "Country,Other=Vietnam<br>TotalCases=%{x}<br>NewCases=%{y}<extra></extra>",
         "legendgroup": "Vietnam",
         "marker": {
          "color": "#636efa",
          "symbol": "circle"
         },
         "mode": "markers",
         "name": "Vietnam",
         "orientation": "v",
         "showlegend": true,
         "type": "scatter",
         "x": [
          11526901,
          11526905,
          11526917,
          11526926,
          11526937,
          11526950,
          11526962
         ],
         "xaxis": "x",
         "y": [
          10,
          4,
          12,
          9,
          11,
          13,
          12
         ],
         "yaxis": "y"
        },
        {
         "hovertemplate": "Country,Other=India<br>TotalCases=%{x}<br>NewCases=%{y}<extra></extra>",
         "legendgroup": "India",
         "marker": {
          "color": "#EF553B",
          "symbol": "circle"
         },
         "mode": "markers",
         "name": "India",
         "orientation": "v",
         "showlegend": true,
         "type": "scatter",
         "x": [
          44686371,
          44686611,
          44686879,
          44687162,
          44687496,
          44687820
         ],
         "xaxis": "x",
         "y": [
          169,
          240,
          268,
          283,
          334,
          324
         ],
         "yaxis": "y"
        },
        {
         "hovertemplate": "Country,Other=Japan<br>TotalCases=%{x}<br>NewCases=%{y}<extra></extra>",
         "legendgroup": "Japan",
         "marker": {
          "color": "#00cc96",
          "symbol": "circle"
         },
         "mode": "markers",
         "name": "Japan",
         "orientation": "v",
         "showlegend": true,
         "type": "scatter",
         "x": [
          33190564,
          33205088,
          33219038,
          33230544,
          33241066,
          33251497
         ],
         "xaxis": "x",
         "y": [
          5598,
          14524,
          13950,
          11506,
          10522,
          10431
         ],
         "yaxis": "y"
        },
        {
         "hovertemplate": "Country,Other=S. Korea<br>TotalCases=%{x}<br>NewCases=%{y}<extra></extra>",
         "legendgroup": "S. Korea",
         "marker": {
          "color": "#ab63fa",
          "symbol": "circle"
         },
         "mode": "markers",
         "name": "S. Korea",
         "orientation": "v",
         "showlegend": true,
         "type": "scatter",
         "x": [
          30502904,
          30513721,
          30526012,
          30533573,
          30543981,
          30555102
         ],
         "xaxis": "x",
         "y": [
          4026,
          10817,
          12291,
          7561,
          10408,
          11121
         ],
         "yaxis": "y"
        },
        {
         "hovertemplate": "Country,Other=Taiwan<br>TotalCases=%{x}<br>NewCases=%{y}<extra></extra>",
         "legendgroup": "Taiwan",
         "marker": {
          "color": "#FFA15A",
          "symbol": "circle"
         },
         "mode": "markers",
         "name": "Taiwan",
         "orientation": "v",
         "showlegend": true,
         "type": "scatter",
         "x": [
          10033107,
          10043227,
          10055436,
          10069538,
          10083336,
          10094733
         ],
         "xaxis": "x",
         "y": [
          7744,
          10120,
          12209,
          14102,
          13798,
          11397
         ],
         "yaxis": "y"
        },
        {
         "hovertemplate": "Country,Other=Iran<br>TotalCases=%{x}<br>NewCases=%{y}<extra></extra>",
         "legendgroup": "Iran",
         "marker": {
          "color": "#19d3f3",
          "symbol": "circle"
         },
         "mode": "markers",
         "name": "Iran",
         "orientation": "v",
         "showlegend": true,
         "type": "scatter",
         "x": [
          7567824,
          7567906,
          7568903,
          7569261,
          7569483,
          7569769
         ],
         "xaxis": "x",
         "y": [
          122,
          82,
          997,
          358,
          222,
          286
         ],
         "yaxis": "y"
        },
        {
         "hovertemplate": "Country,Other=Indonesia<br>TotalCases=%{x}<br>NewCases=%{y}<extra></extra>",
         "legendgroup": "Indonesia",
         "marker": {
          "color": "#FF6692",
          "symbol": "circle"
         },
         "mode": "markers",
         "name": "Indonesia",
         "orientation": "v",
         "showlegend": true,
         "type": "scatter",
         "x": [
          6735780,
          6736046,
          6736298,
          6736576,
          6736787,
          6736994
         ],
         "xaxis": "x",
         "y": [
          152,
          266,
          252,
          278,
          211,
          207
         ],
         "yaxis": "y"
        },
        {
         "hovertemplate": "Country,Other=Malaysia<br>TotalCases=%{x}<br>NewCases=%{y}<extra></extra>",
         "legendgroup": "Malaysia",
         "marker": {
          "color": "#B6E880",
          "symbol": "circle"
         },
         "mode": "markers",
         "name": "Malaysia",
         "orientation": "v",
         "showlegend": true,
         "type": "scatter",
         "x": [
          5042585,
          5042791,
          5043008,
          5043252,
          5043456,
          5043626
         ],
         "xaxis": "x",
         "y": [
          190,
          206,
          217,
          244,
          204,
          170
         ],
         "yaxis": "y"
        },
        {
         "hovertemplate": "Country,Other=Israel<br>TotalCases=%{x}<br>NewCases=%{y}<extra></extra>",
         "legendgroup": "Israel",
         "marker": {
          "color": "#FF97FF",
          "symbol": "circle"
         },
         "mode": "markers",
         "name": "Israel",
         "orientation": "v",
         "showlegend": true,
         "type": "scatter",
         "x": [
          4798654,
          4799283,
          4799640,
          4800397,
          4800913,
          4801230
         ],
         "xaxis": "x",
         "y": [
          965,
          629,
          357,
          757,
          516,
          317
         ],
         "yaxis": "y"
        },
        {
         "hovertemplate": "Country,Other=DPRK<br>TotalCases=%{x}<br>NewCases=%{y}<extra></extra>",
         "legendgroup": "DPRK",
         "marker": {
          "color": "#FECB52",
          "symbol": "circle"
         },
         "mode": "markers",
         "name": "DPRK",
         "orientation": "v",
         "showlegend": true,
         "type": "scatter",
         "x": [
          4772813,
          4772813,
          4772813,
          4772813,
          4772813,
          4772813
         ],
         "xaxis": "x",
         "y": [
          0,
          0,
          0,
          0,
          0,
          0
         ],
         "yaxis": "y"
        },
        {
         "hovertemplate": "Country,Other=Thailand<br>TotalCases=%{x}<br>NewCases=%{y}<extra></extra>",
         "legendgroup": "Thailand",
         "marker": {
          "color": "#636efa",
          "symbol": "circle"
         },
         "mode": "markers",
         "name": "Thailand",
         "orientation": "v",
         "showlegend": true,
         "type": "scatter",
         "x": [
          4728035,
          4728035,
          4728035,
          4728035,
          4728035,
          4728035
         ],
         "xaxis": "x",
         "y": [
          204,
          0,
          0,
          0,
          0,
          0
         ],
         "yaxis": "y"
        },
        {
         "hovertemplate": "Country,Other=Philippines<br>TotalCases=%{x}<br>NewCases=%{y}<extra></extra>",
         "legendgroup": "Philippines",
         "marker": {
          "color": "#EF553B",
          "symbol": "circle"
         },
         "mode": "markers",
         "name": "Philippines",
         "orientation": "v",
         "showlegend": true,
         "type": "scatter",
         "x": [
          4076230,
          4076297,
          4076404,
          4076562,
          4076696,
          4076866
         ],
         "xaxis": "x",
         "y": [
          88,
          67,
          107,
          158,
          134,
          170
         ],
         "yaxis": "y"
        },
        {
         "hovertemplate": "Country,Other=Hong Kong<br>TotalCases=%{x}<br>NewCases=%{y}<extra></extra>",
         "legendgroup": "Hong Kong",
         "marker": {
          "color": "#00cc96",
          "symbol": "circle"
         },
         "mode": "markers",
         "name": "Hong Kong",
         "orientation": "v",
         "showlegend": true,
         "type": "scatter",
         "x": [
          2883250,
          2883346,
          2883453,
          2883528,
          2883613,
          2883655
         ],
         "xaxis": "x",
         "y": [
          93,
          96,
          107,
          75,
          85,
          42
         ],
         "yaxis": "y"
        },
        {
         "hovertemplate": "Country,Other=Iraq<br>TotalCases=%{x}<br>NewCases=%{y}<extra></extra>",
         "legendgroup": "Iraq",
         "marker": {
          "color": "#ab63fa",
          "symbol": "circle"
         },
         "mode": "markers",
         "name": "Iraq",
         "orientation": "v",
         "showlegend": true,
         "type": "scatter",
         "x": [
          2465545,
          2465545,
          2465545,
          2465545,
          2465545,
          2465545
         ],
         "xaxis": "x",
         "y": [
          0,
          0,
          0,
          0,
          0,
          0
         ],
         "yaxis": "y"
        },
        {
         "hovertemplate": "Country,Other=Singapore<br>TotalCases=%{x}<br>NewCases=%{y}<extra></extra>",
         "legendgroup": "Singapore",
         "marker": {
          "color": "#FFA15A",
          "symbol": "circle"
         },
         "mode": "markers",
         "name": "Singapore",
         "orientation": "v",
         "showlegend": true,
         "type": "scatter",
         "x": [
          2222006,
          2222006,
          2230570,
          2230570,
          2230570,
          2230570
         ],
         "xaxis": "x",
         "y": [
          0,
          0,
          0,
          0,
          0,
          0
         ],
         "yaxis": "y"
        },
        {
         "hovertemplate": "Country,Other=Bangladesh<br>TotalCases=%{x}<br>NewCases=%{y}<extra></extra>",
         "legendgroup": "Bangladesh",
         "marker": {
          "color": "#19d3f3",
          "symbol": "circle"
         },
         "mode": "markers",
         "name": "Bangladesh",
         "orientation": "v",
         "showlegend": true,
         "type": "scatter",
         "x": [
          2037773,
          2037818,
          2037829,
          2037829,
          2037829,
          2037829
         ],
         "xaxis": "x",
         "y": [
          0,
          10,
          11,
          0,
          0,
          0
         ],
         "yaxis": "y"
        },
        {
         "hovertemplate": "Country,Other=Georgia<br>TotalCases=%{x}<br>NewCases=%{y}<extra></extra>",
         "legendgroup": "Georgia",
         "marker": {
          "color": "#FF6692",
          "symbol": "circle"
         },
         "mode": "markers",
         "name": "Georgia",
         "orientation": "v",
         "showlegend": true,
         "type": "scatter",
         "x": [
          1825598,
          1825598,
          1825598,
          1825598,
          1825598,
          1825598
         ],
         "xaxis": "x",
         "y": [
          0,
          0,
          0,
          0,
          0,
          0
         ],
         "yaxis": "y"
        },
        {
         "hovertemplate": "Country,Other=Jordan<br>TotalCases=%{x}<br>NewCases=%{y}<extra></extra>",
         "legendgroup": "Jordan",
         "marker": {
          "color": "#B6E880",
          "symbol": "circle"
         },
         "mode": "markers",
         "name": "Jordan",
         "orientation": "v",
         "showlegend": true,
         "type": "scatter",
         "x": [
          1746997,
          1746997,
          1746997,
          1746997,
          1746997,
          1746997
         ],
         "xaxis": "x",
         "y": [
          0,
          0,
          0,
          0,
          0,
          0
         ],
         "yaxis": "y"
        },
        {
         "hovertemplate": "Country,Other=Pakistan<br>TotalCases=%{x}<br>NewCases=%{y}<extra></extra>",
         "legendgroup": "Pakistan",
         "marker": {
          "color": "#FF97FF",
          "symbol": "circle"
         },
         "mode": "markers",
         "name": "Pakistan",
         "orientation": "v",
         "showlegend": true,
         "type": "scatter",
         "x": [
          1576939,
          1576962,
          1576999,
          1577031,
          1577073,
          1577119
         ],
         "xaxis": "x",
         "y": [
          23,
          23,
          37,
          32,
          42,
          46
         ],
         "yaxis": "y"
        },
        {
         "hovertemplate": "Country,Other=Kazakhstan<br>TotalCases=%{x}<br>NewCases=%{y}<extra></extra>",
         "legendgroup": "Kazakhstan",
         "marker": {
          "color": "#FECB52",
          "symbol": "circle"
         },
         "mode": "markers",
         "name": "Kazakhstan",
         "orientation": "v",
         "showlegend": true,
         "type": "scatter",
         "x": [
          1407823,
          1407823,
          1407942,
          1408038,
          1408124,
          1408124
         ],
         "xaxis": "x",
         "y": [
          472,
          0,
          119,
          96,
          86,
          0
         ],
         "yaxis": "y"
        },
        {
         "hovertemplate": "Country,Other=Lebanon<br>TotalCases=%{x}<br>NewCases=%{y}<extra></extra>",
         "legendgroup": "Lebanon",
         "marker": {
          "color": "#636efa",
          "symbol": "circle"
         },
         "mode": "markers",
         "name": "Lebanon",
         "orientation": "v",
         "showlegend": true,
         "type": "scatter",
         "x": [
          1231840,
          1231840,
          1232063,
          1232063,
          1232301,
          1232301
         ],
         "xaxis": "x",
         "y": [
          127,
          0,
          223,
          0,
          238,
          0
         ],
         "yaxis": "y"
        },
        {
         "hovertemplate": "Country,Other=UAE<br>TotalCases=%{x}<br>NewCases=%{y}<extra></extra>",
         "legendgroup": "UAE",
         "marker": {
          "color": "#EF553B",
          "symbol": "circle"
         },
         "mode": "markers",
         "name": "UAE",
         "orientation": "v",
         "showlegend": true,
         "type": "scatter",
         "x": [
          1051930,
          1051998,
          1052122,
          1052247,
          1052382,
          1052519
         ],
         "xaxis": "x",
         "y": [
          68,
          68,
          124,
          125,
          135,
          137
         ],
         "yaxis": "y"
        },
        {
         "hovertemplate": "Country,Other=Mongolia<br>TotalCases=%{x}<br>NewCases=%{y}<extra></extra>",
         "legendgroup": "Mongolia",
         "marker": {
          "color": "#00cc96",
          "symbol": "circle"
         },
         "mode": "markers",
         "name": "Mongolia",
         "orientation": "v",
         "showlegend": true,
         "type": "scatter",
         "x": [
          1007896,
          1007896,
          1007897,
          1007897,
          1007897,
          1007897
         ],
         "xaxis": "x",
         "y": [
          0,
          0,
          1,
          0,
          0,
          0
         ],
         "yaxis": "y"
        },
        {
         "hovertemplate": "Country,Other=Nepal<br>TotalCases=%{x}<br>NewCases=%{y}<extra></extra>",
         "legendgroup": "Nepal",
         "marker": {
          "color": "#ab63fa",
          "symbol": "circle"
         },
         "mode": "markers",
         "name": "Nepal",
         "orientation": "v",
         "showlegend": true,
         "type": "scatter",
         "x": [
          1001143,
          1001145,
          1001148,
          1001149,
          1001149,
          1001149
         ],
         "xaxis": "x",
         "y": [
          3,
          2,
          3,
          1,
          0,
          0
         ],
         "yaxis": "y"
        },
        {
         "hovertemplate": "Country,Other=Saudi Arabia<br>TotalCases=%{x}<br>NewCases=%{y}<extra></extra>",
         "legendgroup": "Saudi Arabia",
         "marker": {
          "color": "#FFA15A",
          "symbol": "circle"
         },
         "mode": "markers",
         "name": "Saudi Arabia",
         "orientation": "v",
         "showlegend": true,
         "type": "scatter",
         "x": [
          829388,
          829478,
          829554,
          829624,
          829624,
          829688
         ],
         "xaxis": "x",
         "y": [
          101,
          90,
          76,
          70,
          0,
          64
         ],
         "yaxis": "y"
        },
        {
         "hovertemplate": "Country,Other=Azerbaijan<br>TotalCases=%{x}<br>NewCases=%{y}<extra></extra>",
         "legendgroup": "Azerbaijan",
         "marker": {
          "color": "#19d3f3",
          "symbol": "circle"
         },
         "mode": "markers",
         "name": "Azerbaijan",
         "orientation": "v",
         "showlegend": true,
         "type": "scatter",
         "x": [
          828512,
          828548,
          828588,
          828628,
          828648,
          828682
         ],
         "xaxis": "x",
         "y": [
          0,
          36,
          40,
          40,
          20,
          34
         ],
         "yaxis": "y"
        },
        {
         "hovertemplate": "Country,Other=Bahrain<br>TotalCases=%{x}<br>NewCases=%{y}<extra></extra>",
         "legendgroup": "Bahrain",
         "marker": {
          "color": "#FF6692",
          "symbol": "circle"
         },
         "mode": "markers",
         "name": "Bahrain",
         "orientation": "v",
         "showlegend": true,
         "type": "scatter",
         "x": [
          707105,
          707480,
          707828,
          708061,
          708532,
          708768
         ],
         "xaxis": "x",
         "y": [
          855,
          375,
          348,
          233,
          471,
          236
         ],
         "yaxis": "y"
        },
        {
         "hovertemplate": "Country,Other=Sri Lanka<br>TotalCases=%{x}<br>NewCases=%{y}<extra></extra>",
         "legendgroup": "Sri Lanka",
         "marker": {
          "color": "#B6E880",
          "symbol": "circle"
         },
         "mode": "markers",
         "name": "Sri Lanka",
         "orientation": "v",
         "showlegend": true,
         "type": "scatter",
         "x": [
          672029,
          672030,
          672031,
          672031,
          672032,
          672032
         ],
         "xaxis": "x",
         "y": [
          2,
          1,
          1,
          0,
          1,
          0
         ],
         "yaxis": "y"
        },
        {
         "hovertemplate": "Country,Other=Kuwait<br>TotalCases=%{x}<br>NewCases=%{y}<extra></extra>",
         "legendgroup": "Kuwait",
         "marker": {
          "color": "#FF97FF",
          "symbol": "circle"
         },
         "mode": "markers",
         "name": "Kuwait",
         "orientation": "v",
         "showlegend": true,
         "type": "scatter",
         "x": [
          663456,
          663456,
          663456,
          663456,
          663456,
          663456
         ],
         "xaxis": "x",
         "y": [
          0,
          0,
          0,
          0,
          0,
          0
         ],
         "yaxis": "y"
        },
        {
         "hovertemplate": "Country,Other=Cyprus<br>TotalCases=%{x}<br>NewCases=%{y}<extra></extra>",
         "legendgroup": "Cyprus",
         "marker": {
          "color": "#FECB52",
          "symbol": "circle"
         },
         "mode": "markers",
         "name": "Cyprus",
         "orientation": "v",
         "showlegend": true,
         "type": "scatter",
         "x": [
          649093,
          649093,
          649093,
          649093,
          650685,
          650685
         ],
         "xaxis": "x",
         "y": [
          0,
          0,
          0,
          0,
          1592,
          0
         ],
         "yaxis": "y"
        },
        {
         "hovertemplate": "Country,Other=Myanmar<br>TotalCases=%{x}<br>NewCases=%{y}<extra></extra>",
         "legendgroup": "Myanmar",
         "marker": {
          "color": "#636efa",
          "symbol": "circle"
         },
         "mode": "markers",
         "name": "Myanmar",
         "orientation": "v",
         "showlegend": true,
         "type": "scatter",
         "x": [
          633914,
          633918,
          633925,
          633935,
          633935,
          633945
         ],
         "xaxis": "x",
         "y": [
          3,
          4,
          7,
          10,
          0,
          10
         ],
         "yaxis": "y"
        },
        {
         "hovertemplate": "Country,Other=Palestine<br>TotalCases=%{x}<br>NewCases=%{y}<extra></extra>",
         "legendgroup": "Palestine",
         "marker": {
          "color": "#EF553B",
          "symbol": "circle"
         },
         "mode": "markers",
         "name": "Palestine",
         "orientation": "v",
         "showlegend": true,
         "type": "scatter",
         "x": [
          621008,
          621008,
          621008,
          621008,
          621008,
          621008
         ],
         "xaxis": "x",
         "y": [
          0,
          0,
          0,
          0,
          0,
          0
         ],
         "yaxis": "y"
        },
        {
         "hovertemplate": "Country,Other=China<br>TotalCases=%{x}<br>NewCases=%{y}<extra></extra>",
         "legendgroup": "China",
         "marker": {
          "color": "#00cc96",
          "symbol": "circle"
         },
         "mode": "markers",
         "name": "China",
         "orientation": "v",
         "showlegend": true,
         "type": "scatter",
         "x": [
          503302,
          503302,
          503302,
          503302,
          503302,
          503302
         ],
         "xaxis": "x",
         "y": [
          0,
          0,
          0,
          0,
          0,
          0
         ],
         "yaxis": "y"
        },
        {
         "hovertemplate": "Country,Other=Qatar<br>TotalCases=%{x}<br>NewCases=%{y}<extra></extra>",
         "legendgroup": "Qatar",
         "marker": {
          "color": "#ab63fa",
          "symbol": "circle"
         },
         "mode": "markers",
         "name": "Qatar",
         "orientation": "v",
         "showlegend": true,
         "type": "scatter",
         "x": [
          494056,
          494167,
          494271,
          494377,
          494377,
          494377
         ],
         "xaxis": "x",
         "y": [
          120,
          111,
          104,
          106,
          0,
          0
         ],
         "yaxis": "y"
        },
        {
         "hovertemplate": "Country,Other=Armenia<br>TotalCases=%{x}<br>NewCases=%{y}<extra></extra>",
         "legendgroup": "Armenia",
         "marker": {
          "color": "#FFA15A",
          "symbol": "circle"
         },
         "mode": "markers",
         "name": "Armenia",
         "orientation": "v",
         "showlegend": true,
         "type": "scatter",
         "x": [
          446819,
          446819,
          446819,
          446819,
          446819,
          446819
         ],
         "xaxis": "x",
         "y": [
          0,
          0,
          0,
          0,
          0,
          0
         ],
         "yaxis": "y"
        },
        {
         "hovertemplate": "Country,Other=Oman<br>TotalCases=%{x}<br>NewCases=%{y}<extra></extra>",
         "legendgroup": "Oman",
         "marker": {
          "color": "#19d3f3",
          "symbol": "circle"
         },
         "mode": "markers",
         "name": "Oman",
         "orientation": "v",
         "showlegend": true,
         "type": "scatter",
         "x": [
          399449,
          399449,
          399449,
          399449,
          399449,
          399449
         ],
         "xaxis": "x",
         "y": [
          0,
          0,
          0,
          0,
          0,
          0
         ],
         "yaxis": "y"
        },
        {
         "hovertemplate": "Country,Other=Brunei<br>TotalCases=%{x}<br>NewCases=%{y}<extra></extra>",
         "legendgroup": "Brunei",
         "marker": {
          "color": "#FF6692",
          "symbol": "circle"
         },
         "mode": "markers",
         "name": "Brunei",
         "orientation": "v",
         "showlegend": true,
         "type": "scatter",
         "x": [
          277992,
          278698,
          278698,
          278698,
          278698,
          278698
         ],
         "xaxis": "x",
         "y": [
          0,
          0,
          0,
          0,
          0,
          0
         ],
         "yaxis": "y"
        },
        {
         "hovertemplate": "Country,Other=Uzbekistan<br>TotalCases=%{x}<br>NewCases=%{y}<extra></extra>",
         "legendgroup": "Uzbekistan",
         "marker": {
          "color": "#B6E880",
          "symbol": "circle"
         },
         "mode": "markers",
         "name": "Uzbekistan",
         "orientation": "v",
         "showlegend": true,
         "type": "scatter",
         "x": [
          250932,
          250932,
          251071,
          251071,
          251071,
          251071
         ],
         "xaxis": "x",
         "y": [
          0,
          0,
          139,
          0,
          0,
          0
         ],
         "yaxis": "y"
        },
        {
         "hovertemplate": "Country,Other=Afghanistan<br>TotalCases=%{x}<br>NewCases=%{y}<extra></extra>",
         "legendgroup": "Afghanistan",
         "marker": {
          "color": "#FF97FF",
          "symbol": "circle"
         },
         "mode": "markers",
         "name": "Afghanistan",
         "orientation": "v",
         "showlegend": true,
         "type": "scatter",
         "x": [
          209306,
          209323,
          209340,
          209359,
          209366,
          209369
         ],
         "xaxis": "x",
         "y": [
          32,
          17,
          17,
          19,
          7,
          3
         ],
         "yaxis": "y"
        },
        {
         "hovertemplate": "Country,Other=Kyrgyzstan<br>TotalCases=%{x}<br>NewCases=%{y}<extra></extra>",
         "legendgroup": "Kyrgyzstan",
         "marker": {
          "color": "#FECB52",
          "symbol": "circle"
         },
         "mode": "markers",
         "name": "Kyrgyzstan",
         "orientation": "v",
         "showlegend": true,
         "type": "scatter",
         "x": [
          206633,
          206633,
          206673,
          206673,
          206673,
          206673
         ],
         "xaxis": "x",
         "y": [
          0,
          0,
          40,
          0,
          0,
          0
         ],
         "yaxis": "y"
        },
        {
         "hovertemplate": "Country,Other=Maldives<br>TotalCases=%{x}<br>NewCases=%{y}<extra></extra>",
         "legendgroup": "Maldives",
         "marker": {
          "color": "#636efa",
          "symbol": "circle"
         },
         "mode": "markers",
         "name": "Maldives",
         "orientation": "v",
         "showlegend": true,
         "type": "scatter",
         "x": [
          185732,
          185732,
          185732,
          185732,
          185732,
          185732
         ],
         "xaxis": "x",
         "y": [
          3,
          0,
          0,
          0,
          0,
          0
         ],
         "yaxis": "y"
        },
        {
         "hovertemplate": "Country,Other=Cambodia<br>TotalCases=%{x}<br>NewCases=%{y}<extra></extra>",
         "legendgroup": "Cambodia",
         "marker": {
          "color": "#EF553B",
          "symbol": "circle"
         },
         "mode": "markers",
         "name": "Cambodia",
         "orientation": "v",
         "showlegend": true,
         "type": "scatter",
         "x": [
          138715,
          138717,
          138717,
          138719,
          138719,
          138719
         ],
         "xaxis": "x",
         "y": [
          1,
          2,
          0,
          2,
          0,
          0
         ],
         "yaxis": "y"
        },
        {
         "hovertemplate": "Country,Other=Bhutan<br>TotalCases=%{x}<br>NewCases=%{y}<extra></extra>",
         "legendgroup": "Bhutan",
         "marker": {
          "color": "#00cc96",
          "symbol": "circle"
         },
         "mode": "markers",
         "name": "Bhutan",
         "orientation": "v",
         "showlegend": true,
         "type": "scatter",
         "x": [
          62615,
          62620,
          62620,
          62620,
          62620,
          62620
         ],
         "xaxis": "x",
         "y": [
          0,
          0,
          0,
          0,
          0,
          0
         ],
         "yaxis": "y"
        },
        {
         "hovertemplate": "Country,Other=Syria<br>TotalCases=%{x}<br>NewCases=%{y}<extra></extra>",
         "legendgroup": "Syria",
         "marker": {
          "color": "#ab63fa",
          "symbol": "circle"
         },
         "mode": "markers",
         "name": "Syria",
         "orientation": "v",
         "showlegend": true,
         "type": "scatter",
         "x": [
          57467,
          57467,
          57467,
          57467,
          57467,
          57467
         ],
         "xaxis": "x",
         "y": [
          4,
          0,
          0,
          0,
          0,
          0
         ],
         "yaxis": "y"
        },
        {
         "hovertemplate": "Country,Other=Timor-Leste<br>TotalCases=%{x}<br>NewCases=%{y}<extra></extra>",
         "legendgroup": "Timor-Leste",
         "marker": {
          "color": "#FFA15A",
          "symbol": "circle"
         },
         "mode": "markers",
         "name": "Timor-Leste",
         "orientation": "v",
         "showlegend": true,
         "type": "scatter",
         "x": [
          23418,
          23418,
          23418,
          23418,
          23418,
          23418
         ],
         "xaxis": "x",
         "y": [
          0,
          0,
          0,
          0,
          0,
          0
         ],
         "yaxis": "y"
        },
        {
         "hovertemplate": "Country,Other=Tajikistan<br>TotalCases=%{x}<br>NewCases=%{y}<extra></extra>",
         "legendgroup": "Tajikistan",
         "marker": {
          "color": "#19d3f3",
          "symbol": "circle"
         },
         "mode": "markers",
         "name": "Tajikistan",
         "orientation": "v",
         "showlegend": true,
         "type": "scatter",
         "x": [
          17786,
          17786,
          17786,
          17786,
          17786,
          17786
         ],
         "xaxis": "x",
         "y": [
          0,
          0,
          0,
          0,
          0,
          0
         ],
         "yaxis": "y"
        },
        {
         "hovertemplate": "Country,Other=Yemen<br>TotalCases=%{x}<br>NewCases=%{y}<extra></extra>",
         "legendgroup": "Yemen",
         "marker": {
          "color": "#FF6692",
          "symbol": "circle"
         },
         "mode": "markers",
         "name": "Yemen",
         "orientation": "v",
         "showlegend": true,
         "type": "scatter",
         "x": [
          11945,
          11945,
          11945,
          11945,
          11945,
          11945
         ],
         "xaxis": "x",
         "y": [
          0,
          0,
          0,
          0,
          0,
          0
         ],
         "yaxis": "y"
        },
        {
         "hovertemplate": "Country,Other=Macao<br>TotalCases=%{x}<br>NewCases=%{y}<extra></extra>",
         "legendgroup": "Macao",
         "marker": {
          "color": "#B6E880",
          "symbol": "circle"
         },
         "mode": "markers",
         "name": "Macao",
         "orientation": "v",
         "showlegend": true,
         "type": "scatter",
         "x": [
          3514,
          3514,
          3514,
          3514,
          3514,
          3514
         ],
         "xaxis": "x",
         "y": [
          0,
          0,
          0,
          0,
          0,
          0
         ],
         "yaxis": "y"
        }
       ],
       "layout": {
        "legend": {
         "title": {
          "text": "Country,Other"
         },
         "tracegroupgap": 0
        },
        "template": {
         "data": {
          "bar": [
           {
            "error_x": {
             "color": "#2a3f5f"
            },
            "error_y": {
             "color": "#2a3f5f"
            },
            "marker": {
             "line": {
              "color": "#E5ECF6",
              "width": 0.5
             },
             "pattern": {
              "fillmode": "overlay",
              "size": 10,
              "solidity": 0.2
             }
            },
            "type": "bar"
           }
          ],
          "barpolar": [
           {
            "marker": {
             "line": {
              "color": "#E5ECF6",
              "width": 0.5
             },
             "pattern": {
              "fillmode": "overlay",
              "size": 10,
              "solidity": 0.2
             }
            },
            "type": "barpolar"
           }
          ],
          "carpet": [
           {
            "aaxis": {
             "endlinecolor": "#2a3f5f",
             "gridcolor": "white",
             "linecolor": "white",
             "minorgridcolor": "white",
             "startlinecolor": "#2a3f5f"
            },
            "baxis": {
             "endlinecolor": "#2a3f5f",
             "gridcolor": "white",
             "linecolor": "white",
             "minorgridcolor": "white",
             "startlinecolor": "#2a3f5f"
            },
            "type": "carpet"
           }
          ],
          "choropleth": [
           {
            "colorbar": {
             "outlinewidth": 0,
             "ticks": ""
            },
            "type": "choropleth"
           }
          ],
          "contour": [
           {
            "colorbar": {
             "outlinewidth": 0,
             "ticks": ""
            },
            "colorscale": [
             [
              0,
              "#0d0887"
             ],
             [
              0.1111111111111111,
              "#46039f"
             ],
             [
              0.2222222222222222,
              "#7201a8"
             ],
             [
              0.3333333333333333,
              "#9c179e"
             ],
             [
              0.4444444444444444,
              "#bd3786"
             ],
             [
              0.5555555555555556,
              "#d8576b"
             ],
             [
              0.6666666666666666,
              "#ed7953"
             ],
             [
              0.7777777777777778,
              "#fb9f3a"
             ],
             [
              0.8888888888888888,
              "#fdca26"
             ],
             [
              1,
              "#f0f921"
             ]
            ],
            "type": "contour"
           }
          ],
          "contourcarpet": [
           {
            "colorbar": {
             "outlinewidth": 0,
             "ticks": ""
            },
            "type": "contourcarpet"
           }
          ],
          "heatmap": [
           {
            "colorbar": {
             "outlinewidth": 0,
             "ticks": ""
            },
            "colorscale": [
             [
              0,
              "#0d0887"
             ],
             [
              0.1111111111111111,
              "#46039f"
             ],
             [
              0.2222222222222222,
              "#7201a8"
             ],
             [
              0.3333333333333333,
              "#9c179e"
             ],
             [
              0.4444444444444444,
              "#bd3786"
             ],
             [
              0.5555555555555556,
              "#d8576b"
             ],
             [
              0.6666666666666666,
              "#ed7953"
             ],
             [
              0.7777777777777778,
              "#fb9f3a"
             ],
             [
              0.8888888888888888,
              "#fdca26"
             ],
             [
              1,
              "#f0f921"
             ]
            ],
            "type": "heatmap"
           }
          ],
          "heatmapgl": [
           {
            "colorbar": {
             "outlinewidth": 0,
             "ticks": ""
            },
            "colorscale": [
             [
              0,
              "#0d0887"
             ],
             [
              0.1111111111111111,
              "#46039f"
             ],
             [
              0.2222222222222222,
              "#7201a8"
             ],
             [
              0.3333333333333333,
              "#9c179e"
             ],
             [
              0.4444444444444444,
              "#bd3786"
             ],
             [
              0.5555555555555556,
              "#d8576b"
             ],
             [
              0.6666666666666666,
              "#ed7953"
             ],
             [
              0.7777777777777778,
              "#fb9f3a"
             ],
             [
              0.8888888888888888,
              "#fdca26"
             ],
             [
              1,
              "#f0f921"
             ]
            ],
            "type": "heatmapgl"
           }
          ],
          "histogram": [
           {
            "marker": {
             "pattern": {
              "fillmode": "overlay",
              "size": 10,
              "solidity": 0.2
             }
            },
            "type": "histogram"
           }
          ],
          "histogram2d": [
           {
            "colorbar": {
             "outlinewidth": 0,
             "ticks": ""
            },
            "colorscale": [
             [
              0,
              "#0d0887"
             ],
             [
              0.1111111111111111,
              "#46039f"
             ],
             [
              0.2222222222222222,
              "#7201a8"
             ],
             [
              0.3333333333333333,
              "#9c179e"
             ],
             [
              0.4444444444444444,
              "#bd3786"
             ],
             [
              0.5555555555555556,
              "#d8576b"
             ],
             [
              0.6666666666666666,
              "#ed7953"
             ],
             [
              0.7777777777777778,
              "#fb9f3a"
             ],
             [
              0.8888888888888888,
              "#fdca26"
             ],
             [
              1,
              "#f0f921"
             ]
            ],
            "type": "histogram2d"
           }
          ],
          "histogram2dcontour": [
           {
            "colorbar": {
             "outlinewidth": 0,
             "ticks": ""
            },
            "colorscale": [
             [
              0,
              "#0d0887"
             ],
             [
              0.1111111111111111,
              "#46039f"
             ],
             [
              0.2222222222222222,
              "#7201a8"
             ],
             [
              0.3333333333333333,
              "#9c179e"
             ],
             [
              0.4444444444444444,
              "#bd3786"
             ],
             [
              0.5555555555555556,
              "#d8576b"
             ],
             [
              0.6666666666666666,
              "#ed7953"
             ],
             [
              0.7777777777777778,
              "#fb9f3a"
             ],
             [
              0.8888888888888888,
              "#fdca26"
             ],
             [
              1,
              "#f0f921"
             ]
            ],
            "type": "histogram2dcontour"
           }
          ],
          "mesh3d": [
           {
            "colorbar": {
             "outlinewidth": 0,
             "ticks": ""
            },
            "type": "mesh3d"
           }
          ],
          "parcoords": [
           {
            "line": {
             "colorbar": {
              "outlinewidth": 0,
              "ticks": ""
             }
            },
            "type": "parcoords"
           }
          ],
          "pie": [
           {
            "automargin": true,
            "type": "pie"
           }
          ],
          "scatter": [
           {
            "fillpattern": {
             "fillmode": "overlay",
             "size": 10,
             "solidity": 0.2
            },
            "type": "scatter"
           }
          ],
          "scatter3d": [
           {
            "line": {
             "colorbar": {
              "outlinewidth": 0,
              "ticks": ""
             }
            },
            "marker": {
             "colorbar": {
              "outlinewidth": 0,
              "ticks": ""
             }
            },
            "type": "scatter3d"
           }
          ],
          "scattercarpet": [
           {
            "marker": {
             "colorbar": {
              "outlinewidth": 0,
              "ticks": ""
             }
            },
            "type": "scattercarpet"
           }
          ],
          "scattergeo": [
           {
            "marker": {
             "colorbar": {
              "outlinewidth": 0,
              "ticks": ""
             }
            },
            "type": "scattergeo"
           }
          ],
          "scattergl": [
           {
            "marker": {
             "colorbar": {
              "outlinewidth": 0,
              "ticks": ""
             }
            },
            "type": "scattergl"
           }
          ],
          "scattermapbox": [
           {
            "marker": {
             "colorbar": {
              "outlinewidth": 0,
              "ticks": ""
             }
            },
            "type": "scattermapbox"
           }
          ],
          "scatterpolar": [
           {
            "marker": {
             "colorbar": {
              "outlinewidth": 0,
              "ticks": ""
             }
            },
            "type": "scatterpolar"
           }
          ],
          "scatterpolargl": [
           {
            "marker": {
             "colorbar": {
              "outlinewidth": 0,
              "ticks": ""
             }
            },
            "type": "scatterpolargl"
           }
          ],
          "scatterternary": [
           {
            "marker": {
             "colorbar": {
              "outlinewidth": 0,
              "ticks": ""
             }
            },
            "type": "scatterternary"
           }
          ],
          "surface": [
           {
            "colorbar": {
             "outlinewidth": 0,
             "ticks": ""
            },
            "colorscale": [
             [
              0,
              "#0d0887"
             ],
             [
              0.1111111111111111,
              "#46039f"
             ],
             [
              0.2222222222222222,
              "#7201a8"
             ],
             [
              0.3333333333333333,
              "#9c179e"
             ],
             [
              0.4444444444444444,
              "#bd3786"
             ],
             [
              0.5555555555555556,
              "#d8576b"
             ],
             [
              0.6666666666666666,
              "#ed7953"
             ],
             [
              0.7777777777777778,
              "#fb9f3a"
             ],
             [
              0.8888888888888888,
              "#fdca26"
             ],
             [
              1,
              "#f0f921"
             ]
            ],
            "type": "surface"
           }
          ],
          "table": [
           {
            "cells": {
             "fill": {
              "color": "#EBF0F8"
             },
             "line": {
              "color": "white"
             }
            },
            "header": {
             "fill": {
              "color": "#C8D4E3"
             },
             "line": {
              "color": "white"
             }
            },
            "type": "table"
           }
          ]
         },
         "layout": {
          "annotationdefaults": {
           "arrowcolor": "#2a3f5f",
           "arrowhead": 0,
           "arrowwidth": 1
          },
          "autotypenumbers": "strict",
          "coloraxis": {
           "colorbar": {
            "outlinewidth": 0,
            "ticks": ""
           }
          },
          "colorscale": {
           "diverging": [
            [
             0,
             "#8e0152"
            ],
            [
             0.1,
             "#c51b7d"
            ],
            [
             0.2,
             "#de77ae"
            ],
            [
             0.3,
             "#f1b6da"
            ],
            [
             0.4,
             "#fde0ef"
            ],
            [
             0.5,
             "#f7f7f7"
            ],
            [
             0.6,
             "#e6f5d0"
            ],
            [
             0.7,
             "#b8e186"
            ],
            [
             0.8,
             "#7fbc41"
            ],
            [
             0.9,
             "#4d9221"
            ],
            [
             1,
             "#276419"
            ]
           ],
           "sequential": [
            [
             0,
             "#0d0887"
            ],
            [
             0.1111111111111111,
             "#46039f"
            ],
            [
             0.2222222222222222,
             "#7201a8"
            ],
            [
             0.3333333333333333,
             "#9c179e"
            ],
            [
             0.4444444444444444,
             "#bd3786"
            ],
            [
             0.5555555555555556,
             "#d8576b"
            ],
            [
             0.6666666666666666,
             "#ed7953"
            ],
            [
             0.7777777777777778,
             "#fb9f3a"
            ],
            [
             0.8888888888888888,
             "#fdca26"
            ],
            [
             1,
             "#f0f921"
            ]
           ],
           "sequentialminus": [
            [
             0,
             "#0d0887"
            ],
            [
             0.1111111111111111,
             "#46039f"
            ],
            [
             0.2222222222222222,
             "#7201a8"
            ],
            [
             0.3333333333333333,
             "#9c179e"
            ],
            [
             0.4444444444444444,
             "#bd3786"
            ],
            [
             0.5555555555555556,
             "#d8576b"
            ],
            [
             0.6666666666666666,
             "#ed7953"
            ],
            [
             0.7777777777777778,
             "#fb9f3a"
            ],
            [
             0.8888888888888888,
             "#fdca26"
            ],
            [
             1,
             "#f0f921"
            ]
           ]
          },
          "colorway": [
           "#636efa",
           "#EF553B",
           "#00cc96",
           "#ab63fa",
           "#FFA15A",
           "#19d3f3",
           "#FF6692",
           "#B6E880",
           "#FF97FF",
           "#FECB52"
          ],
          "font": {
           "color": "#2a3f5f"
          },
          "geo": {
           "bgcolor": "white",
           "lakecolor": "white",
           "landcolor": "#E5ECF6",
           "showlakes": true,
           "showland": true,
           "subunitcolor": "white"
          },
          "hoverlabel": {
           "align": "left"
          },
          "hovermode": "closest",
          "mapbox": {
           "style": "light"
          },
          "paper_bgcolor": "white",
          "plot_bgcolor": "#E5ECF6",
          "polar": {
           "angularaxis": {
            "gridcolor": "white",
            "linecolor": "white",
            "ticks": ""
           },
           "bgcolor": "#E5ECF6",
           "radialaxis": {
            "gridcolor": "white",
            "linecolor": "white",
            "ticks": ""
           }
          },
          "scene": {
           "xaxis": {
            "backgroundcolor": "#E5ECF6",
            "gridcolor": "white",
            "gridwidth": 2,
            "linecolor": "white",
            "showbackground": true,
            "ticks": "",
            "zerolinecolor": "white"
           },
           "yaxis": {
            "backgroundcolor": "#E5ECF6",
            "gridcolor": "white",
            "gridwidth": 2,
            "linecolor": "white",
            "showbackground": true,
            "ticks": "",
            "zerolinecolor": "white"
           },
           "zaxis": {
            "backgroundcolor": "#E5ECF6",
            "gridcolor": "white",
            "gridwidth": 2,
            "linecolor": "white",
            "showbackground": true,
            "ticks": "",
            "zerolinecolor": "white"
           }
          },
          "shapedefaults": {
           "line": {
            "color": "#2a3f5f"
           }
          },
          "ternary": {
           "aaxis": {
            "gridcolor": "white",
            "linecolor": "white",
            "ticks": ""
           },
           "baxis": {
            "gridcolor": "white",
            "linecolor": "white",
            "ticks": ""
           },
           "bgcolor": "#E5ECF6",
           "caxis": {
            "gridcolor": "white",
            "linecolor": "white",
            "ticks": ""
           }
          },
          "title": {
           "x": 0.05
          },
          "xaxis": {
           "automargin": true,
           "gridcolor": "white",
           "linecolor": "white",
           "ticks": "",
           "title": {
            "standoff": 15
           },
           "zerolinecolor": "white",
           "zerolinewidth": 2
          },
          "yaxis": {
           "automargin": true,
           "gridcolor": "white",
           "linecolor": "white",
           "ticks": "",
           "title": {
            "standoff": 15
           },
           "zerolinecolor": "white",
           "zerolinewidth": 2
          }
         }
        },
        "title": {
         "text": "Total Cases vs. New Cases in Asia countries"
        },
        "xaxis": {
         "anchor": "y",
         "domain": [
          0,
          1
         ],
         "title": {
          "text": "TotalCases"
         },
         "type": "log"
        },
        "yaxis": {
         "anchor": "x",
         "domain": [
          0,
          1
         ],
         "title": {
          "text": "NewCases"
         },
         "type": "log"
        }
       }
      }
     },
     "metadata": {},
     "output_type": "display_data"
    }
   ],
   "source": [
    "asian_countries = ['China', 'India', 'Indonesia', 'Pakistan', 'Bangladesh', 'Japan', 'Brunei',\n",
    "                   'Philippines', 'Vietnam', 'Iran', 'Turkey', 'Thailand', 'Myanmar', 'S. Korea', 'DPRK',\n",
    "                   'Iraq', 'Afghanistan', 'Saudi Arabia', 'Uzbekistan', 'Malaysia', 'Nepal', 'Yemen', \n",
    "                   'Taiwan', 'Sri Lanka', 'Kazakhstan', 'Syria', 'Cambodia', 'Jordan', \n",
    "                   'Azerbaijan', 'UAE', 'Tajikistan', 'Israel', 'Hong Kong', 'Laos', \n",
    "                   'Lebanon', 'Kyrgyzstan', 'Singapore', 'Palestine', 'Oman', 'Kuwait', \n",
    "                   'Georgia', 'Mongolia', 'Armenia', 'Qatar', 'Bahrain', 'Timor-Leste', 'Cyprus', 'Bhutan', 'Macao', 'Maldives']\n",
    "\n",
    "df_asia = df[df['Country,Other'].isin(asian_countries)]\n",
    "# Tạo biểu đồ scatter plot\n",
    "fig = px.scatter(df_asia, x='TotalCases', y='NewCases', color='Country,Other', log_x=True, log_y=True, size_max=50, title='Total Cases vs. New Cases in Asia countries')\n",
    "fig.show()"
   ]
  },
  {
   "attachments": {},
   "cell_type": "markdown",
   "metadata": {},
   "source": [
    "Từ biểu đồ trên, mối tương quan giữa biến NewCases với biến TotalCases là tuyến tính, với số ca nhiễm mới cao nhất là ở các nước: Taiwan, S.Korea và Japan\n"
   ]
  },
  {
   "cell_type": "code",
   "execution_count": 16,
   "metadata": {},
   "outputs": [
    {
     "data": {
      "application/vnd.plotly.v1+json": {
       "config": {
        "plotlyServerURL": "https://plot.ly"
       },
       "data": [
        {
         "alignmentgroup": "True",
         "hovertemplate": "Country,Other=%{x}<br>TotalTests=%{y}<extra></extra>",
         "legendgroup": "Vietnam",
         "marker": {
          "color": "#636efa",
          "pattern": {
           "shape": ""
          }
         },
         "name": "Vietnam",
         "offsetgroup": "Vietnam",
         "orientation": "v",
         "showlegend": true,
         "textposition": "auto",
         "type": "bar",
         "x": [
          "Vietnam",
          "Vietnam",
          "Vietnam",
          "Vietnam",
          "Vietnam",
          "Vietnam",
          "Vietnam"
         ],
         "xaxis": "x",
         "y": [
          85826548,
          85826548,
          85826548,
          85826548,
          85826548,
          85826548,
          85826548
         ],
         "yaxis": "y"
        },
        {
         "alignmentgroup": "True",
         "hovertemplate": "Country,Other=%{x}<br>TotalTests=%{y}<extra></extra>",
         "legendgroup": "India",
         "marker": {
          "color": "#EF553B",
          "pattern": {
           "shape": ""
          }
         },
         "name": "India",
         "offsetgroup": "India",
         "orientation": "v",
         "showlegend": true,
         "textposition": "auto",
         "type": "bar",
         "x": [
          "India",
          "India",
          "India",
          "India",
          "India",
          "India"
         ],
         "xaxis": "x",
         "y": [
          918535118,
          918679922,
          918794368,
          918891634,
          918992653,
          919095823
         ],
         "yaxis": "y"
        },
        {
         "alignmentgroup": "True",
         "hovertemplate": "Country,Other=%{x}<br>TotalTests=%{y}<extra></extra>",
         "legendgroup": "Japan",
         "marker": {
          "color": "#00cc96",
          "pattern": {
           "shape": ""
          }
         },
         "name": "Japan",
         "offsetgroup": "Japan",
         "orientation": "v",
         "showlegend": true,
         "textposition": "auto",
         "type": "bar",
         "x": [
          "Japan",
          "Japan",
          "Japan",
          "Japan",
          "Japan",
          "Japan"
         ],
         "xaxis": "x",
         "y": [
          95014492,
          95119322,
          95253685,
          95386077,
          95481075,
          95589075
         ],
         "yaxis": "y"
        },
        {
         "alignmentgroup": "True",
         "hovertemplate": "Country,Other=%{x}<br>TotalTests=%{y}<extra></extra>",
         "legendgroup": "S. Korea",
         "marker": {
          "color": "#ab63fa",
          "pattern": {
           "shape": ""
          }
         },
         "name": "S. Korea",
         "offsetgroup": "S. Korea",
         "orientation": "v",
         "showlegend": true,
         "textposition": "auto",
         "type": "bar",
         "x": [
          "S. Korea",
          "S. Korea",
          "S. Korea",
          "S. Korea",
          "S. Korea",
          "S. Korea"
         ],
         "xaxis": "x",
         "y": [
          15804065,
          15804065,
          15804065,
          15804065,
          15804065,
          15804065
         ],
         "yaxis": "y"
        },
        {
         "alignmentgroup": "True",
         "hovertemplate": "Country,Other=%{x}<br>TotalTests=%{y}<extra></extra>",
         "legendgroup": "Taiwan",
         "marker": {
          "color": "#FFA15A",
          "pattern": {
           "shape": ""
          }
         },
         "name": "Taiwan",
         "offsetgroup": "Taiwan",
         "orientation": "v",
         "showlegend": true,
         "textposition": "auto",
         "type": "bar",
         "x": [
          "Taiwan",
          "Taiwan",
          "Taiwan",
          "Taiwan",
          "Taiwan",
          "Taiwan"
         ],
         "xaxis": "x",
         "y": [
          30742304,
          30742304,
          30742304,
          30742304,
          30742304,
          30742304
         ],
         "yaxis": "y"
        },
        {
         "alignmentgroup": "True",
         "hovertemplate": "Country,Other=%{x}<br>TotalTests=%{y}<extra></extra>",
         "legendgroup": "Iran",
         "marker": {
          "color": "#19d3f3",
          "pattern": {
           "shape": ""
          }
         },
         "name": "Iran",
         "offsetgroup": "Iran",
         "orientation": "v",
         "showlegend": true,
         "textposition": "auto",
         "type": "bar",
         "x": [
          "Iran",
          "Iran",
          "Iran",
          "Iran",
          "Iran",
          "Iran"
         ],
         "xaxis": "x",
         "y": [
          55034937,
          55034937,
          55034937,
          55034937,
          55034937,
          55034937
         ],
         "yaxis": "y"
        },
        {
         "alignmentgroup": "True",
         "hovertemplate": "Country,Other=%{x}<br>TotalTests=%{y}<extra></extra>",
         "legendgroup": "Indonesia",
         "marker": {
          "color": "#FF6692",
          "pattern": {
           "shape": ""
          }
         },
         "name": "Indonesia",
         "offsetgroup": "Indonesia",
         "orientation": "v",
         "showlegend": true,
         "textposition": "auto",
         "type": "bar",
         "x": [
          "Indonesia",
          "Indonesia",
          "Indonesia",
          "Indonesia",
          "Indonesia",
          "Indonesia"
         ],
         "xaxis": "x",
         "y": [
          114158919,
          114158919,
          114158919,
          114158919,
          114158919,
          114158919
         ],
         "yaxis": "y"
        },
        {
         "alignmentgroup": "True",
         "hovertemplate": "Country,Other=%{x}<br>TotalTests=%{y}<extra></extra>",
         "legendgroup": "Malaysia",
         "marker": {
          "color": "#B6E880",
          "pattern": {
           "shape": ""
          }
         },
         "name": "Malaysia",
         "offsetgroup": "Malaysia",
         "orientation": "v",
         "showlegend": true,
         "textposition": "auto",
         "type": "bar",
         "x": [
          "Malaysia",
          "Malaysia",
          "Malaysia",
          "Malaysia",
          "Malaysia",
          "Malaysia"
         ],
         "xaxis": "x",
         "y": [
          68079467,
          68088226,
          68198303,
          68217426,
          68236549,
          68255672
         ],
         "yaxis": "y"
        },
        {
         "alignmentgroup": "True",
         "hovertemplate": "Country,Other=%{x}<br>TotalTests=%{y}<extra></extra>",
         "legendgroup": "Israel",
         "marker": {
          "color": "#FF97FF",
          "pattern": {
           "shape": ""
          }
         },
         "name": "Israel",
         "offsetgroup": "Israel",
         "orientation": "v",
         "showlegend": true,
         "textposition": "auto",
         "type": "bar",
         "x": [
          "Israel",
          "Israel",
          "Israel",
          "Israel",
          "Israel",
          "Israel"
         ],
         "xaxis": "x",
         "y": [
          41373364,
          41373364,
          41373364,
          41373364,
          41373364,
          41373364
         ],
         "yaxis": "y"
        },
        {
         "alignmentgroup": "True",
         "hovertemplate": "Country,Other=%{x}<br>TotalTests=%{y}<extra></extra>",
         "legendgroup": "DPRK",
         "marker": {
          "color": "#FECB52",
          "pattern": {
           "shape": ""
          }
         },
         "name": "DPRK",
         "offsetgroup": "DPRK",
         "orientation": "v",
         "showlegend": true,
         "textposition": "auto",
         "type": "bar",
         "x": [
          "DPRK",
          "DPRK",
          "DPRK",
          "DPRK",
          "DPRK",
          "DPRK"
         ],
         "xaxis": "x",
         "y": [
          0,
          0,
          0,
          0,
          0,
          0
         ],
         "yaxis": "y"
        },
        {
         "alignmentgroup": "True",
         "hovertemplate": "Country,Other=%{x}<br>TotalTests=%{y}<extra></extra>",
         "legendgroup": "Thailand",
         "marker": {
          "color": "#636efa",
          "pattern": {
           "shape": ""
          }
         },
         "name": "Thailand",
         "offsetgroup": "Thailand",
         "orientation": "v",
         "showlegend": true,
         "textposition": "auto",
         "type": "bar",
         "x": [
          "Thailand",
          "Thailand",
          "Thailand",
          "Thailand",
          "Thailand",
          "Thailand"
         ],
         "xaxis": "x",
         "y": [
          17270775,
          17270775,
          17270775,
          17270775,
          17270775,
          17270775
         ],
         "yaxis": "y"
        },
        {
         "alignmentgroup": "True",
         "hovertemplate": "Country,Other=%{x}<br>TotalTests=%{y}<extra></extra>",
         "legendgroup": "Philippines",
         "marker": {
          "color": "#EF553B",
          "pattern": {
           "shape": ""
          }
         },
         "name": "Philippines",
         "offsetgroup": "Philippines",
         "orientation": "v",
         "showlegend": true,
         "textposition": "auto",
         "type": "bar",
         "x": [
          "Philippines",
          "Philippines",
          "Philippines",
          "Philippines",
          "Philippines",
          "Philippines"
         ],
         "xaxis": "x",
         "y": [
          34584000,
          34593073,
          34603075,
          34611586,
          34621433,
          34629611
         ],
         "yaxis": "y"
        },
        {
         "alignmentgroup": "True",
         "hovertemplate": "Country,Other=%{x}<br>TotalTests=%{y}<extra></extra>",
         "legendgroup": "Hong Kong",
         "marker": {
          "color": "#00cc96",
          "pattern": {
           "shape": ""
          }
         },
         "name": "Hong Kong",
         "offsetgroup": "Hong Kong",
         "orientation": "v",
         "showlegend": true,
         "textposition": "auto",
         "type": "bar",
         "x": [
          "Hong Kong",
          "Hong Kong",
          "Hong Kong",
          "Hong Kong",
          "Hong Kong",
          "Hong Kong"
         ],
         "xaxis": "x",
         "y": [
          76127725,
          76127725,
          76127725,
          76127725,
          76127725,
          76127725
         ],
         "yaxis": "y"
        },
        {
         "alignmentgroup": "True",
         "hovertemplate": "Country,Other=%{x}<br>TotalTests=%{y}<extra></extra>",
         "legendgroup": "Iraq",
         "marker": {
          "color": "#ab63fa",
          "pattern": {
           "shape": ""
          }
         },
         "name": "Iraq",
         "offsetgroup": "Iraq",
         "orientation": "v",
         "showlegend": true,
         "textposition": "auto",
         "type": "bar",
         "x": [
          "Iraq",
          "Iraq",
          "Iraq",
          "Iraq",
          "Iraq",
          "Iraq"
         ],
         "xaxis": "x",
         "y": [
          19544451,
          19544451,
          19544451,
          19544451,
          19544451,
          19544451
         ],
         "yaxis": "y"
        },
        {
         "alignmentgroup": "True",
         "hovertemplate": "Country,Other=%{x}<br>TotalTests=%{y}<extra></extra>",
         "legendgroup": "Singapore",
         "marker": {
          "color": "#FFA15A",
          "pattern": {
           "shape": ""
          }
         },
         "name": "Singapore",
         "offsetgroup": "Singapore",
         "orientation": "v",
         "showlegend": true,
         "textposition": "auto",
         "type": "bar",
         "x": [
          "Singapore",
          "Singapore",
          "Singapore",
          "Singapore",
          "Singapore",
          "Singapore"
         ],
         "xaxis": "x",
         "y": [
          24756666,
          24756666,
          24756666,
          24756666,
          24756666,
          24756666
         ],
         "yaxis": "y"
        },
        {
         "alignmentgroup": "True",
         "hovertemplate": "Country,Other=%{x}<br>TotalTests=%{y}<extra></extra>",
         "legendgroup": "Bangladesh",
         "marker": {
          "color": "#19d3f3",
          "pattern": {
           "shape": ""
          }
         },
         "name": "Bangladesh",
         "offsetgroup": "Bangladesh",
         "orientation": "v",
         "showlegend": true,
         "textposition": "auto",
         "type": "bar",
         "x": [
          "Bangladesh",
          "Bangladesh",
          "Bangladesh",
          "Bangladesh",
          "Bangladesh",
          "Bangladesh"
         ],
         "xaxis": "x",
         "y": [
          15254399,
          15254399,
          15254399,
          15254399,
          15254399,
          15254399
         ],
         "yaxis": "y"
        },
        {
         "alignmentgroup": "True",
         "hovertemplate": "Country,Other=%{x}<br>TotalTests=%{y}<extra></extra>",
         "legendgroup": "Georgia",
         "marker": {
          "color": "#FF6692",
          "pattern": {
           "shape": ""
          }
         },
         "name": "Georgia",
         "offsetgroup": "Georgia",
         "orientation": "v",
         "showlegend": true,
         "textposition": "auto",
         "type": "bar",
         "x": [
          "Georgia",
          "Georgia",
          "Georgia",
          "Georgia",
          "Georgia",
          "Georgia"
         ],
         "xaxis": "x",
         "y": [
          16920079,
          16920079,
          16920079,
          16920079,
          16920079,
          16920079
         ],
         "yaxis": "y"
        },
        {
         "alignmentgroup": "True",
         "hovertemplate": "Country,Other=%{x}<br>TotalTests=%{y}<extra></extra>",
         "legendgroup": "Jordan",
         "marker": {
          "color": "#B6E880",
          "pattern": {
           "shape": ""
          }
         },
         "name": "Jordan",
         "offsetgroup": "Jordan",
         "orientation": "v",
         "showlegend": true,
         "textposition": "auto",
         "type": "bar",
         "x": [
          "Jordan",
          "Jordan",
          "Jordan",
          "Jordan",
          "Jordan",
          "Jordan"
         ],
         "xaxis": "x",
         "y": [
          17201885,
          17201885,
          17201885,
          17201885,
          17201885,
          17201885
         ],
         "yaxis": "y"
        },
        {
         "alignmentgroup": "True",
         "hovertemplate": "Country,Other=%{x}<br>TotalTests=%{y}<extra></extra>",
         "legendgroup": "Pakistan",
         "marker": {
          "color": "#FF97FF",
          "pattern": {
           "shape": ""
          }
         },
         "name": "Pakistan",
         "offsetgroup": "Pakistan",
         "orientation": "v",
         "showlegend": true,
         "textposition": "auto",
         "type": "bar",
         "x": [
          "Pakistan",
          "Pakistan",
          "Pakistan",
          "Pakistan",
          "Pakistan",
          "Pakistan"
         ],
         "xaxis": "x",
         "y": [
          30570862,
          30570862,
          30570862,
          30570862,
          30570862,
          30570862
         ],
         "yaxis": "y"
        },
        {
         "alignmentgroup": "True",
         "hovertemplate": "Country,Other=%{x}<br>TotalTests=%{y}<extra></extra>",
         "legendgroup": "Kazakhstan",
         "marker": {
          "color": "#FECB52",
          "pattern": {
           "shape": ""
          }
         },
         "name": "Kazakhstan",
         "offsetgroup": "Kazakhstan",
         "orientation": "v",
         "showlegend": true,
         "textposition": "auto",
         "type": "bar",
         "x": [
          "Kazakhstan",
          "Kazakhstan",
          "Kazakhstan",
          "Kazakhstan",
          "Kazakhstan",
          "Kazakhstan"
         ],
         "xaxis": "x",
         "y": [
          11575012,
          11575012,
          11575012,
          11575012,
          11575012,
          11575012
         ],
         "yaxis": "y"
        },
        {
         "alignmentgroup": "True",
         "hovertemplate": "Country,Other=%{x}<br>TotalTests=%{y}<extra></extra>",
         "legendgroup": "Lebanon",
         "marker": {
          "color": "#636efa",
          "pattern": {
           "shape": ""
          }
         },
         "name": "Lebanon",
         "offsetgroup": "Lebanon",
         "orientation": "v",
         "showlegend": true,
         "textposition": "auto",
         "type": "bar",
         "x": [
          "Lebanon",
          "Lebanon",
          "Lebanon",
          "Lebanon",
          "Lebanon",
          "Lebanon"
         ],
         "xaxis": "x",
         "y": [
          4795578,
          4795578,
          4795578,
          4795578,
          4795578,
          4795578
         ],
         "yaxis": "y"
        },
        {
         "alignmentgroup": "True",
         "hovertemplate": "Country,Other=%{x}<br>TotalTests=%{y}<extra></extra>",
         "legendgroup": "UAE",
         "marker": {
          "color": "#EF553B",
          "pattern": {
           "shape": ""
          }
         },
         "name": "UAE",
         "offsetgroup": "UAE",
         "orientation": "v",
         "showlegend": true,
         "textposition": "auto",
         "type": "bar",
         "x": [
          "UAE",
          "UAE",
          "UAE",
          "UAE",
          "UAE",
          "UAE"
         ],
         "xaxis": "x",
         "y": [
          199206191,
          199223391,
          199245666,
          199266544,
          199288108,
          199309468
         ],
         "yaxis": "y"
        },
        {
         "alignmentgroup": "True",
         "hovertemplate": "Country,Other=%{x}<br>TotalTests=%{y}<extra></extra>",
         "legendgroup": "Mongolia",
         "marker": {
          "color": "#00cc96",
          "pattern": {
           "shape": ""
          }
         },
         "name": "Mongolia",
         "offsetgroup": "Mongolia",
         "orientation": "v",
         "showlegend": true,
         "textposition": "auto",
         "type": "bar",
         "x": [
          "Mongolia",
          "Mongolia",
          "Mongolia",
          "Mongolia",
          "Mongolia",
          "Mongolia"
         ],
         "xaxis": "x",
         "y": [
          4030048,
          4030048,
          4030048,
          4030048,
          4030048,
          4030048
         ],
         "yaxis": "y"
        },
        {
         "alignmentgroup": "True",
         "hovertemplate": "Country,Other=%{x}<br>TotalTests=%{y}<extra></extra>",
         "legendgroup": "Nepal",
         "marker": {
          "color": "#ab63fa",
          "pattern": {
           "shape": ""
          }
         },
         "name": "Nepal",
         "offsetgroup": "Nepal",
         "orientation": "v",
         "showlegend": true,
         "textposition": "auto",
         "type": "bar",
         "x": [
          "Nepal",
          "Nepal",
          "Nepal",
          "Nepal",
          "Nepal",
          "Nepal"
         ],
         "xaxis": "x",
         "y": [
          6012867,
          6013280,
          6013666,
          6013833,
          6013947,
          6013984
         ],
         "yaxis": "y"
        },
        {
         "alignmentgroup": "True",
         "hovertemplate": "Country,Other=%{x}<br>TotalTests=%{y}<extra></extra>",
         "legendgroup": "Saudi Arabia",
         "marker": {
          "color": "#FFA15A",
          "pattern": {
           "shape": ""
          }
         },
         "name": "Saudi Arabia",
         "offsetgroup": "Saudi Arabia",
         "orientation": "v",
         "showlegend": true,
         "textposition": "auto",
         "type": "bar",
         "x": [
          "Saudi Arabia",
          "Saudi Arabia",
          "Saudi Arabia",
          "Saudi Arabia",
          "Saudi Arabia",
          "Saudi Arabia"
         ],
         "xaxis": "x",
         "y": [
          45140040,
          45144125,
          45148294,
          45151519,
          45151519,
          45151519
         ],
         "yaxis": "y"
        },
        {
         "alignmentgroup": "True",
         "hovertemplate": "Country,Other=%{x}<br>TotalTests=%{y}<extra></extra>",
         "legendgroup": "Azerbaijan",
         "marker": {
          "color": "#19d3f3",
          "pattern": {
           "shape": ""
          }
         },
         "name": "Azerbaijan",
         "offsetgroup": "Azerbaijan",
         "orientation": "v",
         "showlegend": true,
         "textposition": "auto",
         "type": "bar",
         "x": [
          "Azerbaijan",
          "Azerbaijan",
          "Azerbaijan",
          "Azerbaijan",
          "Azerbaijan",
          "Azerbaijan"
         ],
         "xaxis": "x",
         "y": [
          7522178,
          7524850,
          7526899,
          7529191,
          7530018,
          7531433
         ],
         "yaxis": "y"
        },
        {
         "alignmentgroup": "True",
         "hovertemplate": "Country,Other=%{x}<br>TotalTests=%{y}<extra></extra>",
         "legendgroup": "Bahrain",
         "marker": {
          "color": "#FF6692",
          "pattern": {
           "shape": ""
          }
         },
         "name": "Bahrain",
         "offsetgroup": "Bahrain",
         "orientation": "v",
         "showlegend": true,
         "textposition": "auto",
         "type": "bar",
         "x": [
          "Bahrain",
          "Bahrain",
          "Bahrain",
          "Bahrain",
          "Bahrain",
          "Bahrain"
         ],
         "xaxis": "x",
         "y": [
          10735877,
          10737695,
          10739428,
          10741126,
          10742269,
          10743440
         ],
         "yaxis": "y"
        },
        {
         "alignmentgroup": "True",
         "hovertemplate": "Country,Other=%{x}<br>TotalTests=%{y}<extra></extra>",
         "legendgroup": "Sri Lanka",
         "marker": {
          "color": "#B6E880",
          "pattern": {
           "shape": ""
          }
         },
         "name": "Sri Lanka",
         "offsetgroup": "Sri Lanka",
         "orientation": "v",
         "showlegend": true,
         "textposition": "auto",
         "type": "bar",
         "x": [
          "Sri Lanka",
          "Sri Lanka",
          "Sri Lanka",
          "Sri Lanka",
          "Sri Lanka",
          "Sri Lanka"
         ],
         "xaxis": "x",
         "y": [
          6486117,
          6486117,
          6486117,
          6486117,
          6486117,
          6486117
         ],
         "yaxis": "y"
        },
        {
         "alignmentgroup": "True",
         "hovertemplate": "Country,Other=%{x}<br>TotalTests=%{y}<extra></extra>",
         "legendgroup": "Kuwait",
         "marker": {
          "color": "#FF97FF",
          "pattern": {
           "shape": ""
          }
         },
         "name": "Kuwait",
         "offsetgroup": "Kuwait",
         "orientation": "v",
         "showlegend": true,
         "textposition": "auto",
         "type": "bar",
         "x": [
          "Kuwait",
          "Kuwait",
          "Kuwait",
          "Kuwait",
          "Kuwait",
          "Kuwait"
         ],
         "xaxis": "x",
         "y": [
          8455743,
          8455743,
          8455743,
          8455743,
          8455743,
          8455743
         ],
         "yaxis": "y"
        },
        {
         "alignmentgroup": "True",
         "hovertemplate": "Country,Other=%{x}<br>TotalTests=%{y}<extra></extra>",
         "legendgroup": "Cyprus",
         "marker": {
          "color": "#FECB52",
          "pattern": {
           "shape": ""
          }
         },
         "name": "Cyprus",
         "offsetgroup": "Cyprus",
         "orientation": "v",
         "showlegend": true,
         "textposition": "auto",
         "type": "bar",
         "x": [
          "Cyprus",
          "Cyprus",
          "Cyprus",
          "Cyprus",
          "Cyprus",
          "Cyprus"
         ],
         "xaxis": "x",
         "y": [
          9640118,
          9640118,
          9640118,
          9640118,
          9640118,
          9640118
         ],
         "yaxis": "y"
        },
        {
         "alignmentgroup": "True",
         "hovertemplate": "Country,Other=%{x}<br>TotalTests=%{y}<extra></extra>",
         "legendgroup": "Myanmar",
         "marker": {
          "color": "#636efa",
          "pattern": {
           "shape": ""
          }
         },
         "name": "Myanmar",
         "offsetgroup": "Myanmar",
         "orientation": "v",
         "showlegend": true,
         "textposition": "auto",
         "type": "bar",
         "x": [
          "Myanmar",
          "Myanmar",
          "Myanmar",
          "Myanmar",
          "Myanmar",
          "Myanmar"
         ],
         "xaxis": "x",
         "y": [
          10047850,
          10053350,
          10057159,
          10061205,
          10064165,
          10068417
         ],
         "yaxis": "y"
        },
        {
         "alignmentgroup": "True",
         "hovertemplate": "Country,Other=%{x}<br>TotalTests=%{y}<extra></extra>",
         "legendgroup": "Palestine",
         "marker": {
          "color": "#EF553B",
          "pattern": {
           "shape": ""
          }
         },
         "name": "Palestine",
         "offsetgroup": "Palestine",
         "orientation": "v",
         "showlegend": true,
         "textposition": "auto",
         "type": "bar",
         "x": [
          "Palestine",
          "Palestine",
          "Palestine",
          "Palestine",
          "Palestine",
          "Palestine"
         ],
         "xaxis": "x",
         "y": [
          3078533,
          3078533,
          3078533,
          3078533,
          3078533,
          3078533
         ],
         "yaxis": "y"
        },
        {
         "alignmentgroup": "True",
         "hovertemplate": "Country,Other=%{x}<br>TotalTests=%{y}<extra></extra>",
         "legendgroup": "China",
         "marker": {
          "color": "#00cc96",
          "pattern": {
           "shape": ""
          }
         },
         "name": "China",
         "offsetgroup": "China",
         "orientation": "v",
         "showlegend": true,
         "textposition": "auto",
         "type": "bar",
         "x": [
          "China",
          "China",
          "China",
          "China",
          "China",
          "China"
         ],
         "xaxis": "x",
         "y": [
          160000000,
          160000000,
          160000000,
          160000000,
          160000000,
          160000000
         ],
         "yaxis": "y"
        },
        {
         "alignmentgroup": "True",
         "hovertemplate": "Country,Other=%{x}<br>TotalTests=%{y}<extra></extra>",
         "legendgroup": "Qatar",
         "marker": {
          "color": "#ab63fa",
          "pattern": {
           "shape": ""
          }
         },
         "name": "Qatar",
         "offsetgroup": "Qatar",
         "orientation": "v",
         "showlegend": true,
         "textposition": "auto",
         "type": "bar",
         "x": [
          "Qatar",
          "Qatar",
          "Qatar",
          "Qatar",
          "Qatar",
          "Qatar"
         ],
         "xaxis": "x",
         "y": [
          4065369,
          4065369,
          4065369,
          4065369,
          4065369,
          4065369
         ],
         "yaxis": "y"
        },
        {
         "alignmentgroup": "True",
         "hovertemplate": "Country,Other=%{x}<br>TotalTests=%{y}<extra></extra>",
         "legendgroup": "Armenia",
         "marker": {
          "color": "#FFA15A",
          "pattern": {
           "shape": ""
          }
         },
         "name": "Armenia",
         "offsetgroup": "Armenia",
         "orientation": "v",
         "showlegend": true,
         "textposition": "auto",
         "type": "bar",
         "x": [
          "Armenia",
          "Armenia",
          "Armenia",
          "Armenia",
          "Armenia",
          "Armenia"
         ],
         "xaxis": "x",
         "y": [
          3242901,
          3242901,
          3242901,
          3242901,
          3242901,
          3242901
         ],
         "yaxis": "y"
        },
        {
         "alignmentgroup": "True",
         "hovertemplate": "Country,Other=%{x}<br>TotalTests=%{y}<extra></extra>",
         "legendgroup": "Oman",
         "marker": {
          "color": "#19d3f3",
          "pattern": {
           "shape": ""
          }
         },
         "name": "Oman",
         "offsetgroup": "Oman",
         "orientation": "v",
         "showlegend": true,
         "textposition": "auto",
         "type": "bar",
         "x": [
          "Oman",
          "Oman",
          "Oman",
          "Oman",
          "Oman",
          "Oman"
         ],
         "xaxis": "x",
         "y": [
          25000000,
          25000000,
          25000000,
          25000000,
          25000000,
          25000000
         ],
         "yaxis": "y"
        },
        {
         "alignmentgroup": "True",
         "hovertemplate": "Country,Other=%{x}<br>TotalTests=%{y}<extra></extra>",
         "legendgroup": "Brunei",
         "marker": {
          "color": "#FF6692",
          "pattern": {
           "shape": ""
          }
         },
         "name": "Brunei",
         "offsetgroup": "Brunei",
         "orientation": "v",
         "showlegend": true,
         "textposition": "auto",
         "type": "bar",
         "x": [
          "Brunei",
          "Brunei",
          "Brunei",
          "Brunei",
          "Brunei",
          "Brunei"
         ],
         "xaxis": "x",
         "y": [
          717784,
          717784,
          717784,
          717784,
          717784,
          717784
         ],
         "yaxis": "y"
        },
        {
         "alignmentgroup": "True",
         "hovertemplate": "Country,Other=%{x}<br>TotalTests=%{y}<extra></extra>",
         "legendgroup": "Uzbekistan",
         "marker": {
          "color": "#B6E880",
          "pattern": {
           "shape": ""
          }
         },
         "name": "Uzbekistan",
         "offsetgroup": "Uzbekistan",
         "orientation": "v",
         "showlegend": true,
         "textposition": "auto",
         "type": "bar",
         "x": [
          "Uzbekistan",
          "Uzbekistan",
          "Uzbekistan",
          "Uzbekistan",
          "Uzbekistan",
          "Uzbekistan"
         ],
         "xaxis": "x",
         "y": [
          1377915,
          1377915,
          1377915,
          1377915,
          1377915,
          1377915
         ],
         "yaxis": "y"
        },
        {
         "alignmentgroup": "True",
         "hovertemplate": "Country,Other=%{x}<br>TotalTests=%{y}<extra></extra>",
         "legendgroup": "Afghanistan",
         "marker": {
          "color": "#FF97FF",
          "pattern": {
           "shape": ""
          }
         },
         "name": "Afghanistan",
         "offsetgroup": "Afghanistan",
         "orientation": "v",
         "showlegend": true,
         "textposition": "auto",
         "type": "bar",
         "x": [
          "Afghanistan",
          "Afghanistan",
          "Afghanistan",
          "Afghanistan",
          "Afghanistan",
          "Afghanistan"
         ],
         "xaxis": "x",
         "y": [
          1200009,
          1200420,
          1201044,
          1201475,
          1201744,
          1202018
         ],
         "yaxis": "y"
        },
        {
         "alignmentgroup": "True",
         "hovertemplate": "Country,Other=%{x}<br>TotalTests=%{y}<extra></extra>",
         "legendgroup": "Kyrgyzstan",
         "marker": {
          "color": "#FECB52",
          "pattern": {
           "shape": ""
          }
         },
         "name": "Kyrgyzstan",
         "offsetgroup": "Kyrgyzstan",
         "orientation": "v",
         "showlegend": true,
         "textposition": "auto",
         "type": "bar",
         "x": [
          "Kyrgyzstan",
          "Kyrgyzstan",
          "Kyrgyzstan",
          "Kyrgyzstan",
          "Kyrgyzstan",
          "Kyrgyzstan"
         ],
         "xaxis": "x",
         "y": [
          1907195,
          1907195,
          1907195,
          1907195,
          1907195,
          1907195
         ],
         "yaxis": "y"
        },
        {
         "alignmentgroup": "True",
         "hovertemplate": "Country,Other=%{x}<br>TotalTests=%{y}<extra></extra>",
         "legendgroup": "Maldives",
         "marker": {
          "color": "#636efa",
          "pattern": {
           "shape": ""
          }
         },
         "name": "Maldives",
         "offsetgroup": "Maldives",
         "orientation": "v",
         "showlegend": true,
         "textposition": "auto",
         "type": "bar",
         "x": [
          "Maldives",
          "Maldives",
          "Maldives",
          "Maldives",
          "Maldives",
          "Maldives"
         ],
         "xaxis": "x",
         "y": [
          2213831,
          2213831,
          2213831,
          2213831,
          2213831,
          2213831
         ],
         "yaxis": "y"
        },
        {
         "alignmentgroup": "True",
         "hovertemplate": "Country,Other=%{x}<br>TotalTests=%{y}<extra></extra>",
         "legendgroup": "Cambodia",
         "marker": {
          "color": "#EF553B",
          "pattern": {
           "shape": ""
          }
         },
         "name": "Cambodia",
         "offsetgroup": "Cambodia",
         "orientation": "v",
         "showlegend": true,
         "textposition": "auto",
         "type": "bar",
         "x": [
          "Cambodia",
          "Cambodia",
          "Cambodia",
          "Cambodia",
          "Cambodia",
          "Cambodia"
         ],
         "xaxis": "x",
         "y": [
          3091420,
          3091420,
          3091420,
          3091420,
          3091420,
          3091420
         ],
         "yaxis": "y"
        },
        {
         "alignmentgroup": "True",
         "hovertemplate": "Country,Other=%{x}<br>TotalTests=%{y}<extra></extra>",
         "legendgroup": "Bhutan",
         "marker": {
          "color": "#00cc96",
          "pattern": {
           "shape": ""
          }
         },
         "name": "Bhutan",
         "offsetgroup": "Bhutan",
         "orientation": "v",
         "showlegend": true,
         "textposition": "auto",
         "type": "bar",
         "x": [
          "Bhutan",
          "Bhutan",
          "Bhutan",
          "Bhutan",
          "Bhutan",
          "Bhutan"
         ],
         "xaxis": "x",
         "y": [
          2303734,
          2303734,
          2303734,
          2303734,
          2303734,
          2303734
         ],
         "yaxis": "y"
        },
        {
         "alignmentgroup": "True",
         "hovertemplate": "Country,Other=%{x}<br>TotalTests=%{y}<extra></extra>",
         "legendgroup": "Syria",
         "marker": {
          "color": "#ab63fa",
          "pattern": {
           "shape": ""
          }
         },
         "name": "Syria",
         "offsetgroup": "Syria",
         "orientation": "v",
         "showlegend": true,
         "textposition": "auto",
         "type": "bar",
         "x": [
          "Syria",
          "Syria",
          "Syria",
          "Syria",
          "Syria",
          "Syria"
         ],
         "xaxis": "x",
         "y": [
          146269,
          146269,
          146269,
          146269,
          146269,
          146269
         ],
         "yaxis": "y"
        },
        {
         "alignmentgroup": "True",
         "hovertemplate": "Country,Other=%{x}<br>TotalTests=%{y}<extra></extra>",
         "legendgroup": "Timor-Leste",
         "marker": {
          "color": "#FFA15A",
          "pattern": {
           "shape": ""
          }
         },
         "name": "Timor-Leste",
         "offsetgroup": "Timor-Leste",
         "orientation": "v",
         "showlegend": true,
         "textposition": "auto",
         "type": "bar",
         "x": [
          "Timor-Leste",
          "Timor-Leste",
          "Timor-Leste",
          "Timor-Leste",
          "Timor-Leste",
          "Timor-Leste"
         ],
         "xaxis": "x",
         "y": [
          278529,
          278529,
          278529,
          278529,
          278529,
          278529
         ],
         "yaxis": "y"
        },
        {
         "alignmentgroup": "True",
         "hovertemplate": "Country,Other=%{x}<br>TotalTests=%{y}<extra></extra>",
         "legendgroup": "Tajikistan",
         "marker": {
          "color": "#19d3f3",
          "pattern": {
           "shape": ""
          }
         },
         "name": "Tajikistan",
         "offsetgroup": "Tajikistan",
         "orientation": "v",
         "showlegend": true,
         "textposition": "auto",
         "type": "bar",
         "x": [
          "Tajikistan",
          "Tajikistan",
          "Tajikistan",
          "Tajikistan",
          "Tajikistan",
          "Tajikistan"
         ],
         "xaxis": "x",
         "y": [
          0,
          0,
          0,
          0,
          0,
          0
         ],
         "yaxis": "y"
        },
        {
         "alignmentgroup": "True",
         "hovertemplate": "Country,Other=%{x}<br>TotalTests=%{y}<extra></extra>",
         "legendgroup": "Yemen",
         "marker": {
          "color": "#FF6692",
          "pattern": {
           "shape": ""
          }
         },
         "name": "Yemen",
         "offsetgroup": "Yemen",
         "orientation": "v",
         "showlegend": true,
         "textposition": "auto",
         "type": "bar",
         "x": [
          "Yemen",
          "Yemen",
          "Yemen",
          "Yemen",
          "Yemen",
          "Yemen"
         ],
         "xaxis": "x",
         "y": [
          329592,
          329592,
          329592,
          329592,
          329592,
          329592
         ],
         "yaxis": "y"
        },
        {
         "alignmentgroup": "True",
         "hovertemplate": "Country,Other=%{x}<br>TotalTests=%{y}<extra></extra>",
         "legendgroup": "Macao",
         "marker": {
          "color": "#B6E880",
          "pattern": {
           "shape": ""
          }
         },
         "name": "Macao",
         "offsetgroup": "Macao",
         "orientation": "v",
         "showlegend": true,
         "textposition": "auto",
         "type": "bar",
         "x": [
          "Macao",
          "Macao",
          "Macao",
          "Macao",
          "Macao",
          "Macao"
         ],
         "xaxis": "x",
         "y": [
          7850,
          7850,
          7850,
          7850,
          7850,
          7850
         ],
         "yaxis": "y"
        }
       ],
       "layout": {
        "barmode": "relative",
        "legend": {
         "title": {
          "text": "Country,Other"
         },
         "tracegroupgap": 0
        },
        "template": {
         "data": {
          "bar": [
           {
            "error_x": {
             "color": "#2a3f5f"
            },
            "error_y": {
             "color": "#2a3f5f"
            },
            "marker": {
             "line": {
              "color": "#E5ECF6",
              "width": 0.5
             },
             "pattern": {
              "fillmode": "overlay",
              "size": 10,
              "solidity": 0.2
             }
            },
            "type": "bar"
           }
          ],
          "barpolar": [
           {
            "marker": {
             "line": {
              "color": "#E5ECF6",
              "width": 0.5
             },
             "pattern": {
              "fillmode": "overlay",
              "size": 10,
              "solidity": 0.2
             }
            },
            "type": "barpolar"
           }
          ],
          "carpet": [
           {
            "aaxis": {
             "endlinecolor": "#2a3f5f",
             "gridcolor": "white",
             "linecolor": "white",
             "minorgridcolor": "white",
             "startlinecolor": "#2a3f5f"
            },
            "baxis": {
             "endlinecolor": "#2a3f5f",
             "gridcolor": "white",
             "linecolor": "white",
             "minorgridcolor": "white",
             "startlinecolor": "#2a3f5f"
            },
            "type": "carpet"
           }
          ],
          "choropleth": [
           {
            "colorbar": {
             "outlinewidth": 0,
             "ticks": ""
            },
            "type": "choropleth"
           }
          ],
          "contour": [
           {
            "colorbar": {
             "outlinewidth": 0,
             "ticks": ""
            },
            "colorscale": [
             [
              0,
              "#0d0887"
             ],
             [
              0.1111111111111111,
              "#46039f"
             ],
             [
              0.2222222222222222,
              "#7201a8"
             ],
             [
              0.3333333333333333,
              "#9c179e"
             ],
             [
              0.4444444444444444,
              "#bd3786"
             ],
             [
              0.5555555555555556,
              "#d8576b"
             ],
             [
              0.6666666666666666,
              "#ed7953"
             ],
             [
              0.7777777777777778,
              "#fb9f3a"
             ],
             [
              0.8888888888888888,
              "#fdca26"
             ],
             [
              1,
              "#f0f921"
             ]
            ],
            "type": "contour"
           }
          ],
          "contourcarpet": [
           {
            "colorbar": {
             "outlinewidth": 0,
             "ticks": ""
            },
            "type": "contourcarpet"
           }
          ],
          "heatmap": [
           {
            "colorbar": {
             "outlinewidth": 0,
             "ticks": ""
            },
            "colorscale": [
             [
              0,
              "#0d0887"
             ],
             [
              0.1111111111111111,
              "#46039f"
             ],
             [
              0.2222222222222222,
              "#7201a8"
             ],
             [
              0.3333333333333333,
              "#9c179e"
             ],
             [
              0.4444444444444444,
              "#bd3786"
             ],
             [
              0.5555555555555556,
              "#d8576b"
             ],
             [
              0.6666666666666666,
              "#ed7953"
             ],
             [
              0.7777777777777778,
              "#fb9f3a"
             ],
             [
              0.8888888888888888,
              "#fdca26"
             ],
             [
              1,
              "#f0f921"
             ]
            ],
            "type": "heatmap"
           }
          ],
          "heatmapgl": [
           {
            "colorbar": {
             "outlinewidth": 0,
             "ticks": ""
            },
            "colorscale": [
             [
              0,
              "#0d0887"
             ],
             [
              0.1111111111111111,
              "#46039f"
             ],
             [
              0.2222222222222222,
              "#7201a8"
             ],
             [
              0.3333333333333333,
              "#9c179e"
             ],
             [
              0.4444444444444444,
              "#bd3786"
             ],
             [
              0.5555555555555556,
              "#d8576b"
             ],
             [
              0.6666666666666666,
              "#ed7953"
             ],
             [
              0.7777777777777778,
              "#fb9f3a"
             ],
             [
              0.8888888888888888,
              "#fdca26"
             ],
             [
              1,
              "#f0f921"
             ]
            ],
            "type": "heatmapgl"
           }
          ],
          "histogram": [
           {
            "marker": {
             "pattern": {
              "fillmode": "overlay",
              "size": 10,
              "solidity": 0.2
             }
            },
            "type": "histogram"
           }
          ],
          "histogram2d": [
           {
            "colorbar": {
             "outlinewidth": 0,
             "ticks": ""
            },
            "colorscale": [
             [
              0,
              "#0d0887"
             ],
             [
              0.1111111111111111,
              "#46039f"
             ],
             [
              0.2222222222222222,
              "#7201a8"
             ],
             [
              0.3333333333333333,
              "#9c179e"
             ],
             [
              0.4444444444444444,
              "#bd3786"
             ],
             [
              0.5555555555555556,
              "#d8576b"
             ],
             [
              0.6666666666666666,
              "#ed7953"
             ],
             [
              0.7777777777777778,
              "#fb9f3a"
             ],
             [
              0.8888888888888888,
              "#fdca26"
             ],
             [
              1,
              "#f0f921"
             ]
            ],
            "type": "histogram2d"
           }
          ],
          "histogram2dcontour": [
           {
            "colorbar": {
             "outlinewidth": 0,
             "ticks": ""
            },
            "colorscale": [
             [
              0,
              "#0d0887"
             ],
             [
              0.1111111111111111,
              "#46039f"
             ],
             [
              0.2222222222222222,
              "#7201a8"
             ],
             [
              0.3333333333333333,
              "#9c179e"
             ],
             [
              0.4444444444444444,
              "#bd3786"
             ],
             [
              0.5555555555555556,
              "#d8576b"
             ],
             [
              0.6666666666666666,
              "#ed7953"
             ],
             [
              0.7777777777777778,
              "#fb9f3a"
             ],
             [
              0.8888888888888888,
              "#fdca26"
             ],
             [
              1,
              "#f0f921"
             ]
            ],
            "type": "histogram2dcontour"
           }
          ],
          "mesh3d": [
           {
            "colorbar": {
             "outlinewidth": 0,
             "ticks": ""
            },
            "type": "mesh3d"
           }
          ],
          "parcoords": [
           {
            "line": {
             "colorbar": {
              "outlinewidth": 0,
              "ticks": ""
             }
            },
            "type": "parcoords"
           }
          ],
          "pie": [
           {
            "automargin": true,
            "type": "pie"
           }
          ],
          "scatter": [
           {
            "fillpattern": {
             "fillmode": "overlay",
             "size": 10,
             "solidity": 0.2
            },
            "type": "scatter"
           }
          ],
          "scatter3d": [
           {
            "line": {
             "colorbar": {
              "outlinewidth": 0,
              "ticks": ""
             }
            },
            "marker": {
             "colorbar": {
              "outlinewidth": 0,
              "ticks": ""
             }
            },
            "type": "scatter3d"
           }
          ],
          "scattercarpet": [
           {
            "marker": {
             "colorbar": {
              "outlinewidth": 0,
              "ticks": ""
             }
            },
            "type": "scattercarpet"
           }
          ],
          "scattergeo": [
           {
            "marker": {
             "colorbar": {
              "outlinewidth": 0,
              "ticks": ""
             }
            },
            "type": "scattergeo"
           }
          ],
          "scattergl": [
           {
            "marker": {
             "colorbar": {
              "outlinewidth": 0,
              "ticks": ""
             }
            },
            "type": "scattergl"
           }
          ],
          "scattermapbox": [
           {
            "marker": {
             "colorbar": {
              "outlinewidth": 0,
              "ticks": ""
             }
            },
            "type": "scattermapbox"
           }
          ],
          "scatterpolar": [
           {
            "marker": {
             "colorbar": {
              "outlinewidth": 0,
              "ticks": ""
             }
            },
            "type": "scatterpolar"
           }
          ],
          "scatterpolargl": [
           {
            "marker": {
             "colorbar": {
              "outlinewidth": 0,
              "ticks": ""
             }
            },
            "type": "scatterpolargl"
           }
          ],
          "scatterternary": [
           {
            "marker": {
             "colorbar": {
              "outlinewidth": 0,
              "ticks": ""
             }
            },
            "type": "scatterternary"
           }
          ],
          "surface": [
           {
            "colorbar": {
             "outlinewidth": 0,
             "ticks": ""
            },
            "colorscale": [
             [
              0,
              "#0d0887"
             ],
             [
              0.1111111111111111,
              "#46039f"
             ],
             [
              0.2222222222222222,
              "#7201a8"
             ],
             [
              0.3333333333333333,
              "#9c179e"
             ],
             [
              0.4444444444444444,
              "#bd3786"
             ],
             [
              0.5555555555555556,
              "#d8576b"
             ],
             [
              0.6666666666666666,
              "#ed7953"
             ],
             [
              0.7777777777777778,
              "#fb9f3a"
             ],
             [
              0.8888888888888888,
              "#fdca26"
             ],
             [
              1,
              "#f0f921"
             ]
            ],
            "type": "surface"
           }
          ],
          "table": [
           {
            "cells": {
             "fill": {
              "color": "#EBF0F8"
             },
             "line": {
              "color": "white"
             }
            },
            "header": {
             "fill": {
              "color": "#C8D4E3"
             },
             "line": {
              "color": "white"
             }
            },
            "type": "table"
           }
          ]
         },
         "layout": {
          "annotationdefaults": {
           "arrowcolor": "#2a3f5f",
           "arrowhead": 0,
           "arrowwidth": 1
          },
          "autotypenumbers": "strict",
          "coloraxis": {
           "colorbar": {
            "outlinewidth": 0,
            "ticks": ""
           }
          },
          "colorscale": {
           "diverging": [
            [
             0,
             "#8e0152"
            ],
            [
             0.1,
             "#c51b7d"
            ],
            [
             0.2,
             "#de77ae"
            ],
            [
             0.3,
             "#f1b6da"
            ],
            [
             0.4,
             "#fde0ef"
            ],
            [
             0.5,
             "#f7f7f7"
            ],
            [
             0.6,
             "#e6f5d0"
            ],
            [
             0.7,
             "#b8e186"
            ],
            [
             0.8,
             "#7fbc41"
            ],
            [
             0.9,
             "#4d9221"
            ],
            [
             1,
             "#276419"
            ]
           ],
           "sequential": [
            [
             0,
             "#0d0887"
            ],
            [
             0.1111111111111111,
             "#46039f"
            ],
            [
             0.2222222222222222,
             "#7201a8"
            ],
            [
             0.3333333333333333,
             "#9c179e"
            ],
            [
             0.4444444444444444,
             "#bd3786"
            ],
            [
             0.5555555555555556,
             "#d8576b"
            ],
            [
             0.6666666666666666,
             "#ed7953"
            ],
            [
             0.7777777777777778,
             "#fb9f3a"
            ],
            [
             0.8888888888888888,
             "#fdca26"
            ],
            [
             1,
             "#f0f921"
            ]
           ],
           "sequentialminus": [
            [
             0,
             "#0d0887"
            ],
            [
             0.1111111111111111,
             "#46039f"
            ],
            [
             0.2222222222222222,
             "#7201a8"
            ],
            [
             0.3333333333333333,
             "#9c179e"
            ],
            [
             0.4444444444444444,
             "#bd3786"
            ],
            [
             0.5555555555555556,
             "#d8576b"
            ],
            [
             0.6666666666666666,
             "#ed7953"
            ],
            [
             0.7777777777777778,
             "#fb9f3a"
            ],
            [
             0.8888888888888888,
             "#fdca26"
            ],
            [
             1,
             "#f0f921"
            ]
           ]
          },
          "colorway": [
           "#636efa",
           "#EF553B",
           "#00cc96",
           "#ab63fa",
           "#FFA15A",
           "#19d3f3",
           "#FF6692",
           "#B6E880",
           "#FF97FF",
           "#FECB52"
          ],
          "font": {
           "color": "#2a3f5f"
          },
          "geo": {
           "bgcolor": "white",
           "lakecolor": "white",
           "landcolor": "#E5ECF6",
           "showlakes": true,
           "showland": true,
           "subunitcolor": "white"
          },
          "hoverlabel": {
           "align": "left"
          },
          "hovermode": "closest",
          "mapbox": {
           "style": "light"
          },
          "paper_bgcolor": "white",
          "plot_bgcolor": "#E5ECF6",
          "polar": {
           "angularaxis": {
            "gridcolor": "white",
            "linecolor": "white",
            "ticks": ""
           },
           "bgcolor": "#E5ECF6",
           "radialaxis": {
            "gridcolor": "white",
            "linecolor": "white",
            "ticks": ""
           }
          },
          "scene": {
           "xaxis": {
            "backgroundcolor": "#E5ECF6",
            "gridcolor": "white",
            "gridwidth": 2,
            "linecolor": "white",
            "showbackground": true,
            "ticks": "",
            "zerolinecolor": "white"
           },
           "yaxis": {
            "backgroundcolor": "#E5ECF6",
            "gridcolor": "white",
            "gridwidth": 2,
            "linecolor": "white",
            "showbackground": true,
            "ticks": "",
            "zerolinecolor": "white"
           },
           "zaxis": {
            "backgroundcolor": "#E5ECF6",
            "gridcolor": "white",
            "gridwidth": 2,
            "linecolor": "white",
            "showbackground": true,
            "ticks": "",
            "zerolinecolor": "white"
           }
          },
          "shapedefaults": {
           "line": {
            "color": "#2a3f5f"
           }
          },
          "ternary": {
           "aaxis": {
            "gridcolor": "white",
            "linecolor": "white",
            "ticks": ""
           },
           "baxis": {
            "gridcolor": "white",
            "linecolor": "white",
            "ticks": ""
           },
           "bgcolor": "#E5ECF6",
           "caxis": {
            "gridcolor": "white",
            "linecolor": "white",
            "ticks": ""
           }
          },
          "title": {
           "x": 0.05
          },
          "xaxis": {
           "automargin": true,
           "gridcolor": "white",
           "linecolor": "white",
           "ticks": "",
           "title": {
            "standoff": 15
           },
           "zerolinecolor": "white",
           "zerolinewidth": 2
          },
          "yaxis": {
           "automargin": true,
           "gridcolor": "white",
           "linecolor": "white",
           "ticks": "",
           "title": {
            "standoff": 15
           },
           "zerolinecolor": "white",
           "zerolinewidth": 2
          }
         }
        },
        "title": {
         "text": "TotalTests"
        },
        "xaxis": {
         "anchor": "y",
         "categoryarray": [
          "Vietnam",
          "India",
          "Japan",
          "S. Korea",
          "Taiwan",
          "Iran",
          "Indonesia",
          "Malaysia",
          "Israel",
          "DPRK",
          "Thailand",
          "Philippines",
          "Hong Kong",
          "Iraq",
          "Singapore",
          "Bangladesh",
          "Georgia",
          "Jordan",
          "Pakistan",
          "Kazakhstan",
          "Lebanon",
          "UAE",
          "Mongolia",
          "Nepal",
          "Saudi Arabia",
          "Azerbaijan",
          "Bahrain",
          "Sri Lanka",
          "Kuwait",
          "Cyprus",
          "Myanmar",
          "Palestine",
          "China",
          "Qatar",
          "Armenia",
          "Oman",
          "Brunei",
          "Uzbekistan",
          "Afghanistan",
          "Kyrgyzstan",
          "Maldives",
          "Cambodia",
          "Bhutan",
          "Syria",
          "Timor-Leste",
          "Tajikistan",
          "Yemen",
          "Macao"
         ],
         "categoryorder": "array",
         "domain": [
          0,
          1
         ],
         "title": {
          "text": "Country,Other"
         }
        },
        "yaxis": {
         "anchor": "x",
         "domain": [
          0,
          1
         ],
         "title": {
          "text": "TotalTests"
         }
        }
       }
      }
     },
     "metadata": {},
     "output_type": "display_data"
    }
   ],
   "source": [
    "#total test in asia countries with bar chart\n",
    "fig = px.bar(df_asia, x='Country,Other', y='TotalTests', color='Country,Other', title='TotalTests')\n",
    "fig.show()"
   ]
  },
  {
   "attachments": {},
   "cell_type": "markdown",
   "metadata": {},
   "source": [
    "Về việc thực hiện test covid-19, ta thấy rằng các quốc gia có số ca nhiễm cao nhất thì số ca test cũng cao nhất, đồng thời số ca test cũng cao nhất ở các quốc gia có dân số đông nhất khu vực Châu Á"
   ]
  }
 ],
 "metadata": {
  "kernelspec": {
   "display_name": "ds_env",
   "language": "python",
   "name": "python3"
  },
  "language_info": {
   "codemirror_mode": {
    "name": "ipython",
    "version": 3
   },
   "file_extension": ".py",
   "mimetype": "text/x-python",
   "name": "python",
   "nbconvert_exporter": "python",
   "pygments_lexer": "ipython3",
   "version": "3.10.4"
  },
  "orig_nbformat": 4,
  "vscode": {
   "interpreter": {
    "hash": "5a39266e253d2232bdcfea4787bc8a2bea12a000d699c6a176931f88f75ea162"
   }
  }
 },
 "nbformat": 4,
 "nbformat_minor": 2
}
